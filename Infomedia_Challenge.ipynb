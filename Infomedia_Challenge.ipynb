{
 "cells": [
  {
   "cell_type": "code",
   "execution_count": 1,
   "metadata": {},
   "outputs": [],
   "source": [
    "import pandas as pd\n",
    "import matplotlib.pyplot as plt\n",
    "import numpy as np\n",
    "from google_trans_new import google_translator\n",
    "\n",
    "translator = google_translator() "
   ]
  },
  {
   "cell_type": "markdown",
   "metadata": {},
   "source": [
    "# Data Analysis & Cleaning"
   ]
  },
  {
   "cell_type": "markdown",
   "metadata": {},
   "source": [
    "First, it is necessary to look into the dataset and compute some statistics to get an overview of its main characteristics."
   ]
  },
  {
   "cell_type": "code",
   "execution_count": 2,
   "metadata": {},
   "outputs": [
    {
     "data": {
      "text/html": [
       "<div>\n",
       "<style scoped>\n",
       "    .dataframe tbody tr th:only-of-type {\n",
       "        vertical-align: middle;\n",
       "    }\n",
       "\n",
       "    .dataframe tbody tr th {\n",
       "        vertical-align: top;\n",
       "    }\n",
       "\n",
       "    .dataframe thead th {\n",
       "        text-align: right;\n",
       "    }\n",
       "</style>\n",
       "<table border=\"1\" class=\"dataframe\">\n",
       "  <thead>\n",
       "    <tr style=\"text-align: right;\">\n",
       "      <th></th>\n",
       "      <th>topic</th>\n",
       "      <th>doc_id</th>\n",
       "      <th>label</th>\n",
       "      <th>doc_pred</th>\n",
       "      <th>-</th>\n",
       "      <th>bert_sentiment</th>\n",
       "      <th>lexicon_sentiment</th>\n",
       "      <th>topical</th>\n",
       "      <th>topic_similarity</th>\n",
       "      <th>tokens</th>\n",
       "      <th>entities</th>\n",
       "      <th>Column1</th>\n",
       "      <th>text</th>\n",
       "      <th>sent_id</th>\n",
       "    </tr>\n",
       "  </thead>\n",
       "  <tbody>\n",
       "    <tr>\n",
       "      <th>0</th>\n",
       "      <td>Donald Trump</td>\n",
       "      <td>24</td>\n",
       "      <td>0</td>\n",
       "      <td>0.660882</td>\n",
       "      <td>NaN</td>\n",
       "      <td>0.237890</td>\n",
       "      <td>1.023380</td>\n",
       "      <td>0</td>\n",
       "      <td>0</td>\n",
       "      <td>11</td>\n",
       "      <td>1</td>\n",
       "      <td>57</td>\n",
       "      <td>Vinder Real Madrid Champions League for fjerde...</td>\n",
       "      <td>72</td>\n",
       "    </tr>\n",
       "    <tr>\n",
       "      <th>1</th>\n",
       "      <td>Donald Trump</td>\n",
       "      <td>24</td>\n",
       "      <td>0</td>\n",
       "      <td>0.660882</td>\n",
       "      <td>NaN</td>\n",
       "      <td>-0.193494</td>\n",
       "      <td>0.977107</td>\n",
       "      <td>0</td>\n",
       "      <td>0</td>\n",
       "      <td>7</td>\n",
       "      <td>1</td>\n",
       "      <td>50</td>\n",
       "      <td>Vinder Caroline Wozniacki en Grand Slam-turner...</td>\n",
       "      <td>16</td>\n",
       "    </tr>\n",
       "    <tr>\n",
       "      <th>2</th>\n",
       "      <td>Donald Trump</td>\n",
       "      <td>24</td>\n",
       "      <td>0</td>\n",
       "      <td>0.660882</td>\n",
       "      <td>NaN</td>\n",
       "      <td>-1.182156</td>\n",
       "      <td>-0.061737</td>\n",
       "      <td>1</td>\n",
       "      <td>0</td>\n",
       "      <td>12</td>\n",
       "      <td>2</td>\n",
       "      <td>81</td>\n",
       "      <td>Vil Demokraterne i Repræsentanternes Hus indle...</td>\n",
       "      <td>48</td>\n",
       "    </tr>\n",
       "    <tr>\n",
       "      <th>3</th>\n",
       "      <td>Joe Biden</td>\n",
       "      <td>1</td>\n",
       "      <td>0</td>\n",
       "      <td>-1.149904</td>\n",
       "      <td>NaN</td>\n",
       "      <td>0.825722</td>\n",
       "      <td>0.440000</td>\n",
       "      <td>0</td>\n",
       "      <td>0</td>\n",
       "      <td>13</td>\n",
       "      <td>2</td>\n",
       "      <td>62</td>\n",
       "      <td>Vi vil vinde,\" skriver han på Twitter efter Pe...</td>\n",
       "      <td>13</td>\n",
       "    </tr>\n",
       "    <tr>\n",
       "      <th>4</th>\n",
       "      <td>Donald Trump</td>\n",
       "      <td>26</td>\n",
       "      <td>-1</td>\n",
       "      <td>-1.426556</td>\n",
       "      <td>NaN</td>\n",
       "      <td>0.193577</td>\n",
       "      <td>-0.111888</td>\n",
       "      <td>1</td>\n",
       "      <td>0</td>\n",
       "      <td>15</td>\n",
       "      <td>1</td>\n",
       "      <td>67</td>\n",
       "      <td>Vi er nødt til rent faktisk at gøre en forskel...</td>\n",
       "      <td>10</td>\n",
       "    </tr>\n",
       "    <tr>\n",
       "      <th>...</th>\n",
       "      <td>...</td>\n",
       "      <td>...</td>\n",
       "      <td>...</td>\n",
       "      <td>...</td>\n",
       "      <td>...</td>\n",
       "      <td>...</td>\n",
       "      <td>...</td>\n",
       "      <td>...</td>\n",
       "      <td>...</td>\n",
       "      <td>...</td>\n",
       "      <td>...</td>\n",
       "      <td>...</td>\n",
       "      <td>...</td>\n",
       "      <td>...</td>\n",
       "    </tr>\n",
       "    <tr>\n",
       "      <th>200</th>\n",
       "      <td>Boris Johnson</td>\n",
       "      <td>4</td>\n",
       "      <td>-1</td>\n",
       "      <td>-1.055707</td>\n",
       "      <td>NaN</td>\n",
       "      <td>-0.919533</td>\n",
       "      <td>-0.085106</td>\n",
       "      <td>0</td>\n",
       "      <td>0</td>\n",
       "      <td>15</td>\n",
       "      <td>0</td>\n",
       "      <td>64</td>\n",
       "      <td>\"Det er ikke noget, jeg nogensinde vil kunne f...</td>\n",
       "      <td>5</td>\n",
       "    </tr>\n",
       "    <tr>\n",
       "      <th>201</th>\n",
       "      <td>Donald Trump</td>\n",
       "      <td>28</td>\n",
       "      <td>2</td>\n",
       "      <td>-0.873057</td>\n",
       "      <td>NaN</td>\n",
       "      <td>0.640317</td>\n",
       "      <td>0.216216</td>\n",
       "      <td>0</td>\n",
       "      <td>0</td>\n",
       "      <td>11</td>\n",
       "      <td>0</td>\n",
       "      <td>52</td>\n",
       "      <td>\" MADS FUGLEDE, VÆRT FOR PODCASTEN \"KAMPAGNESP...</td>\n",
       "      <td>22</td>\n",
       "    </tr>\n",
       "    <tr>\n",
       "      <th>202</th>\n",
       "      <td>Donald Trump</td>\n",
       "      <td>38</td>\n",
       "      <td>-2</td>\n",
       "      <td>-1.374837</td>\n",
       "      <td>NaN</td>\n",
       "      <td>-0.803127</td>\n",
       "      <td>-0.125000</td>\n",
       "      <td>0</td>\n",
       "      <td>0</td>\n",
       "      <td>10</td>\n",
       "      <td>1</td>\n",
       "      <td>58</td>\n",
       "      <td>\" Indalik Høegh har svært ved at seGrønlandsom...</td>\n",
       "      <td>17</td>\n",
       "    </tr>\n",
       "    <tr>\n",
       "      <th>203</th>\n",
       "      <td>Donald Trump</td>\n",
       "      <td>6</td>\n",
       "      <td>2</td>\n",
       "      <td>-0.724118</td>\n",
       "      <td>NaN</td>\n",
       "      <td>-0.282931</td>\n",
       "      <td>0.036364</td>\n",
       "      <td>0</td>\n",
       "      <td>0</td>\n",
       "      <td>18</td>\n",
       "      <td>0</td>\n",
       "      <td>68</td>\n",
       "      <td>- Det har taget mange årtier at nå hertil, lad...</td>\n",
       "      <td>16</td>\n",
       "    </tr>\n",
       "    <tr>\n",
       "      <th>204</th>\n",
       "      <td>Donald Trump</td>\n",
       "      <td>6</td>\n",
       "      <td>2</td>\n",
       "      <td>-0.724118</td>\n",
       "      <td>NaN</td>\n",
       "      <td>0.499768</td>\n",
       "      <td>0.869565</td>\n",
       "      <td>0</td>\n",
       "      <td>0</td>\n",
       "      <td>13</td>\n",
       "      <td>2</td>\n",
       "      <td>61</td>\n",
       "      <td>- De behandler os med stor respekt, sagde Trum...</td>\n",
       "      <td>19</td>\n",
       "    </tr>\n",
       "  </tbody>\n",
       "</table>\n",
       "<p>205 rows × 14 columns</p>\n",
       "</div>"
      ],
      "text/plain": [
       "             topic  doc_id  label  doc_pred   -  bert_sentiment  \\\n",
       "0     Donald Trump      24      0  0.660882 NaN        0.237890   \n",
       "1     Donald Trump      24      0  0.660882 NaN       -0.193494   \n",
       "2     Donald Trump      24      0  0.660882 NaN       -1.182156   \n",
       "3        Joe Biden       1      0 -1.149904 NaN        0.825722   \n",
       "4     Donald Trump      26     -1 -1.426556 NaN        0.193577   \n",
       "..             ...     ...    ...       ...  ..             ...   \n",
       "200  Boris Johnson       4     -1 -1.055707 NaN       -0.919533   \n",
       "201   Donald Trump      28      2 -0.873057 NaN        0.640317   \n",
       "202   Donald Trump      38     -2 -1.374837 NaN       -0.803127   \n",
       "203   Donald Trump       6      2 -0.724118 NaN       -0.282931   \n",
       "204   Donald Trump       6      2 -0.724118 NaN        0.499768   \n",
       "\n",
       "     lexicon_sentiment  topical  topic_similarity  tokens  entities  Column1  \\\n",
       "0             1.023380        0                 0      11         1       57   \n",
       "1             0.977107        0                 0       7         1       50   \n",
       "2            -0.061737        1                 0      12         2       81   \n",
       "3             0.440000        0                 0      13         2       62   \n",
       "4            -0.111888        1                 0      15         1       67   \n",
       "..                 ...      ...               ...     ...       ...      ...   \n",
       "200          -0.085106        0                 0      15         0       64   \n",
       "201           0.216216        0                 0      11         0       52   \n",
       "202          -0.125000        0                 0      10         1       58   \n",
       "203           0.036364        0                 0      18         0       68   \n",
       "204           0.869565        0                 0      13         2       61   \n",
       "\n",
       "                                                  text  sent_id  \n",
       "0    Vinder Real Madrid Champions League for fjerde...       72  \n",
       "1    Vinder Caroline Wozniacki en Grand Slam-turner...       16  \n",
       "2    Vil Demokraterne i Repræsentanternes Hus indle...       48  \n",
       "3    Vi vil vinde,\" skriver han på Twitter efter Pe...       13  \n",
       "4    Vi er nødt til rent faktisk at gøre en forskel...       10  \n",
       "..                                                 ...      ...  \n",
       "200  \"Det er ikke noget, jeg nogensinde vil kunne f...        5  \n",
       "201  \" MADS FUGLEDE, VÆRT FOR PODCASTEN \"KAMPAGNESP...       22  \n",
       "202  \" Indalik Høegh har svært ved at seGrønlandsom...       17  \n",
       "203  - Det har taget mange årtier at nå hertil, lad...       16  \n",
       "204  - De behandler os med stor respekt, sagde Trum...       19  \n",
       "\n",
       "[205 rows x 14 columns]"
      ]
     },
     "execution_count": 2,
     "metadata": {},
     "output_type": "execute_result"
    }
   ],
   "source": [
    "df = pd.read_csv('dataset_sa.csv', encoding='ansi')\n",
    "df"
   ]
  },
  {
   "cell_type": "code",
   "execution_count": 3,
   "metadata": {},
   "outputs": [
    {
     "data": {
      "text/plain": [
       "topic                 object\n",
       "doc_id                 int64\n",
       "label                  int64\n",
       "doc_pred             float64\n",
       "-                    float64\n",
       "bert_sentiment       float64\n",
       "lexicon_sentiment    float64\n",
       "topical                int64\n",
       "topic_similarity       int64\n",
       "tokens                 int64\n",
       "entities               int64\n",
       "Column1                int64\n",
       "text                  object\n",
       "sent_id                int64\n",
       "dtype: object"
      ]
     },
     "execution_count": 3,
     "metadata": {},
     "output_type": "execute_result"
    }
   ],
   "source": [
    "df.dtypes"
   ]
  },
  {
   "cell_type": "code",
   "execution_count": 4,
   "metadata": {},
   "outputs": [
    {
     "data": {
      "text/plain": [
       "topic                False\n",
       "doc_id               False\n",
       "label                False\n",
       "doc_pred             False\n",
       "-                    False\n",
       "bert_sentiment       False\n",
       "lexicon_sentiment    False\n",
       "topical              False\n",
       "topic_similarity      True\n",
       "tokens               False\n",
       "entities             False\n",
       "Column1              False\n",
       "text                 False\n",
       "sent_id              False\n",
       "dtype: bool"
      ]
     },
     "execution_count": 4,
     "metadata": {},
     "output_type": "execute_result"
    }
   ],
   "source": [
    "(df == 0).all()"
   ]
  },
  {
   "cell_type": "code",
   "execution_count": 5,
   "metadata": {},
   "outputs": [
    {
     "data": {
      "text/plain": [
       "topic                False\n",
       "doc_id               False\n",
       "label                False\n",
       "doc_pred             False\n",
       "-                     True\n",
       "bert_sentiment       False\n",
       "lexicon_sentiment    False\n",
       "topical              False\n",
       "topic_similarity     False\n",
       "tokens               False\n",
       "entities             False\n",
       "Column1              False\n",
       "text                 False\n",
       "sent_id              False\n",
       "dtype: bool"
      ]
     },
     "execution_count": 5,
     "metadata": {},
     "output_type": "execute_result"
    }
   ],
   "source": [
    "(df.isnull()).all()"
   ]
  },
  {
   "cell_type": "markdown",
   "metadata": {},
   "source": [
    "The dataset is composed of 205 rows and 14 columns. Moreover, there are 2 columns with no information that we can remove: _-_ and _topic_similarity_."
   ]
  },
  {
   "cell_type": "code",
   "execution_count": 6,
   "metadata": {},
   "outputs": [],
   "source": [
    "del df['topic_similarity']\n",
    "del df['-']"
   ]
  },
  {
   "cell_type": "markdown",
   "metadata": {},
   "source": [
    "The goal is to predict the sentiment analysis score contained in _label_, which seems to be a discrete variable. In this situation we are talking about a classification problem with 5 different classes.\n",
    "\n",
    "Let's see how _label_ values are distributed:"
   ]
  },
  {
   "cell_type": "code",
   "execution_count": 7,
   "metadata": {},
   "outputs": [
    {
     "data": {
      "text/plain": [
       "Text(0, 0.5, 'Label')"
      ]
     },
     "execution_count": 7,
     "metadata": {},
     "output_type": "execute_result"
    },
    {
     "data": {
      "image/png": "[encoded data removed]",
      "text/plain": [
       "<Figure size 432x288 with 1 Axes>"
      ]
     },
     "metadata": {
      "needs_background": "light"
     },
     "output_type": "display_data"
    }
   ],
   "source": [
    "ax = df['label'].value_counts(sort=True, ascending=True).plot(kind='barh')\n",
    "ax.set_xlabel('Number of Samples in the Dataset')\n",
    "ax.set_ylabel('Label')"
   ]
  },
  {
   "cell_type": "markdown",
   "metadata": {},
   "source": [
    "On one hand, we can see in the plot above that there are less than 20 tweets labeled with a 2. On the other hand, the dataset has more than 70 tweets labeled with a 0. None of the classes has aproximately the same number of samples, which means that this is an unbalanced dataset.\n",
    "\n",
    "Other big problem is related with the size of the dataset. Even if we apply some transformations to the dataset and we balance the number of samples per class, there are very few samples to train and test a machine learning model for this classification task. The minority class (label '2') has only 16 samples before splitting the data into train and test sets.\n",
    "\n",
    "Let's continue taking a look and know more about each feature before we try to deal with these two problems."
   ]
  },
  {
   "cell_type": "code",
   "execution_count": 8,
   "metadata": {},
   "outputs": [
    {
     "data": {
      "image/png": "[encoded data removed]",
      "text/plain": [
       "<Figure size 720x576 with 2 Axes>"
      ]
     },
     "metadata": {
      "needs_background": "light"
     },
     "output_type": "display_data"
    }
   ],
   "source": [
    "f = plt.figure(figsize=(10, 8))\n",
    "plt.matshow(df.corr(), fignum=f.number)\n",
    "plt.xticks(range(df.select_dtypes(['number']).shape[1]), df.select_dtypes(['number']).columns, fontsize=14, rotation=45)\n",
    "plt.yticks(range(df.select_dtypes(['number']).shape[1]), df.select_dtypes(['number']).columns, fontsize=14)\n",
    "cb = plt.colorbar()\n",
    "cb.ax.tick_params(labelsize=14)\n",
    "plt.title('Correlation Matrix', fontsize=16);"
   ]
  },
  {
   "cell_type": "markdown",
   "metadata": {},
   "source": [
    "From the correlation matrix above we can say that there's some correlation between _doc_pred_, _bert_sentiment_, _lexicon_sentiment_ and _label_. All of them seem to be some kind of sentiment score of each tweet.\n",
    "\n",
    "Both _doc_id_ and _sent_id_ seem to be identifiers without any correlation with the rest of the features. Since we don't have more information about them, (after have been checking a bit more) we can drop those columns from the dataset.\n",
    "\n",
    "Furthermore, there's correlation between _tokens_ and _Column1_. It's easy to notice that _Column1_ refers to the number of characters per tweet as shown below:"
   ]
  },
  {
   "cell_type": "code",
   "execution_count": 9,
   "metadata": {},
   "outputs": [],
   "source": [
    "for index, row in df.iterrows():\n",
    "    if not row['Column1'] == len(row['text']):\n",
    "        print(\"Column1 is not the length of the tweet.\")"
   ]
  },
  {
   "cell_type": "markdown",
   "metadata": {},
   "source": [
    "In order to get tokens from the Danish tweets in the future, we add a new column called _text_eng_ containing the English translation of the tweets."
   ]
  },
  {
   "cell_type": "code",
   "execution_count": 10,
   "metadata": {},
   "outputs": [],
   "source": [
    "df['text_eng'] = df.apply (lambda row: translator.translate(row['text'],lang_src='da', lang_tgt='en'), axis=1)"
   ]
  },
  {
   "cell_type": "markdown",
   "metadata": {},
   "source": [
    "Taking a look to _entities_, we can check that this column is a counter that indicates the number of institutions/names mentioned in each tweet. Tweets containing 2 entities are printed below:"
   ]
  },
  {
   "cell_type": "code",
   "execution_count": 11,
   "metadata": {},
   "outputs": [
    {
     "name": "stdout",
     "output_type": "stream",
     "text": [
      "2                           Will the Democrats in the House of Representatives initiate a federal lawsuit against Donald Trump? \n",
      "3                                                             We want to win, \"he wrote on Twitter after Pelosi's announcement. \n",
      "5      The President of the United States, Donald Trump, has clearly broken the law and must be brought before a federal court. \n",
      "8                                    Ukraine earlier Thursday invited Britain to take part in the investigation into the crash. \n",
      "9                                                                 Does the Swedish Academy award the Nobel Prize in Literature? \n",
      "19                                       The Complacent Class \"Tyler Cowen St. Martin's Press 256 pages $ 15.65 on Amazon.com 5 \n",
      "22                                                                     Sweden is mentioned as an option along with Switzerland. \n",
      "30                                  So much I have then learned from The Art of the Deal (partly written by Donald Trump, ed.). \n",
      "34                               However, Prime Minister Boris Johnson and Brexit party Nigel Farage had chosen not to show up. \n",
      "40                                                       Will Denmark achieve a position as number ten or higher at Eurovision? \n",
      "49                                        The memo comes from former FBI Director James Comey, who was fired by Trump last May. \n",
      "68                                              Johnson responded again by saying that it is Tusk who will be remembered as mr. \n",
      "71                                                                YES 8. Is Johannes Riis still literary director of Gyldendal? \n",
      "76                                Prior to the firing, Comey documented meetings and phone calls with Donald Trump using notes. \n",
      "88                                        She would make the investigations difficult for all of Rudy Giuliani, Trump's lawyer. \n",
      "91                        In Denmark, Inger Støjberg did not want to comment on the American media's accusations against Trump. \n",
      "99                    Because I want to step down before we get to that point, \"Hammond said on the talk show Andrew Marr Show. \n",
      "108                                                                           Is Dmitry Medvedev still Russia's prime minister? \n",
      "109                                            One thing is for sure: Donald Trump will need Donald Trump's negotiation skills. \n",
      "117                                          Donald Trump's campaign office did not want to off- or confirm the story to Axios. \n",
      "118                                 Donald Trump was a candidate for the Republican Party in the 2016 US presidential election. \n",
      "124                                It happens because 55-year-old Boris Johnson's predecessor Theresa May resigned prematurely. \n",
      "127                                     The Republican member of the House of Representatives, Devin Nunes, is behind the memo. \n",
      "129                                                That is the view of Nancy Pelosi, President of the House of Representatives. \n",
      "142                                                   However, it is not a given that Kim Jongun will leave North Korea at all. \n",
      "145                                                           This is solely because of Long's views on President Donald Trump. \n",
      "168                                                Channel 4's ice sculptures made Boris Johnson's resignation clear to anyone. \n",
      "169                                Canadian Prime Minister Justin Trudeau: Iranian missile shot down Ukrainian passenger plane. \n",
      "170                     The British want out of the EU - and with Boris Johnson's massive election victory they are coming now. \n",
      "172                                                       Boris Johnson cruises on towards Downing Street 10. Election contest. \n",
      "179                                           Both the Syrian government and Russia reject the images as forgeries, writes AFP. \n",
      "181                                           8. Do Eske Willerslev and his research center leave the University of Copenhagen? \n",
      "186                                                 2018 1. Does Queen Margrethe hand over the throne to Crown Prince Frederik? \n",
      "188                                                         2. Will Lars Løkke Rasmussen stop as chairman of the Liberal Party? \n",
      "189                                       2. Does Lisbet Dahl announce that she will stop being an instructor for Cirkusrevyen? \n",
      "204                                                              \"They treat us with great respect,\" Trump said of North Korea. \n",
      "Name: text_eng, dtype: object\n"
     ]
    }
   ],
   "source": [
    "def print_full(x):\n",
    "    pd.set_option('display.max_rows', None)\n",
    "    pd.set_option('display.max_columns', None)\n",
    "    pd.set_option('display.max_colwidth', None)\n",
    "    print(x)\n",
    "    pd.reset_option('display.max_rows')\n",
    "    pd.reset_option('display.max_columns')\n",
    "    pd.reset_option('display.max_colwidth')\n",
    "\n",
    "print_full(df.loc[df['entities'] == 2]['text_eng'])"
   ]
  },
  {
   "cell_type": "markdown",
   "metadata": {},
   "source": [
    "The categorical feature _topical_ indicates when the topic of the tweet is explicitly mentioned in the body of the tweet. There are only 3 topics: Donald Trump, Boris Johnson and Joe Biden. Some of the tweets matching this condition are printed below:"
   ]
  },
  {
   "cell_type": "code",
   "execution_count": 12,
   "metadata": {},
   "outputs": [
    {
     "name": "stdout",
     "output_type": "stream",
     "text": [
      "2                       Will the Democrats in the House of Representatives initiate a federal lawsuit against Donald Trump? \n",
      "4                                                                 We have to actually make a difference, Donald Trump said. \n",
      "12     On the contrary, it was precisely the leisurely middle class that elected Donald Trump in the 2016 primary election. \n",
      "17                                    On Tuesday last week, Donald took the Trump phone and called Boris Johnson in London. \n",
      "30                              So much I have then learned from The Art of the Deal (partly written by Donald Trump, ed.). \n",
      "34                           However, Prime Minister Boris Johnson and Brexit party Nigel Farage had chosen not to show up. \n",
      "37                                                                        President, Donald Trump is not going to be there. \n",
      "42                              Also in the first round of voting last week, Boris Johnson received clearly the most votes. \n",
      "47                  Now the National Police has set figures on what Donald Trump's cancellation has cost the Danish police. \n",
      "60                                                                          But Donald Trump maintains: \"This is fake news. \n",
      "69                                                               Joe Biden is sure it will be a much more dignified debate. \n",
      "76                            Prior to the firing, Comey documented meetings and phone calls with Donald Trump using notes. \n",
      "78           According to Else Mathiesen from Sorø, Donald Trump's plans are an expression of \"an ancient way of thinking\". \n",
      "82                                                                For a decade, he followed Donald Trump in thick and thin. \n",
      "109                                        One thing is for sure: Donald Trump will need Donald Trump's negotiation skills. \n",
      "115                                                           You've probably seen US President Donald Trump on television. \n",
      "116                                    Donald Trump's leadership during the crisis has so far been almost appallingly poor. \n",
      "117                                      Donald Trump's campaign office did not want to off- or confirm the story to Axios. \n",
      "118                             Donald Trump was a candidate for the Republican Party in the 2016 US presidential election. \n",
      "119     Donald Trump wants total nuclear disarmament on the North Korean side and control of the country's missile program. \n",
      "124                            It happens because 55-year-old Boris Johnson's predecessor Theresa May resigned prematurely. \n",
      "145                                                       This is solely because of Long's views on President Donald Trump. \n",
      "150                                                    In addition, several of Donald Trump's family members are mentioned. \n",
      "159                                                           however, 55-year-old Boris Johnson is known to be optimistic. \n",
      "168                                            Channel 4's ice sculptures made Boris Johnson's resignation clear to anyone. \n",
      "170                 The British want out of the EU - and with Boris Johnson's massive election victory they are coming now. \n",
      "171                                    Boris Johnson says the best British experts should be involved in the investigation. \n",
      "172                                                   Boris Johnson cruises on towards Downing Street 10. Election contest. \n",
      "173                                     Boris Johnson was replaced by melting ice sculpture - now TV station is threatened. \n",
      "Name: text_eng, dtype: object\n"
     ]
    }
   ],
   "source": [
    "print_full(df.loc[df['topical'] == 1]['text_eng'])"
   ]
  },
  {
   "cell_type": "markdown",
   "metadata": {},
   "source": [
    "The plot below shows the mean of each of the three sentiment scores according to the final label, giving a visual idea of how they are correlated:"
   ]
  },
  {
   "cell_type": "code",
   "execution_count": 13,
   "metadata": {},
   "outputs": [
    {
     "name": "stderr",
     "output_type": "stream",
     "text": [
      "<ipython-input-13-227bef8dfdfe>:1: FutureWarning: Indexing with multiple keys (implicitly converted to a tuple of keys) will be deprecated, use a list instead.\n",
      "  df_label = df.groupby(['label'])['doc_pred','bert_sentiment','lexicon_sentiment'].mean()\n"
     ]
    },
    {
     "data": {
      "text/plain": [
       "<AxesSubplot:xlabel='label'>"
      ]
     },
     "execution_count": 13,
     "metadata": {},
     "output_type": "execute_result"
    },
    {
     "data": {
      "image/png": "[encoded data removed]",
      "text/plain": [
       "<Figure size 432x288 with 1 Axes>"
      ]
     },
     "metadata": {
      "needs_background": "light"
     },
     "output_type": "display_data"
    }
   ],
   "source": [
    "df_label = df.groupby(['label'])['doc_pred','bert_sentiment','lexicon_sentiment'].mean()\n",
    "df_label.plot.bar()"
   ]
  },
  {
   "cell_type": "markdown",
   "metadata": {},
   "source": [
    "To finish this section, a cleaner version of the dataset is saved below."
   ]
  },
  {
   "cell_type": "code",
   "execution_count": 14,
   "metadata": {},
   "outputs": [
    {
     "data": {
      "text/html": [
       "<div>\n",
       "<style scoped>\n",
       "    .dataframe tbody tr th:only-of-type {\n",
       "        vertical-align: middle;\n",
       "    }\n",
       "\n",
       "    .dataframe tbody tr th {\n",
       "        vertical-align: top;\n",
       "    }\n",
       "\n",
       "    .dataframe thead th {\n",
       "        text-align: right;\n",
       "    }\n",
       "</style>\n",
       "<table border=\"1\" class=\"dataframe\">\n",
       "  <thead>\n",
       "    <tr style=\"text-align: right;\">\n",
       "      <th></th>\n",
       "      <th>topic</th>\n",
       "      <th>label</th>\n",
       "      <th>doc_pred</th>\n",
       "      <th>bert_sentiment</th>\n",
       "      <th>lexicon_sentiment</th>\n",
       "      <th>topical</th>\n",
       "      <th>tokens</th>\n",
       "      <th>entities</th>\n",
       "      <th>length</th>\n",
       "      <th>text</th>\n",
       "      <th>text_eng</th>\n",
       "    </tr>\n",
       "  </thead>\n",
       "  <tbody>\n",
       "    <tr>\n",
       "      <th>0</th>\n",
       "      <td>Donald Trump</td>\n",
       "      <td>0</td>\n",
       "      <td>0.660882</td>\n",
       "      <td>0.237890</td>\n",
       "      <td>1.023380</td>\n",
       "      <td>0</td>\n",
       "      <td>11</td>\n",
       "      <td>1</td>\n",
       "      <td>57</td>\n",
       "      <td>Vinder Real Madrid Champions League for fjerde...</td>\n",
       "      <td>Will Real Madrid win the Champions League for ...</td>\n",
       "    </tr>\n",
       "    <tr>\n",
       "      <th>1</th>\n",
       "      <td>Donald Trump</td>\n",
       "      <td>0</td>\n",
       "      <td>0.660882</td>\n",
       "      <td>-0.193494</td>\n",
       "      <td>0.977107</td>\n",
       "      <td>0</td>\n",
       "      <td>7</td>\n",
       "      <td>1</td>\n",
       "      <td>50</td>\n",
       "      <td>Vinder Caroline Wozniacki en Grand Slam-turner...</td>\n",
       "      <td>Will Caroline Wozniacki win a Grand Slam tourn...</td>\n",
       "    </tr>\n",
       "    <tr>\n",
       "      <th>2</th>\n",
       "      <td>Donald Trump</td>\n",
       "      <td>0</td>\n",
       "      <td>0.660882</td>\n",
       "      <td>-1.182156</td>\n",
       "      <td>-0.061737</td>\n",
       "      <td>1</td>\n",
       "      <td>12</td>\n",
       "      <td>2</td>\n",
       "      <td>81</td>\n",
       "      <td>Vil Demokraterne i Repræsentanternes Hus indle...</td>\n",
       "      <td>Will the Democrats in the House of Representat...</td>\n",
       "    </tr>\n",
       "    <tr>\n",
       "      <th>3</th>\n",
       "      <td>Joe Biden</td>\n",
       "      <td>0</td>\n",
       "      <td>-1.149904</td>\n",
       "      <td>0.825722</td>\n",
       "      <td>0.440000</td>\n",
       "      <td>0</td>\n",
       "      <td>13</td>\n",
       "      <td>2</td>\n",
       "      <td>62</td>\n",
       "      <td>Vi vil vinde,\" skriver han på Twitter efter Pe...</td>\n",
       "      <td>We want to win, \"he wrote on Twitter after Pel...</td>\n",
       "    </tr>\n",
       "    <tr>\n",
       "      <th>4</th>\n",
       "      <td>Donald Trump</td>\n",
       "      <td>-1</td>\n",
       "      <td>-1.426556</td>\n",
       "      <td>0.193577</td>\n",
       "      <td>-0.111888</td>\n",
       "      <td>1</td>\n",
       "      <td>15</td>\n",
       "      <td>1</td>\n",
       "      <td>67</td>\n",
       "      <td>Vi er nødt til rent faktisk at gøre en forskel...</td>\n",
       "      <td>We have to actually make a difference, Donald ...</td>\n",
       "    </tr>\n",
       "    <tr>\n",
       "      <th>...</th>\n",
       "      <td>...</td>\n",
       "      <td>...</td>\n",
       "      <td>...</td>\n",
       "      <td>...</td>\n",
       "      <td>...</td>\n",
       "      <td>...</td>\n",
       "      <td>...</td>\n",
       "      <td>...</td>\n",
       "      <td>...</td>\n",
       "      <td>...</td>\n",
       "      <td>...</td>\n",
       "    </tr>\n",
       "    <tr>\n",
       "      <th>200</th>\n",
       "      <td>Boris Johnson</td>\n",
       "      <td>-1</td>\n",
       "      <td>-1.055707</td>\n",
       "      <td>-0.919533</td>\n",
       "      <td>-0.085106</td>\n",
       "      <td>0</td>\n",
       "      <td>15</td>\n",
       "      <td>0</td>\n",
       "      <td>64</td>\n",
       "      <td>\"Det er ikke noget, jeg nogensinde vil kunne f...</td>\n",
       "      <td>\"It's not something I'll ever be able to commi...</td>\n",
       "    </tr>\n",
       "    <tr>\n",
       "      <th>201</th>\n",
       "      <td>Donald Trump</td>\n",
       "      <td>2</td>\n",
       "      <td>-0.873057</td>\n",
       "      <td>0.640317</td>\n",
       "      <td>0.216216</td>\n",
       "      <td>0</td>\n",
       "      <td>11</td>\n",
       "      <td>0</td>\n",
       "      <td>52</td>\n",
       "      <td>\" MADS FUGLEDE, VÆRT FOR PODCASTEN \"KAMPAGNESP...</td>\n",
       "      <td>\"MADS BIRDS, HOSTED THE PODCAST\" CAMPAIGN TRAC...</td>\n",
       "    </tr>\n",
       "    <tr>\n",
       "      <th>202</th>\n",
       "      <td>Donald Trump</td>\n",
       "      <td>-2</td>\n",
       "      <td>-1.374837</td>\n",
       "      <td>-0.803127</td>\n",
       "      <td>-0.125000</td>\n",
       "      <td>0</td>\n",
       "      <td>10</td>\n",
       "      <td>1</td>\n",
       "      <td>58</td>\n",
       "      <td>\" Indalik Høegh har svært ved at seGrønlandsom...</td>\n",
       "      <td>\"Indalik Høegh has a hard time seeing Greenlan...</td>\n",
       "    </tr>\n",
       "    <tr>\n",
       "      <th>203</th>\n",
       "      <td>Donald Trump</td>\n",
       "      <td>2</td>\n",
       "      <td>-0.724118</td>\n",
       "      <td>-0.282931</td>\n",
       "      <td>0.036364</td>\n",
       "      <td>0</td>\n",
       "      <td>18</td>\n",
       "      <td>0</td>\n",
       "      <td>68</td>\n",
       "      <td>- Det har taget mange årtier at nå hertil, lad...</td>\n",
       "      <td>- It has taken many decades to get here, let's...</td>\n",
       "    </tr>\n",
       "    <tr>\n",
       "      <th>204</th>\n",
       "      <td>Donald Trump</td>\n",
       "      <td>2</td>\n",
       "      <td>-0.724118</td>\n",
       "      <td>0.499768</td>\n",
       "      <td>0.869565</td>\n",
       "      <td>0</td>\n",
       "      <td>13</td>\n",
       "      <td>2</td>\n",
       "      <td>61</td>\n",
       "      <td>- De behandler os med stor respekt, sagde Trum...</td>\n",
       "      <td>\"They treat us with great respect,\" Trump said...</td>\n",
       "    </tr>\n",
       "  </tbody>\n",
       "</table>\n",
       "<p>205 rows × 11 columns</p>\n",
       "</div>"
      ],
      "text/plain": [
       "             topic  label  doc_pred  bert_sentiment  lexicon_sentiment  \\\n",
       "0     Donald Trump      0  0.660882        0.237890           1.023380   \n",
       "1     Donald Trump      0  0.660882       -0.193494           0.977107   \n",
       "2     Donald Trump      0  0.660882       -1.182156          -0.061737   \n",
       "3        Joe Biden      0 -1.149904        0.825722           0.440000   \n",
       "4     Donald Trump     -1 -1.426556        0.193577          -0.111888   \n",
       "..             ...    ...       ...             ...                ...   \n",
       "200  Boris Johnson     -1 -1.055707       -0.919533          -0.085106   \n",
       "201   Donald Trump      2 -0.873057        0.640317           0.216216   \n",
       "202   Donald Trump     -2 -1.374837       -0.803127          -0.125000   \n",
       "203   Donald Trump      2 -0.724118       -0.282931           0.036364   \n",
       "204   Donald Trump      2 -0.724118        0.499768           0.869565   \n",
       "\n",
       "     topical  tokens  entities  length  \\\n",
       "0          0      11         1      57   \n",
       "1          0       7         1      50   \n",
       "2          1      12         2      81   \n",
       "3          0      13         2      62   \n",
       "4          1      15         1      67   \n",
       "..       ...     ...       ...     ...   \n",
       "200        0      15         0      64   \n",
       "201        0      11         0      52   \n",
       "202        0      10         1      58   \n",
       "203        0      18         0      68   \n",
       "204        0      13         2      61   \n",
       "\n",
       "                                                  text  \\\n",
       "0    Vinder Real Madrid Champions League for fjerde...   \n",
       "1    Vinder Caroline Wozniacki en Grand Slam-turner...   \n",
       "2    Vil Demokraterne i Repræsentanternes Hus indle...   \n",
       "3    Vi vil vinde,\" skriver han på Twitter efter Pe...   \n",
       "4    Vi er nødt til rent faktisk at gøre en forskel...   \n",
       "..                                                 ...   \n",
       "200  \"Det er ikke noget, jeg nogensinde vil kunne f...   \n",
       "201  \" MADS FUGLEDE, VÆRT FOR PODCASTEN \"KAMPAGNESP...   \n",
       "202  \" Indalik Høegh har svært ved at seGrønlandsom...   \n",
       "203  - Det har taget mange årtier at nå hertil, lad...   \n",
       "204  - De behandler os med stor respekt, sagde Trum...   \n",
       "\n",
       "                                              text_eng  \n",
       "0    Will Real Madrid win the Champions League for ...  \n",
       "1    Will Caroline Wozniacki win a Grand Slam tourn...  \n",
       "2    Will the Democrats in the House of Representat...  \n",
       "3    We want to win, \"he wrote on Twitter after Pel...  \n",
       "4    We have to actually make a difference, Donald ...  \n",
       "..                                                 ...  \n",
       "200  \"It's not something I'll ever be able to commi...  \n",
       "201  \"MADS BIRDS, HOSTED THE PODCAST\" CAMPAIGN TRAC...  \n",
       "202  \"Indalik Høegh has a hard time seeing Greenlan...  \n",
       "203  - It has taken many decades to get here, let's...  \n",
       "204  \"They treat us with great respect,\" Trump said...  \n",
       "\n",
       "[205 rows x 11 columns]"
      ]
     },
     "execution_count": 14,
     "metadata": {},
     "output_type": "execute_result"
    }
   ],
   "source": [
    "del df['doc_id']\n",
    "del df['sent_id']\n",
    "df.columns.values[8] = 'length'\n",
    "df"
   ]
  },
  {
   "cell_type": "code",
   "execution_count": 15,
   "metadata": {},
   "outputs": [],
   "source": [
    "df.to_csv(r'dataset_clean.csv', index = False, encoding='ansi')"
   ]
  },
  {
   "cell_type": "markdown",
   "metadata": {},
   "source": [
    "# Data Processing"
   ]
  },
  {
   "cell_type": "markdown",
   "metadata": {},
   "source": [
    "In this section we are going to try to minimize the impact of the unbalanced dataset on the different ML models.\n",
    "\n",
    "We can consider two ways of solving this problem: oversampling or undersampling. Since we have 5 different classes with very different number of samples per class, the approach we are going to follow will be a mix of both.\n",
    "\n",
    "Let's remember how the samples are distributed in the dataset depending on its _label_ value:"
   ]
  },
  {
   "cell_type": "code",
   "execution_count": 16,
   "metadata": {},
   "outputs": [
    {
     "data": {
      "text/plain": [
       "Text(0, 0.5, 'Label')"
      ]
     },
     "execution_count": 16,
     "metadata": {},
     "output_type": "execute_result"
    },
    {
     "data": {
      "image/png": "[encoded data removed]",
      "text/plain": [
       "<Figure size 432x288 with 1 Axes>"
      ]
     },
     "metadata": {
      "needs_background": "light"
     },
     "output_type": "display_data"
    }
   ],
   "source": [
    "ax = df['label'].value_counts(sort=True, ascending=True).plot(kind='barh')\n",
    "ax.set_xlabel('Number of Samples in the Dataset')\n",
    "ax.set_ylabel('Label')"
   ]
  },
  {
   "cell_type": "markdown",
   "metadata": {},
   "source": [
    "First, we are going to undersample '0' and '-2' groups to have 37 samples each, which is the number of samples the class '-1' has. The process will pick random samples within these 2 groups and remove them from the dataset."
   ]
  },
  {
   "cell_type": "code",
   "execution_count": 17,
   "metadata": {},
   "outputs": [
    {
     "data": {
      "text/plain": [
       "Text(0, 0.5, 'Label')"
      ]
     },
     "execution_count": 17,
     "metadata": {},
     "output_type": "execute_result"
    },
    {
     "data": {
      "image/png": "[encoded data removed]",
      "text/plain": [
       "<Figure size 432x288 with 1 Axes>"
      ]
     },
     "metadata": {
      "needs_background": "light"
     },
     "output_type": "display_data"
    }
   ],
   "source": [
    "import imblearn\n",
    "\n",
    "# define undersample strategy\n",
    "classes = {0: 37, -2: 37}\n",
    "undersample = imblearn.under_sampling.RandomUnderSampler(sampling_strategy=classes)\n",
    "\n",
    "# create X and y\n",
    "X = df.loc[:, df.columns != 'label']\n",
    "y = df['label']\n",
    "\n",
    "# fit and apply the transform\n",
    "X_over, y_over = undersample.fit_resample(X, y)\n",
    "\n",
    "ax = y_over.value_counts(sort=True, ascending=True).plot(kind='barh')\n",
    "ax.set_xlabel('Number of Samples in the Dataset')\n",
    "ax.set_ylabel('Label')"
   ]
  },
  {
   "cell_type": "markdown",
   "metadata": {},
   "source": [
    "We can see now that classes '0', '-1' and '-2' have a similar number of samples.\n",
    "\n",
    "Second, we are going to oversample '1' and '2' groups to have 37 samples each, like the rest of the classes. The process will duplicate random samples within these 2 groups and add them to the dataset."
   ]
  },
  {
   "cell_type": "code",
   "execution_count": 18,
   "metadata": {},
   "outputs": [
    {
     "data": {
      "text/plain": [
       "Text(0, 0.5, 'Label')"
      ]
     },
     "execution_count": 18,
     "metadata": {},
     "output_type": "execute_result"
    },
    {
     "data": {
      "image/png": "[encoded data removed]",
      "text/plain": [
       "<Figure size 432x288 with 1 Axes>"
      ]
     },
     "metadata": {
      "needs_background": "light"
     },
     "output_type": "display_data"
    }
   ],
   "source": [
    "# define oversample strategy\n",
    "classes = {1: 37, 2: 37}\n",
    "oversample = imblearn.over_sampling.RandomOverSampler(sampling_strategy=classes)\n",
    "\n",
    "# update X and y\n",
    "X = X_over\n",
    "y = y_over\n",
    "\n",
    "# fit and apply the transform\n",
    "X_over, y_over = oversample.fit_resample(X, y)\n",
    "\n",
    "# update X and y\n",
    "X = X_over\n",
    "y = y_over\n",
    "\n",
    "ax = y_over.value_counts(sort=True, ascending=True).plot(kind='barh')\n",
    "ax.set_xlabel('Number of Samples in the Dataset')\n",
    "ax.set_ylabel('Label')"
   ]
  },
  {
   "cell_type": "markdown",
   "metadata": {},
   "source": [
    "Now all the classes have 37 samples each, resulting in a balanced dataset.\n",
    "\n",
    "On one hand, this process has consequences. As classes '1' and '2' have duplicate samples, some overfitting could appear in the ML model when trying to predict these two classes. Moreover, now it will be more difficult for the model to predict classes '0' and '-2' since it has less samples to learn from them while is being trained.\n",
    "\n",
    "On the other hand, if we do not balance the dataset we will find what we call the \"Accuracy Paradox\" when evaluating the ML model. The algorithms will want to assign most of their observations to the majority classes, resulting on a high accuracy value. Testing the model on a balanced dataset will show us that, actually, it is not generalizing well."
   ]
  },
  {
   "cell_type": "code",
   "execution_count": 19,
   "metadata": {},
   "outputs": [],
   "source": [
    "# concatenate X and y into a new balanced dataframe\n",
    "df = pd.concat([X, y], axis=1)\n",
    "\n",
    "df.to_csv(r'dataset_balanced.csv', index = False, encoding='ansi')"
   ]
  },
  {
   "cell_type": "code",
   "execution_count": 20,
   "metadata": {},
   "outputs": [
    {
     "data": {
      "text/html": [
       "<div>\n",
       "<style scoped>\n",
       "    .dataframe tbody tr th:only-of-type {\n",
       "        vertical-align: middle;\n",
       "    }\n",
       "\n",
       "    .dataframe tbody tr th {\n",
       "        vertical-align: top;\n",
       "    }\n",
       "\n",
       "    .dataframe thead th {\n",
       "        text-align: right;\n",
       "    }\n",
       "</style>\n",
       "<table border=\"1\" class=\"dataframe\">\n",
       "  <thead>\n",
       "    <tr style=\"text-align: right;\">\n",
       "      <th></th>\n",
       "      <th>topic</th>\n",
       "      <th>doc_pred</th>\n",
       "      <th>bert_sentiment</th>\n",
       "      <th>lexicon_sentiment</th>\n",
       "      <th>topical</th>\n",
       "      <th>tokens</th>\n",
       "      <th>entities</th>\n",
       "      <th>length</th>\n",
       "      <th>text</th>\n",
       "      <th>text_eng</th>\n",
       "      <th>label</th>\n",
       "    </tr>\n",
       "  </thead>\n",
       "  <tbody>\n",
       "    <tr>\n",
       "      <th>0</th>\n",
       "      <td>Donald Trump</td>\n",
       "      <td>-1.558372</td>\n",
       "      <td>-1.195102</td>\n",
       "      <td>-0.470588</td>\n",
       "      <td>0</td>\n",
       "      <td>13</td>\n",
       "      <td>0</td>\n",
       "      <td>72</td>\n",
       "      <td>Imens bliver passagererne mere og mere urolige...</td>\n",
       "      <td>Meanwhile, the passengers become more and more...</td>\n",
       "      <td>-2</td>\n",
       "    </tr>\n",
       "    <tr>\n",
       "      <th>1</th>\n",
       "      <td>Boris Johnson</td>\n",
       "      <td>-1.698865</td>\n",
       "      <td>-0.751376</td>\n",
       "      <td>-0.247788</td>\n",
       "      <td>1</td>\n",
       "      <td>11</td>\n",
       "      <td>2</td>\n",
       "      <td>72</td>\n",
       "      <td>Channel 4s isskulpturer gjorde Boris Johnsons ...</td>\n",
       "      <td>Channel 4's ice sculptures made Boris Johnson'...</td>\n",
       "      <td>-2</td>\n",
       "    </tr>\n",
       "    <tr>\n",
       "      <th>2</th>\n",
       "      <td>Donald Trump</td>\n",
       "      <td>-1.428882</td>\n",
       "      <td>0.119638</td>\n",
       "      <td>-0.953488</td>\n",
       "      <td>0</td>\n",
       "      <td>7</td>\n",
       "      <td>0</td>\n",
       "      <td>55</td>\n",
       "      <td>Han er udpeget afjustitsministerietsom særlig ...</td>\n",
       "      <td>He has been appointed by the Ministry of Justi...</td>\n",
       "      <td>-2</td>\n",
       "    </tr>\n",
       "    <tr>\n",
       "      <th>3</th>\n",
       "      <td>Donald Trump</td>\n",
       "      <td>-1.457036</td>\n",
       "      <td>-0.526979</td>\n",
       "      <td>-0.007380</td>\n",
       "      <td>0</td>\n",
       "      <td>18</td>\n",
       "      <td>0</td>\n",
       "      <td>86</td>\n",
       "      <td>Og muligvis er de nuværende regler om, hvad ma...</td>\n",
       "      <td>And possibly the current rules about what one ...</td>\n",
       "      <td>-2</td>\n",
       "    </tr>\n",
       "    <tr>\n",
       "      <th>4</th>\n",
       "      <td>Donald Trump</td>\n",
       "      <td>-1.722569</td>\n",
       "      <td>-0.700014</td>\n",
       "      <td>-0.142857</td>\n",
       "      <td>0</td>\n",
       "      <td>13</td>\n",
       "      <td>1</td>\n",
       "      <td>62</td>\n",
       "      <td>Hvis der kommer en rigsretssag mod Trump, vent...</td>\n",
       "      <td>If there is a federal lawsuit against Trump, i...</td>\n",
       "      <td>-2</td>\n",
       "    </tr>\n",
       "    <tr>\n",
       "      <th>...</th>\n",
       "      <td>...</td>\n",
       "      <td>...</td>\n",
       "      <td>...</td>\n",
       "      <td>...</td>\n",
       "      <td>...</td>\n",
       "      <td>...</td>\n",
       "      <td>...</td>\n",
       "      <td>...</td>\n",
       "      <td>...</td>\n",
       "      <td>...</td>\n",
       "      <td>...</td>\n",
       "    </tr>\n",
       "    <tr>\n",
       "      <th>180</th>\n",
       "      <td>Boris Johnson</td>\n",
       "      <td>0.529619</td>\n",
       "      <td>1.057251</td>\n",
       "      <td>0.394904</td>\n",
       "      <td>1</td>\n",
       "      <td>14</td>\n",
       "      <td>1</td>\n",
       "      <td>86</td>\n",
       "      <td>Også i første afstemningsrunde i forrige uge m...</td>\n",
       "      <td>Also in the first round of voting last week, B...</td>\n",
       "      <td>2</td>\n",
       "    </tr>\n",
       "    <tr>\n",
       "      <th>181</th>\n",
       "      <td>Donald Trump</td>\n",
       "      <td>-0.724118</td>\n",
       "      <td>0.499768</td>\n",
       "      <td>0.869565</td>\n",
       "      <td>0</td>\n",
       "      <td>13</td>\n",
       "      <td>2</td>\n",
       "      <td>61</td>\n",
       "      <td>- De behandler os med stor respekt, sagde Trum...</td>\n",
       "      <td>\"They treat us with great respect,\" Trump said...</td>\n",
       "      <td>2</td>\n",
       "    </tr>\n",
       "    <tr>\n",
       "      <th>182</th>\n",
       "      <td>Boris Johnson</td>\n",
       "      <td>0.529619</td>\n",
       "      <td>0.314489</td>\n",
       "      <td>0.137931</td>\n",
       "      <td>0</td>\n",
       "      <td>18</td>\n",
       "      <td>1</td>\n",
       "      <td>88</td>\n",
       "      <td>Denne gang er det 46-årige Rory Stewart, der v...</td>\n",
       "      <td>This time it’s 46-year-old Rory Stewart, who w...</td>\n",
       "      <td>2</td>\n",
       "    </tr>\n",
       "    <tr>\n",
       "      <th>183</th>\n",
       "      <td>Donald Trump</td>\n",
       "      <td>-0.724118</td>\n",
       "      <td>-0.161167</td>\n",
       "      <td>0.038462</td>\n",
       "      <td>0</td>\n",
       "      <td>17</td>\n",
       "      <td>0</td>\n",
       "      <td>66</td>\n",
       "      <td>Det har taget mange årtier at nå hertil, lad o...</td>\n",
       "      <td>It has taken many decades to get here, let's s...</td>\n",
       "      <td>2</td>\n",
       "    </tr>\n",
       "    <tr>\n",
       "      <th>184</th>\n",
       "      <td>Donald Trump</td>\n",
       "      <td>-0.873057</td>\n",
       "      <td>-1.404224</td>\n",
       "      <td>0.363636</td>\n",
       "      <td>0</td>\n",
       "      <td>17</td>\n",
       "      <td>0</td>\n",
       "      <td>91</td>\n",
       "      <td>Demokrater gør klar til rigsretssag, men det k...</td>\n",
       "      <td>Democrats are preparing for a state lawsuit, b...</td>\n",
       "      <td>2</td>\n",
       "    </tr>\n",
       "  </tbody>\n",
       "</table>\n",
       "<p>185 rows × 11 columns</p>\n",
       "</div>"
      ],
      "text/plain": [
       "             topic  doc_pred  bert_sentiment  lexicon_sentiment  topical  \\\n",
       "0     Donald Trump -1.558372       -1.195102          -0.470588        0   \n",
       "1    Boris Johnson -1.698865       -0.751376          -0.247788        1   \n",
       "2     Donald Trump -1.428882        0.119638          -0.953488        0   \n",
       "3     Donald Trump -1.457036       -0.526979          -0.007380        0   \n",
       "4     Donald Trump -1.722569       -0.700014          -0.142857        0   \n",
       "..             ...       ...             ...                ...      ...   \n",
       "180  Boris Johnson  0.529619        1.057251           0.394904        1   \n",
       "181   Donald Trump -0.724118        0.499768           0.869565        0   \n",
       "182  Boris Johnson  0.529619        0.314489           0.137931        0   \n",
       "183   Donald Trump -0.724118       -0.161167           0.038462        0   \n",
       "184   Donald Trump -0.873057       -1.404224           0.363636        0   \n",
       "\n",
       "     tokens  entities  length  \\\n",
       "0        13         0      72   \n",
       "1        11         2      72   \n",
       "2         7         0      55   \n",
       "3        18         0      86   \n",
       "4        13         1      62   \n",
       "..      ...       ...     ...   \n",
       "180      14         1      86   \n",
       "181      13         2      61   \n",
       "182      18         1      88   \n",
       "183      17         0      66   \n",
       "184      17         0      91   \n",
       "\n",
       "                                                  text  \\\n",
       "0    Imens bliver passagererne mere og mere urolige...   \n",
       "1    Channel 4s isskulpturer gjorde Boris Johnsons ...   \n",
       "2    Han er udpeget afjustitsministerietsom særlig ...   \n",
       "3    Og muligvis er de nuværende regler om, hvad ma...   \n",
       "4    Hvis der kommer en rigsretssag mod Trump, vent...   \n",
       "..                                                 ...   \n",
       "180  Også i første afstemningsrunde i forrige uge m...   \n",
       "181  - De behandler os med stor respekt, sagde Trum...   \n",
       "182  Denne gang er det 46-årige Rory Stewart, der v...   \n",
       "183  Det har taget mange årtier at nå hertil, lad o...   \n",
       "184  Demokrater gør klar til rigsretssag, men det k...   \n",
       "\n",
       "                                              text_eng  label  \n",
       "0    Meanwhile, the passengers become more and more...     -2  \n",
       "1    Channel 4's ice sculptures made Boris Johnson'...     -2  \n",
       "2    He has been appointed by the Ministry of Justi...     -2  \n",
       "3    And possibly the current rules about what one ...     -2  \n",
       "4    If there is a federal lawsuit against Trump, i...     -2  \n",
       "..                                                 ...    ...  \n",
       "180  Also in the first round of voting last week, B...      2  \n",
       "181  \"They treat us with great respect,\" Trump said...      2  \n",
       "182  This time it’s 46-year-old Rory Stewart, who w...      2  \n",
       "183  It has taken many decades to get here, let's s...      2  \n",
       "184  Democrats are preparing for a state lawsuit, b...      2  \n",
       "\n",
       "[185 rows x 11 columns]"
      ]
     },
     "execution_count": 20,
     "metadata": {},
     "output_type": "execute_result"
    }
   ],
   "source": [
    "df"
   ]
  },
  {
   "cell_type": "markdown",
   "metadata": {},
   "source": [
    "# Sentiment Analysis"
   ]
  },
  {
   "cell_type": "markdown",
   "metadata": {},
   "source": [
    "Since the dataset is small and it has not a lot of features, could be interesting to add more sentiment analysis scores and see if it helps to improve the performance of the models. Two Python libraries has been considered: TextBlob and VADER.\n",
    "\n",
    "In addition to that, at the end of this section we will check the precision and recall for the BERT sentiment score already computed in the dataset (_bert_sentiment_ column)."
   ]
  },
  {
   "cell_type": "markdown",
   "metadata": {},
   "source": [
    "### TextBlob"
   ]
  },
  {
   "cell_type": "code",
   "execution_count": 21,
   "metadata": {},
   "outputs": [],
   "source": [
    "from sklearn.metrics import precision_score, recall_score\n",
    "from textblob import TextBlob"
   ]
  },
  {
   "cell_type": "code",
   "execution_count": 22,
   "metadata": {},
   "outputs": [
    {
     "name": "stderr",
     "output_type": "stream",
     "text": [
      "<ipython-input-22-3bff0d69308f>:5: FutureWarning: Indexing with multiple keys (implicitly converted to a tuple of keys) will be deprecated, use a list instead.\n",
      "  df_textblob = df.groupby(['label'])['y_textblob_polarity','y_textblob_subjectivity'].mean()\n"
     ]
    },
    {
     "data": {
      "text/plain": [
       "<AxesSubplot:xlabel='label'>"
      ]
     },
     "execution_count": 22,
     "metadata": {},
     "output_type": "execute_result"
    },
    {
     "data": {
      "image/png": "[encoded data removed]",
      "text/plain": [
       "<Figure size 432x288 with 1 Axes>"
      ]
     },
     "metadata": {
      "needs_background": "light"
     },
     "output_type": "display_data"
    }
   ],
   "source": [
    "# we save TextBlob polarity and subjetivity scores in 2 different columns\n",
    "df['y_textblob_polarity'] = df.apply (lambda row: TextBlob(row['text_eng']).sentiment.polarity, axis=1)\n",
    "df['y_textblob_subjectivity'] = df.apply (lambda row: TextBlob(row['text_eng']).sentiment.subjectivity, axis=1)\n",
    "\n",
    "df_textblob = df.groupby(['label'])['y_textblob_polarity','y_textblob_subjectivity'].mean()\n",
    "df_textblob.plot.bar()"
   ]
  },
  {
   "cell_type": "markdown",
   "metadata": {},
   "source": [
    "As we can see in the plot above, the TextBlob's subjetivity score won't be relevant for us since its mean is not correlated with _label_. Despite of this, the polarity score could be interesting so we keep the column and multiply its values to have values between -2 and 2."
   ]
  },
  {
   "cell_type": "code",
   "execution_count": 23,
   "metadata": {},
   "outputs": [],
   "source": [
    "del df['y_textblob_subjectivity']\n",
    "df.columns.values[11] = 'y_textblob'\n",
    "df['y_textblob'] = df['y_textblob'].apply(lambda x: x*2)"
   ]
  },
  {
   "cell_type": "code",
   "execution_count": 24,
   "metadata": {},
   "outputs": [
    {
     "name": "stdout",
     "output_type": "stream",
     "text": [
      "Precision: 0.30\n",
      "Recall: 0.20\n"
     ]
    }
   ],
   "source": [
    "pc = precision_score(df['label'], df['y_textblob'].astype(int), average=None)\n",
    "rc = recall_score(df['label'], df['y_textblob'].astype(int), average=None)\n",
    "print(\"Precision: %.2f\"% np.mean(pc))\n",
    "print(\"Recall: %.2f\"% np.mean(rc))"
   ]
  },
  {
   "cell_type": "markdown",
   "metadata": {},
   "source": [
    "Its precision and recall by themselfs are not relevant, but we keep the values to see if they are useful in the future."
   ]
  },
  {
   "cell_type": "markdown",
   "metadata": {},
   "source": [
    "### VADER"
   ]
  },
  {
   "cell_type": "code",
   "execution_count": 25,
   "metadata": {},
   "outputs": [
    {
     "name": "stderr",
     "output_type": "stream",
     "text": [
      "[nltk_data] Downloading package vader_lexicon to\n",
      "[nltk_data]     C:\\Users\\carlo\\AppData\\Roaming\\nltk_data...\n",
      "[nltk_data]   Package vader_lexicon is already up-to-date!\n"
     ]
    }
   ],
   "source": [
    "import nltk\n",
    "nltk.download('vader_lexicon')\n",
    "\n",
    "from nltk.sentiment.vader import SentimentIntensityAnalyzer\n",
    "vader = SentimentIntensityAnalyzer()"
   ]
  },
  {
   "cell_type": "code",
   "execution_count": 26,
   "metadata": {},
   "outputs": [
    {
     "data": {
      "text/plain": [
       "<AxesSubplot:xlabel='label'>"
      ]
     },
     "execution_count": 26,
     "metadata": {},
     "output_type": "execute_result"
    },
    {
     "data": {
      "image/png": "[encoded data removed]",
      "text/plain": [
       "<Figure size 432x288 with 1 Axes>"
      ]
     },
     "metadata": {
      "needs_background": "light"
     },
     "output_type": "display_data"
    }
   ],
   "source": [
    "# compute VADER sentiment score and scale it to [-2, 2]\n",
    "df['y_vader'] = df.apply (lambda row: vader.polarity_scores(row['text_eng'])['compound'], axis=1)\n",
    "df['y_vader'] = df['y_vader'].apply(lambda x: x*2)\n",
    "\n",
    "df_vader = df.groupby(['label'])['y_vader'].mean()\n",
    "df_vader.plot.bar()"
   ]
  },
  {
   "cell_type": "code",
   "execution_count": 27,
   "metadata": {},
   "outputs": [
    {
     "name": "stdout",
     "output_type": "stream",
     "text": [
      "Precision: 0.16\n",
      "Recall: 0.21\n"
     ]
    },
    {
     "name": "stderr",
     "output_type": "stream",
     "text": [
      "C:\\ProgramData\\Anaconda3\\lib\\site-packages\\sklearn\\metrics\\_classification.py:1221: UndefinedMetricWarning: Precision is ill-defined and being set to 0.0 in labels with no predicted samples. Use `zero_division` parameter to control this behavior.\n",
      "  _warn_prf(average, modifier, msg_start, len(result))\n"
     ]
    }
   ],
   "source": [
    "pc = precision_score(df['label'], df['y_vader'].astype(int), average=None)\n",
    "rc = recall_score(df['label'], df['y_vader'].astype(int), average=None)\n",
    "print(\"Precision: %.2f\"% np.mean(pc))\n",
    "print(\"Recall: %.2f\"% np.mean(rc))"
   ]
  },
  {
   "cell_type": "markdown",
   "metadata": {},
   "source": [
    "Similar results, its precision and recall by themselfs are not relevant but we keep the values to see if they are useful in the future."
   ]
  },
  {
   "cell_type": "markdown",
   "metadata": {},
   "source": [
    "### BERT"
   ]
  },
  {
   "cell_type": "code",
   "execution_count": 28,
   "metadata": {},
   "outputs": [
    {
     "name": "stdout",
     "output_type": "stream",
     "text": [
      "Precision: 0.16\n",
      "Recall: 0.22\n"
     ]
    }
   ],
   "source": [
    "pc = precision_score(df['label'], df['bert_sentiment'].astype(int), average=None)\n",
    "rc = recall_score(df['label'], df['bert_sentiment'].astype(int), average=None)\n",
    "print(\"Precision: %.2f\"% np.mean(pc))\n",
    "print(\"Recall: %.2f\"% np.mean(rc))"
   ]
  },
  {
   "cell_type": "markdown",
   "metadata": {},
   "source": [
    "Once more, similar results. This is enough to show that we need a proper classifier using the rest of the data to improve the performance."
   ]
  },
  {
   "cell_type": "code",
   "execution_count": 29,
   "metadata": {},
   "outputs": [],
   "source": [
    "df.to_csv(r'dataset_expanded.csv', index = False, encoding='ansi')"
   ]
  },
  {
   "cell_type": "markdown",
   "metadata": {},
   "source": [
    "# ML Classification Models"
   ]
  },
  {
   "cell_type": "markdown",
   "metadata": {},
   "source": [
    "### Looking for ML model candidates with PyCaret"
   ]
  },
  {
   "cell_type": "markdown",
   "metadata": {},
   "source": [
    "PyCaret library is usually my choice to check which ML models could perform better for a concrete dataset and task. It provides a quick comparison between most used models and allows hyperparameter tuning among other functionalities.\n",
    "\n",
    "To simplify the content of this notebook, the code implemented with PyCaret can be found in two different notebooks (using a different environment for PyCaret to avoid problems with dependencies and versions):\n",
    "- _PyCaret_Infomedia_: contains the experiments done with the final feature configuration.\n",
    "- _PyCaret_Infomedia_Setup_Analysis_: contains varius classifier comparisons with different feature setups.\n",
    "\n",
    "The figure below shows a promising performance from Gradient Boosting Classifier with the validation set compared to other models:"
   ]
  },
  {
   "cell_type": "markdown",
   "metadata": {},
   "source": [
    "![title](img/model_comparison.png)"
   ]
  },
  {
   "cell_type": "markdown",
   "metadata": {},
   "source": [
    "This performance seems to be also generalizing well with the test set, although with a small dataset everytime you run the code the results change a bit (approx. +/-0.05):"
   ]
  },
  {
   "cell_type": "markdown",
   "metadata": {},
   "source": [
    "![title](img/gbc_test.png)"
   ]
  },
  {
   "cell_type": "markdown",
   "metadata": {},
   "source": [
    "These results are achieved with the parameters showed below (PyCaret is using sklearn library internally):"
   ]
  },
  {
   "cell_type": "code",
   "execution_count": 30,
   "metadata": {},
   "outputs": [
    {
     "data": {
      "text/plain": [
       "\"\\nGradientBoostingClassifier(ccp_alpha=0.0, criterion='friedman_mse', init=None,\\n                           learning_rate=0.1, loss='deviance', max_depth=3,\\n                           max_features=None, max_leaf_nodes=None,\\n                           min_impurity_decrease=0.0, min_impurity_split=None,\\n                           min_samples_leaf=1, min_samples_split=2,\\n                           min_weight_fraction_leaf=0.0, n_estimators=100,\\n                           n_iter_no_change=None, presort='deprecated',\\n                           random_state=7149, subsample=1.0, tol=0.0001,\\n                           validation_fraction=0.1, verbose=0,\\n                           warm_start=False)\\n\""
      ]
     },
     "execution_count": 30,
     "metadata": {},
     "output_type": "execute_result"
    }
   ],
   "source": [
    "'''\n",
    "GradientBoostingClassifier(ccp_alpha=0.0, criterion='friedman_mse', init=None,\n",
    "                           learning_rate=0.1, loss='deviance', max_depth=3,\n",
    "                           max_features=None, max_leaf_nodes=None,\n",
    "                           min_impurity_decrease=0.0, min_impurity_split=None,\n",
    "                           min_samples_leaf=1, min_samples_split=2,\n",
    "                           min_weight_fraction_leaf=0.0, n_estimators=100,\n",
    "                           n_iter_no_change=None, presort='deprecated',\n",
    "                           random_state=7149, subsample=1.0, tol=0.0001,\n",
    "                           validation_fraction=0.1, verbose=0,\n",
    "                           warm_start=False)\n",
    "'''"
   ]
  },
  {
   "cell_type": "markdown",
   "metadata": {},
   "source": [
    "These results have been achieved with the feature configuration showed below after trying with many different setups (take a look to the notebook _PyCaret_Infomedia_Setup_Analysis_ for more details). Notice that _bert_sentiment_ has been excluded, _topic_ and _topical_ are categorical and none of the extra features (_y\\_textblob_ and _y\\_vader_) have been included finally."
   ]
  },
  {
   "cell_type": "markdown",
   "metadata": {},
   "source": [
    "![title](img/feature_config.png)"
   ]
  },
  {
   "cell_type": "markdown",
   "metadata": {},
   "source": [
    "We can see in the Precision-Recall plot below that the performance seems to be very promising despite of the size of the dataset:"
   ]
  },
  {
   "cell_type": "markdown",
   "metadata": {},
   "source": [
    "![title](img/gbc_plot.png)"
   ]
  },
  {
   "cell_type": "markdown",
   "metadata": {},
   "source": [
    "## Gradient Boosting Classifier with Scikit-learn"
   ]
  },
  {
   "cell_type": "markdown",
   "metadata": {},
   "source": [
    "Now it's time to check if Gradient Boosting Classifier is performing that well and if we can tune its hyperparameters a bit more. We are going to use directly Scikit-learn for this task."
   ]
  },
  {
   "cell_type": "code",
   "execution_count": 31,
   "metadata": {},
   "outputs": [],
   "source": [
    "from sklearn.preprocessing import MinMaxScaler\n",
    "from sklearn.model_selection import train_test_split, RandomizedSearchCV, GridSearchCV\n",
    "from sklearn.metrics import classification_report, confusion_matrix\n",
    "from sklearn.ensemble import GradientBoostingClassifier\n",
    "from sklearn.utils import shuffle"
   ]
  },
  {
   "cell_type": "code",
   "execution_count": 32,
   "metadata": {},
   "outputs": [
    {
     "data": {
      "text/html": [
       "<div>\n",
       "<style scoped>\n",
       "    .dataframe tbody tr th:only-of-type {\n",
       "        vertical-align: middle;\n",
       "    }\n",
       "\n",
       "    .dataframe tbody tr th {\n",
       "        vertical-align: top;\n",
       "    }\n",
       "\n",
       "    .dataframe thead th {\n",
       "        text-align: right;\n",
       "    }\n",
       "</style>\n",
       "<table border=\"1\" class=\"dataframe\">\n",
       "  <thead>\n",
       "    <tr style=\"text-align: right;\">\n",
       "      <th></th>\n",
       "      <th>bert_sentiment</th>\n",
       "      <th>doc_pred</th>\n",
       "      <th>lexicon_sentiment</th>\n",
       "      <th>topical</th>\n",
       "      <th>tokens</th>\n",
       "      <th>entities</th>\n",
       "      <th>label</th>\n",
       "      <th>topic_Boris Johnson</th>\n",
       "      <th>topic_Donald Trump</th>\n",
       "      <th>topic_Joe Biden</th>\n",
       "    </tr>\n",
       "  </thead>\n",
       "  <tbody>\n",
       "    <tr>\n",
       "      <th>0</th>\n",
       "      <td>-1.195102</td>\n",
       "      <td>-1.558372</td>\n",
       "      <td>-0.470588</td>\n",
       "      <td>0</td>\n",
       "      <td>13</td>\n",
       "      <td>0</td>\n",
       "      <td>-2</td>\n",
       "      <td>0</td>\n",
       "      <td>1</td>\n",
       "      <td>0</td>\n",
       "    </tr>\n",
       "    <tr>\n",
       "      <th>1</th>\n",
       "      <td>-0.751376</td>\n",
       "      <td>-1.698865</td>\n",
       "      <td>-0.247788</td>\n",
       "      <td>1</td>\n",
       "      <td>11</td>\n",
       "      <td>2</td>\n",
       "      <td>-2</td>\n",
       "      <td>1</td>\n",
       "      <td>0</td>\n",
       "      <td>0</td>\n",
       "    </tr>\n",
       "    <tr>\n",
       "      <th>2</th>\n",
       "      <td>0.119638</td>\n",
       "      <td>-1.428882</td>\n",
       "      <td>-0.953488</td>\n",
       "      <td>0</td>\n",
       "      <td>7</td>\n",
       "      <td>0</td>\n",
       "      <td>-2</td>\n",
       "      <td>0</td>\n",
       "      <td>1</td>\n",
       "      <td>0</td>\n",
       "    </tr>\n",
       "    <tr>\n",
       "      <th>3</th>\n",
       "      <td>-0.526979</td>\n",
       "      <td>-1.457036</td>\n",
       "      <td>-0.007380</td>\n",
       "      <td>0</td>\n",
       "      <td>18</td>\n",
       "      <td>0</td>\n",
       "      <td>-2</td>\n",
       "      <td>0</td>\n",
       "      <td>1</td>\n",
       "      <td>0</td>\n",
       "    </tr>\n",
       "    <tr>\n",
       "      <th>4</th>\n",
       "      <td>-0.700014</td>\n",
       "      <td>-1.722569</td>\n",
       "      <td>-0.142857</td>\n",
       "      <td>0</td>\n",
       "      <td>13</td>\n",
       "      <td>1</td>\n",
       "      <td>-2</td>\n",
       "      <td>0</td>\n",
       "      <td>1</td>\n",
       "      <td>0</td>\n",
       "    </tr>\n",
       "    <tr>\n",
       "      <th>...</th>\n",
       "      <td>...</td>\n",
       "      <td>...</td>\n",
       "      <td>...</td>\n",
       "      <td>...</td>\n",
       "      <td>...</td>\n",
       "      <td>...</td>\n",
       "      <td>...</td>\n",
       "      <td>...</td>\n",
       "      <td>...</td>\n",
       "      <td>...</td>\n",
       "    </tr>\n",
       "    <tr>\n",
       "      <th>180</th>\n",
       "      <td>1.057251</td>\n",
       "      <td>0.529619</td>\n",
       "      <td>0.394904</td>\n",
       "      <td>1</td>\n",
       "      <td>14</td>\n",
       "      <td>1</td>\n",
       "      <td>2</td>\n",
       "      <td>1</td>\n",
       "      <td>0</td>\n",
       "      <td>0</td>\n",
       "    </tr>\n",
       "    <tr>\n",
       "      <th>181</th>\n",
       "      <td>0.499768</td>\n",
       "      <td>-0.724118</td>\n",
       "      <td>0.869565</td>\n",
       "      <td>0</td>\n",
       "      <td>13</td>\n",
       "      <td>2</td>\n",
       "      <td>2</td>\n",
       "      <td>0</td>\n",
       "      <td>1</td>\n",
       "      <td>0</td>\n",
       "    </tr>\n",
       "    <tr>\n",
       "      <th>182</th>\n",
       "      <td>0.314489</td>\n",
       "      <td>0.529619</td>\n",
       "      <td>0.137931</td>\n",
       "      <td>0</td>\n",
       "      <td>18</td>\n",
       "      <td>1</td>\n",
       "      <td>2</td>\n",
       "      <td>1</td>\n",
       "      <td>0</td>\n",
       "      <td>0</td>\n",
       "    </tr>\n",
       "    <tr>\n",
       "      <th>183</th>\n",
       "      <td>-0.161167</td>\n",
       "      <td>-0.724118</td>\n",
       "      <td>0.038462</td>\n",
       "      <td>0</td>\n",
       "      <td>17</td>\n",
       "      <td>0</td>\n",
       "      <td>2</td>\n",
       "      <td>0</td>\n",
       "      <td>1</td>\n",
       "      <td>0</td>\n",
       "    </tr>\n",
       "    <tr>\n",
       "      <th>184</th>\n",
       "      <td>-1.404224</td>\n",
       "      <td>-0.873057</td>\n",
       "      <td>0.363636</td>\n",
       "      <td>0</td>\n",
       "      <td>17</td>\n",
       "      <td>0</td>\n",
       "      <td>2</td>\n",
       "      <td>0</td>\n",
       "      <td>1</td>\n",
       "      <td>0</td>\n",
       "    </tr>\n",
       "  </tbody>\n",
       "</table>\n",
       "<p>185 rows × 10 columns</p>\n",
       "</div>"
      ],
      "text/plain": [
       "     bert_sentiment  doc_pred  lexicon_sentiment  topical  tokens  entities  \\\n",
       "0         -1.195102 -1.558372          -0.470588        0      13         0   \n",
       "1         -0.751376 -1.698865          -0.247788        1      11         2   \n",
       "2          0.119638 -1.428882          -0.953488        0       7         0   \n",
       "3         -0.526979 -1.457036          -0.007380        0      18         0   \n",
       "4         -0.700014 -1.722569          -0.142857        0      13         1   \n",
       "..              ...       ...                ...      ...     ...       ...   \n",
       "180        1.057251  0.529619           0.394904        1      14         1   \n",
       "181        0.499768 -0.724118           0.869565        0      13         2   \n",
       "182        0.314489  0.529619           0.137931        0      18         1   \n",
       "183       -0.161167 -0.724118           0.038462        0      17         0   \n",
       "184       -1.404224 -0.873057           0.363636        0      17         0   \n",
       "\n",
       "     label  topic_Boris Johnson  topic_Donald Trump  topic_Joe Biden  \n",
       "0       -2                    0                   1                0  \n",
       "1       -2                    1                   0                0  \n",
       "2       -2                    0                   1                0  \n",
       "3       -2                    0                   1                0  \n",
       "4       -2                    0                   1                0  \n",
       "..     ...                  ...                 ...              ...  \n",
       "180      2                    1                   0                0  \n",
       "181      2                    0                   1                0  \n",
       "182      2                    1                   0                0  \n",
       "183      2                    0                   1                0  \n",
       "184      2                    0                   1                0  \n",
       "\n",
       "[185 rows x 10 columns]"
      ]
     },
     "execution_count": 32,
     "metadata": {},
     "output_type": "execute_result"
    }
   ],
   "source": [
    "# new dataframe containing only the features we are going to use (not excluding 'bert_sentiment' yet)\n",
    "data = [df['bert_sentiment'],df['topic'],df['doc_pred'],df['lexicon_sentiment'],\n",
    "        df['topical'],df['tokens'],df['entities'],df['label']]\n",
    "headers = ['bert_sentiment','topic','doc_pred','lexicon_sentiment','topical','tokens','entities','label']\n",
    "df_op = pd.concat(data, axis=1, keys=headers).sort_index()\n",
    "\n",
    "# transform feature 'topic' to categorical ('topical' is already categorical)\n",
    "df_op = pd.get_dummies(df_op, columns=['topic'])\n",
    "df_op"
   ]
  },
  {
   "cell_type": "code",
   "execution_count": 33,
   "metadata": {},
   "outputs": [],
   "source": [
    "# shuffle dataset rows and create training (75%) & test (25%) sets\n",
    "df_op = shuffle(df_op)\n",
    "X_train, X_test, y_train, y_test = train_test_split(df_op.loc[:, df_op.columns != 'label'],\n",
    "                                                    df_op['label'], test_size=0.25, random_state=123)\n",
    "\n",
    "# save 'bert_sentiment' values from test set\n",
    "y_test_bert = X_test['bert_sentiment']\n",
    "\n",
    "# remove 'bert_sentiment' from both sets\n",
    "del X_train['bert_sentiment']\n",
    "del X_test['bert_sentiment']\n",
    "\n",
    "# normalize data\n",
    "scaler = MinMaxScaler()\n",
    "X_train = scaler.fit_transform(X_train)\n",
    "X_test = scaler.transform(X_test)\n",
    "\n",
    "# split train set into train (75%) and validation (25%) sets\n",
    "X_train, X_val, y_train, y_val = train_test_split(X_train, y_train, test_size=0.25, random_state=246)"
   ]
  },
  {
   "cell_type": "code",
   "execution_count": 34,
   "metadata": {},
   "outputs": [
    {
     "name": "stdout",
     "output_type": "stream",
     "text": [
      "\n",
      "Learning rate:  0.05\n",
      "Accuracy score (training): 1.000\n",
      "Accuracy score (validation): 0.829\n",
      "\n",
      "Learning rate:  0.075\n",
      "Accuracy score (training): 1.000\n",
      "Accuracy score (validation): 0.857\n",
      "\n",
      "Learning rate:  0.1\n",
      "Accuracy score (training): 1.000\n",
      "Accuracy score (validation): 0.857\n",
      "\n",
      "Learning rate:  0.25\n",
      "Accuracy score (training): 1.000\n",
      "Accuracy score (validation): 0.857\n",
      "\n",
      "Learning rate:  0.5\n",
      "Accuracy score (training): 1.000\n",
      "Accuracy score (validation): 0.857\n",
      "\n",
      "Learning rate:  0.75\n",
      "Accuracy score (training): 1.000\n",
      "Accuracy score (validation): 0.914\n",
      "\n",
      "Learning rate:  1\n",
      "Accuracy score (training): 1.000\n",
      "Accuracy score (validation): 0.857\n"
     ]
    }
   ],
   "source": [
    "# try with different learning rates and main parameters from PyCaret\n",
    "lr_list = [0.05, 0.075, 0.1, 0.25, 0.5, 0.75, 1]\n",
    "\n",
    "for learning_rate in lr_list:\n",
    "    gb_clf = GradientBoostingClassifier(n_estimators=100, learning_rate=learning_rate, \n",
    "                                        max_features=None, max_depth=3, tol=0.0001,\n",
    "                                        min_samples_leaf=1, min_samples_split=2, random_state=1234)\n",
    "    gb_clf.fit(X_train, y_train)\n",
    "\n",
    "    print(\"\\nLearning rate: \", learning_rate)\n",
    "    print(\"Accuracy score (training): {0:.3f}\".format(gb_clf.score(X_train, y_train)))\n",
    "    print(\"Accuracy score (validation): {0:.3f}\".format(gb_clf.score(X_val, y_val)))"
   ]
  },
  {
   "cell_type": "markdown",
   "metadata": {},
   "source": [
    "Seems that the model is performing well as expected, but taking a look to the accuracies with the validation set we can not have a clear preference for a learning rate.\n",
    "\n",
    "In order to identify the best parameters for the model we are going to perform random hyperparameter search to narrow down the range of possible values for the parameters:"
   ]
  },
  {
   "cell_type": "code",
   "execution_count": 35,
   "metadata": {},
   "outputs": [
    {
     "data": {
      "text/plain": [
       "{'learning_rate': [0.05, 0.075, 0.1, 0.25, 0.5, 0.75, 1],\n",
       " 'max_depth': [3, 8, 13, 18, 24, 29, 34, 40, None],\n",
       " 'n_estimators': [20, 40, 60, 80, 100, 120, 140, 160, 180, 200],\n",
       " 'min_samples_split': [1, 2, 4, 6, 8],\n",
       " 'min_samples_leaf': [1, 2, 3, 4, 8],\n",
       " 'subsample': [0.5, 0.7, 1.0]}"
      ]
     },
     "execution_count": 35,
     "metadata": {},
     "output_type": "execute_result"
    }
   ],
   "source": [
    "# define the ranges for each hyperparameter we want to try\n",
    "learning_rate = [0.05, 0.075, 0.1, 0.25, 0.5, 0.75, 1]\n",
    "min_samples_split = [1, 2, 4, 6, 8]\n",
    "min_samples_leaf = [1, 2, 3, 4, 8]\n",
    "max_depth = [int(x) for x in np.linspace(3, 40, num = 8)]\n",
    "max_depth.append(None)\n",
    "n_estimators = [int(x) for x in np.linspace(start = 20, stop = 200, num=10)]\n",
    "subsample = [0.5, 0.7, 1.0]\n",
    "\n",
    "random_grid = {'learning_rate': learning_rate,\n",
    "               'max_depth': max_depth,\n",
    "               'n_estimators': n_estimators,\n",
    "               'min_samples_split' : min_samples_split,\n",
    "               'min_samples_leaf' : min_samples_leaf,\n",
    "               'subsample':subsample}\n",
    "\n",
    "random_grid"
   ]
  },
  {
   "cell_type": "code",
   "execution_count": 36,
   "metadata": {},
   "outputs": [
    {
     "name": "stdout",
     "output_type": "stream",
     "text": [
      "Fitting 5 folds for each of 100 candidates, totalling 500 fits\n"
     ]
    },
    {
     "name": "stderr",
     "output_type": "stream",
     "text": [
      "[Parallel(n_jobs=-1)]: Using backend LokyBackend with 12 concurrent workers.\n",
      "[Parallel(n_jobs=-1)]: Done  17 tasks      | elapsed:    5.5s\n",
      "[Parallel(n_jobs=-1)]: Done 138 tasks      | elapsed:   11.3s\n",
      "[Parallel(n_jobs=-1)]: Done 341 tasks      | elapsed:   23.2s\n",
      "[Parallel(n_jobs=-1)]: Done 477 out of 500 | elapsed:   28.5s remaining:    1.3s\n",
      "[Parallel(n_jobs=-1)]: Done 500 out of 500 | elapsed:   29.8s finished\n"
     ]
    },
    {
     "name": "stdout",
     "output_type": "stream",
     "text": [
      "{'subsample': 1.0, 'n_estimators': 140, 'min_samples_split': 8, 'min_samples_leaf': 1, 'max_depth': 29, 'learning_rate': 0.05}\n",
      "\n",
      "Confusion Matrix:\n",
      "[[6 0 0 0 0]\n",
      " [1 5 1 0 0]\n",
      " [0 0 5 2 2]\n",
      " [0 0 0 8 0]\n",
      " [0 0 0 1 4]]\n",
      "\n",
      "Classification Report\n",
      "              precision    recall  f1-score   support\n",
      "\n",
      "          -2       0.86      1.00      0.92         6\n",
      "          -1       1.00      0.71      0.83         7\n",
      "           0       0.83      0.56      0.67         9\n",
      "           1       0.73      1.00      0.84         8\n",
      "           2       0.67      0.80      0.73         5\n",
      "\n",
      "    accuracy                           0.80        35\n",
      "   macro avg       0.82      0.81      0.80        35\n",
      "weighted avg       0.82      0.80      0.79        35\n",
      "\n"
     ]
    }
   ],
   "source": [
    "# perform random search with 100 parameter settings sampled and 5-fold cross validation\n",
    "gb_clf = GradientBoostingClassifier()\n",
    "gb_clf_Random = RandomizedSearchCV(estimator = gb_clf, param_distributions = random_grid, \n",
    "                                   n_iter = 100, cv = 5, verbose=2, random_state=42, n_jobs = -1)\n",
    "gb_clf_Random.fit(X_train, y_train)\n",
    "\n",
    "print(gb_clf_Random.best_params_)\n",
    "\n",
    "predictions = gb_clf_Random.predict(X_val)\n",
    "\n",
    "print(\"\\nConfusion Matrix:\")\n",
    "print(confusion_matrix(y_val, predictions))\n",
    "\n",
    "print(\"\\nClassification Report\")\n",
    "print(classification_report(y_val, predictions))"
   ]
  },
  {
   "cell_type": "markdown",
   "metadata": {},
   "source": [
    "Once we have an estimation of the best hyperparameter configuration, it's time to try to find the best one performing grid search. To achieve this, we are going to build small ranges of values around the ones we got from random search:"
   ]
  },
  {
   "cell_type": "code",
   "execution_count": 37,
   "metadata": {},
   "outputs": [
    {
     "name": "stdout",
     "output_type": "stream",
     "text": [
      "Fitting 5 folds for each of 100 candidates, totalling 500 fits\n"
     ]
    },
    {
     "name": "stderr",
     "output_type": "stream",
     "text": [
      "[Parallel(n_jobs=-1)]: Using backend LokyBackend with 12 concurrent workers.\n",
      "[Parallel(n_jobs=-1)]: Done   8 tasks      | elapsed:    0.5s\n",
      "[Parallel(n_jobs=-1)]: Done 104 tasks      | elapsed:    5.9s\n",
      "[Parallel(n_jobs=-1)]: Done 264 tasks      | elapsed:   15.9s\n",
      "[Parallel(n_jobs=-1)]: Done 500 out of 500 | elapsed:   29.5s finished\n"
     ]
    },
    {
     "name": "stdout",
     "output_type": "stream",
     "text": [
      "{'learning_rate': 0.05, 'max_depth': 20, 'min_samples_leaf': 8, 'min_samples_split': 6, 'n_estimators': 80, 'subsample': 1.0}\n",
      "\n",
      "Confusion Matrix:\n",
      "[[6 0 0 0 0]\n",
      " [2 5 0 0 0]\n",
      " [2 0 5 1 1]\n",
      " [0 0 0 8 0]\n",
      " [0 0 0 1 4]]\n",
      "\n",
      "Classification Report\n",
      "              precision    recall  f1-score   support\n",
      "\n",
      "          -2       0.60      1.00      0.75         6\n",
      "          -1       1.00      0.71      0.83         7\n",
      "           0       1.00      0.56      0.71         9\n",
      "           1       0.80      1.00      0.89         8\n",
      "           2       0.80      0.80      0.80         5\n",
      "\n",
      "    accuracy                           0.80        35\n",
      "   macro avg       0.84      0.81      0.80        35\n",
      "weighted avg       0.86      0.80      0.80        35\n",
      "\n"
     ]
    }
   ],
   "source": [
    "# define the ranges for each hyperparameter we want to try\n",
    "params_grid = {'subsample': [1.0], \n",
    "               'n_estimators': [80, 100, 120, 140, 160], \n",
    "               'min_samples_split': [6], \n",
    "               'min_samples_leaf': [8], \n",
    "               'max_depth': [20, 30, 40, 50],\n",
    "               'learning_rate': [0.05, 0.075, 0.1, 0.15, 0.25]}\n",
    "\n",
    "# perform grid search with 5-fold cross validation\n",
    "gb_clf = GradientBoostingClassifier()\n",
    "gb_clf_Grid = GridSearchCV(estimator = gb_clf, param_grid = params_grid, cv = 5, verbose=3, n_jobs = -1)\n",
    "gb_clf_Grid.fit(X_train, y_train)\n",
    "\n",
    "print(gb_clf_Grid.best_params_)\n",
    "\n",
    "predictions = gb_clf_Grid.predict(X_val)\n",
    "\n",
    "print(\"\\nConfusion Matrix:\")\n",
    "print(confusion_matrix(y_val, predictions))\n",
    "\n",
    "print(\"\\nClassification Report\")\n",
    "print(classification_report(y_val, predictions))"
   ]
  },
  {
   "cell_type": "markdown",
   "metadata": {},
   "source": [
    "The hyperparameter configuration obtained is very similar to the previous one we got from random search, with also similar results.\n",
    "\n",
    "Let's test this implementation using the test set:"
   ]
  },
  {
   "cell_type": "code",
   "execution_count": 38,
   "metadata": {},
   "outputs": [
    {
     "name": "stdout",
     "output_type": "stream",
     "text": [
      "\n",
      "Confusion Matrix:\n",
      "[[10  2  1  0  0]\n",
      " [ 2 10  0  0  0]\n",
      " [ 1  1  3  0  0]\n",
      " [ 0  0  0  5  0]\n",
      " [ 0  0  0  4  8]]\n",
      "\n",
      "Classification Report\n",
      "              precision    recall  f1-score   support\n",
      "\n",
      "          -2       0.77      0.77      0.77        13\n",
      "          -1       0.77      0.83      0.80        12\n",
      "           0       0.75      0.60      0.67         5\n",
      "           1       0.56      1.00      0.71         5\n",
      "           2       1.00      0.67      0.80        12\n",
      "\n",
      "    accuracy                           0.77        47\n",
      "   macro avg       0.77      0.77      0.75        47\n",
      "weighted avg       0.80      0.77      0.77        47\n",
      "\n"
     ]
    }
   ],
   "source": [
    "predictions = gb_clf_Grid.predict(X_test)\n",
    "\n",
    "print(\"\\nConfusion Matrix:\")\n",
    "print(confusion_matrix(y_test, predictions))\n",
    "\n",
    "print(\"\\nClassification Report\")\n",
    "print(classification_report(y_test, predictions))"
   ]
  },
  {
   "cell_type": "markdown",
   "metadata": {},
   "source": [
    "The model is performing well, with values close to the ones obtained with PyCaret. For the moment this is the best candidate for the task. We can not see clear effects of the overslamping + undersampling process."
   ]
  },
  {
   "cell_type": "markdown",
   "metadata": {},
   "source": [
    "## Other Classifiers"
   ]
  },
  {
   "cell_type": "markdown",
   "metadata": {},
   "source": [
    "### Decision Tree Classifier"
   ]
  },
  {
   "cell_type": "markdown",
   "metadata": {},
   "source": [
    "This classifier was the second best ML model listed by PyCaret, therefore it could be interesting to try with it.\n",
    "\n",
    "The hyperparameter setting checked by PyCaret is shown below:"
   ]
  },
  {
   "cell_type": "code",
   "execution_count": 39,
   "metadata": {},
   "outputs": [
    {
     "name": "stdout",
     "output_type": "stream",
     "text": [
      "Accuracy score (training): 1.000\n",
      "Accuracy score (validation): 0.829\n"
     ]
    }
   ],
   "source": [
    "from sklearn.tree import DecisionTreeClassifier\n",
    "\n",
    "# setup the classifier and predict\n",
    "dt_clf = DecisionTreeClassifier(ccp_alpha=0.0, class_weight=None, criterion='gini',\n",
    "                       max_depth=None, max_features=None, max_leaf_nodes=None,\n",
    "                       min_impurity_decrease=0.0, min_impurity_split=None,\n",
    "                       min_samples_leaf=1, min_samples_split=2,\n",
    "                       min_weight_fraction_leaf=0.0, presort='deprecated',\n",
    "                       random_state=7149, splitter='best')\n",
    "dt_clf.fit(X_train, y_train)\n",
    "\n",
    "print(\"Accuracy score (training): {0:.3f}\".format(dt_clf.score(X_train, y_train)))\n",
    "print(\"Accuracy score (validation): {0:.3f}\".format(dt_clf.score(X_val, y_val)))"
   ]
  },
  {
   "cell_type": "code",
   "execution_count": 40,
   "metadata": {},
   "outputs": [
    {
     "name": "stdout",
     "output_type": "stream",
     "text": [
      "\n",
      "Confusion Matrix:\n",
      "[[ 8  4  1  0  0]\n",
      " [ 1 11  0  0  0]\n",
      " [ 0  0  5  0  0]\n",
      " [ 0  0  0  5  0]\n",
      " [ 0  0  0  1 11]]\n",
      "\n",
      "Classification Report\n",
      "              precision    recall  f1-score   support\n",
      "\n",
      "          -2       0.89      0.62      0.73        13\n",
      "          -1       0.73      0.92      0.81        12\n",
      "           0       0.83      1.00      0.91         5\n",
      "           1       0.83      1.00      0.91         5\n",
      "           2       1.00      0.92      0.96        12\n",
      "\n",
      "    accuracy                           0.85        47\n",
      "   macro avg       0.86      0.89      0.86        47\n",
      "weighted avg       0.87      0.85      0.85        47\n",
      "\n"
     ]
    }
   ],
   "source": [
    "# predict on test set\n",
    "predictions = dt_clf.predict(X_test)\n",
    "\n",
    "print(\"\\nConfusion Matrix:\")\n",
    "print(confusion_matrix(y_test, predictions))\n",
    "\n",
    "print(\"\\nClassification Report\")\n",
    "print(classification_report(y_test, predictions))"
   ]
  },
  {
   "cell_type": "markdown",
   "metadata": {},
   "source": [
    "The results are interesting with the test set. Despite of sligthly better results, we are not going to tune its hyperparameters due to the nature of the model.\n",
    "\n",
    "This ML model is less complex than Gradient Boosting Classifier (GBC). In fact, GBC uses weak prediction models like desicion trees. But then, why this model is able to perform slightly better? Once more, the reason could be the small size of the dataset. Since there are few samples per class, the Decision Tree model could easily classify but probably it will not be as good as GBC if it has to generalize with a bigger dataset. Anyway, we can not confirm this hypothesis without more data."
   ]
  },
  {
   "cell_type": "markdown",
   "metadata": {},
   "source": [
    "### Extreme Gradient Boosting (XGBoost) Classifier"
   ]
  },
  {
   "cell_type": "markdown",
   "metadata": {},
   "source": [
    "This classifier was the third best ML model listed by PyCaret.\n",
    "\n",
    "The hyperparameter setting checked by PyCaret is shown below:"
   ]
  },
  {
   "cell_type": "code",
   "execution_count": 41,
   "metadata": {},
   "outputs": [
    {
     "name": "stderr",
     "output_type": "stream",
     "text": [
      "C:\\ProgramData\\Anaconda3\\lib\\site-packages\\xgboost\\sklearn.py:888: UserWarning: The use of label encoder in XGBClassifier is deprecated and will be removed in a future release. To remove this warning, do the following: 1) Pass option use_label_encoder=False when constructing XGBClassifier object; and 2) Encode your labels (y) as integers starting with 0, i.e. 0, 1, 2, ..., [num_class - 1].\n",
      "  warnings.warn(label_encoder_deprecation_msg, UserWarning)\n"
     ]
    },
    {
     "name": "stdout",
     "output_type": "stream",
     "text": [
      "Accuracy score (training): 1.000\n",
      "Accuracy score (validation): 0.800\n"
     ]
    }
   ],
   "source": [
    "from xgboost import XGBClassifier\n",
    "\n",
    "# setup the classifier and predict\n",
    "xgb_clf = XGBClassifier(base_score=0.5, booster='gbtree', colsample_bylevel=1,\n",
    "              colsample_bynode=1, colsample_bytree=1, gamma=0, gpu_id=-1,\n",
    "              importance_type='gain', interaction_constraints='',\n",
    "              learning_rate=0.300000012, max_delta_step=0, max_depth=6,\n",
    "              min_child_weight=1, monotone_constraints='()',\n",
    "              n_estimators=100, n_jobs=-1, num_parallel_tree=1,\n",
    "              objective='multi:softprob', random_state=7149, reg_alpha=0,\n",
    "              reg_lambda=1, scale_pos_weight=None, subsample=1,\n",
    "              tree_method='auto', use_label_encoder=True, validate_parameters=1,\n",
    "              verbosity=0)\n",
    "xgb_clf.fit(X_train, y_train)\n",
    "\n",
    "print(\"Accuracy score (training): {0:.3f}\".format(xgb_clf.score(X_train, y_train)))\n",
    "print(\"Accuracy score (validation): {0:.3f}\".format(xgb_clf.score(X_val, y_val)))"
   ]
  },
  {
   "cell_type": "code",
   "execution_count": 42,
   "metadata": {},
   "outputs": [
    {
     "name": "stdout",
     "output_type": "stream",
     "text": [
      "\n",
      "Confusion Matrix:\n",
      "[[11  1  1  0  0]\n",
      " [ 2 10  0  0  0]\n",
      " [ 1  0  4  0  0]\n",
      " [ 0  0  0  5  0]\n",
      " [ 0  0  0  2 10]]\n",
      "\n",
      "Classification Report\n",
      "              precision    recall  f1-score   support\n",
      "\n",
      "          -2       0.79      0.85      0.81        13\n",
      "          -1       0.91      0.83      0.87        12\n",
      "           0       0.80      0.80      0.80         5\n",
      "           1       0.71      1.00      0.83         5\n",
      "           2       1.00      0.83      0.91        12\n",
      "\n",
      "    accuracy                           0.85        47\n",
      "   macro avg       0.84      0.86      0.85        47\n",
      "weighted avg       0.87      0.85      0.85        47\n",
      "\n"
     ]
    }
   ],
   "source": [
    "# predict on test set\n",
    "predictions = xgb_clf.predict(X_test)\n",
    "\n",
    "print(\"\\nConfusion Matrix:\")\n",
    "print(confusion_matrix(y_test, predictions))\n",
    "\n",
    "print(\"\\nClassification Report\")\n",
    "print(classification_report(y_test, predictions))"
   ]
  },
  {
   "cell_type": "markdown",
   "metadata": {},
   "source": [
    "Since XGBoost is an efficient and effective implementation of the gradient boosting algorithm and the results with the test set look promising, we are going to tune its hyperparameters to see if we can improve its performance.\n",
    "\n",
    "The tuning process is the same as the one we applied with the standard gradient boosting classifier: random search followed by grid search."
   ]
  },
  {
   "cell_type": "code",
   "execution_count": 43,
   "metadata": {},
   "outputs": [
    {
     "name": "stdout",
     "output_type": "stream",
     "text": [
      "Fitting 5 folds for each of 100 candidates, totalling 500 fits\n"
     ]
    },
    {
     "name": "stderr",
     "output_type": "stream",
     "text": [
      "[Parallel(n_jobs=-1)]: Using backend LokyBackend with 12 concurrent workers.\n",
      "[Parallel(n_jobs=-1)]: Done  17 tasks      | elapsed:    3.3s\n",
      "[Parallel(n_jobs=-1)]: Done 138 tasks      | elapsed:   17.8s\n",
      "[Parallel(n_jobs=-1)]: Done 341 tasks      | elapsed:   39.9s\n",
      "[Parallel(n_jobs=-1)]: Done 500 out of 500 | elapsed:   55.5s finished\n",
      "C:\\ProgramData\\Anaconda3\\lib\\site-packages\\xgboost\\sklearn.py:888: UserWarning: The use of label encoder in XGBClassifier is deprecated and will be removed in a future release. To remove this warning, do the following: 1) Pass option use_label_encoder=False when constructing XGBClassifier object; and 2) Encode your labels (y) as integers starting with 0, i.e. 0, 1, 2, ..., [num_class - 1].\n",
      "  warnings.warn(label_encoder_deprecation_msg, UserWarning)\n"
     ]
    },
    {
     "name": "stdout",
     "output_type": "stream",
     "text": [
      "{'subsample': 1.0, 'n_estimators': 104, 'min_samples_split': 10, 'min_samples_leaf': 2, 'min_child_weight': 1, 'max_depth': 24, 'learning_rate': 0.5, 'colsample_bytree': 1}\n",
      "\n",
      "Confusion Matrix:\n",
      "[[5 0 1 0 0]\n",
      " [2 5 0 0 0]\n",
      " [2 0 5 0 2]\n",
      " [0 0 0 8 0]\n",
      " [0 0 0 1 4]]\n",
      "\n",
      "Classification Report\n",
      "              precision    recall  f1-score   support\n",
      "\n",
      "          -2       0.56      0.83      0.67         6\n",
      "          -1       1.00      0.71      0.83         7\n",
      "           0       0.83      0.56      0.67         9\n",
      "           1       0.89      1.00      0.94         8\n",
      "           2       0.67      0.80      0.73         5\n",
      "\n",
      "    accuracy                           0.77        35\n",
      "   macro avg       0.79      0.78      0.77        35\n",
      "weighted avg       0.81      0.77      0.77        35\n",
      "\n"
     ]
    }
   ],
   "source": [
    "# define the ranges for each hyperparameter we want to try\n",
    "n_estimators = [int(x) for x in np.linspace(start = 20, stop = 400, num=10)]\n",
    "learning_rate = [0.05, 0.075, 0.1, 0.25, 0.5, 0.75, 1]\n",
    "max_depth = [int(x) for x in np.linspace(3, 40, num = 8)]\n",
    "max_depth.append(None)\n",
    "colsample_bytree = [0.5, 0.75, 1]\n",
    "min_child_weight = [1, 3, 5, 10]\n",
    "subsample = [0.5, 0.7, 1.0]\n",
    "min_samples_split = [2, 5, 10]\n",
    "min_samples_leaf = [1, 2, 4]\n",
    "\n",
    "random_grid = {'learning_rate': learning_rate,\n",
    "               'max_depth': max_depth,\n",
    "               'n_estimators': n_estimators,\n",
    "               'colsample_bytree': colsample_bytree,\n",
    "               'min_child_weight': min_child_weight,\n",
    "               'min_samples_split' : min_samples_split,\n",
    "               'min_samples_leaf' : min_samples_leaf,\n",
    "               'subsample':subsample}\n",
    "\n",
    "# perform random search with 100 parameter settings sampled and 5-fold cross validation\n",
    "xgb_clf = XGBClassifier()\n",
    "xgb_clf_Random = RandomizedSearchCV(estimator = xgb_clf, param_distributions = random_grid, \n",
    "                                   n_iter = 100, cv = 5, verbose=2, random_state=423, n_jobs = -1)\n",
    "xgb_clf_Random.fit(X_train, y_train)\n",
    "\n",
    "print(xgb_clf_Random.best_params_)\n",
    "\n",
    "predictions = xgb_clf_Random.predict(X_val)\n",
    "\n",
    "print(\"\\nConfusion Matrix:\")\n",
    "print(confusion_matrix(y_val, predictions))\n",
    "\n",
    "print(\"\\nClassification Report\")\n",
    "print(classification_report(y_val, predictions))"
   ]
  },
  {
   "cell_type": "code",
   "execution_count": 44,
   "metadata": {},
   "outputs": [
    {
     "name": "stdout",
     "output_type": "stream",
     "text": [
      "Fitting 5 folds for each of 12 candidates, totalling 60 fits\n"
     ]
    },
    {
     "name": "stderr",
     "output_type": "stream",
     "text": [
      "[Parallel(n_jobs=-1)]: Using backend LokyBackend with 12 concurrent workers.\n",
      "[Parallel(n_jobs=-1)]: Done   8 tasks      | elapsed:    4.5s\n",
      "[Parallel(n_jobs=-1)]: Done  58 out of  60 | elapsed:   17.3s remaining:    0.5s\n",
      "[Parallel(n_jobs=-1)]: Done  60 out of  60 | elapsed:   17.3s finished\n",
      "C:\\ProgramData\\Anaconda3\\lib\\site-packages\\xgboost\\sklearn.py:888: UserWarning: The use of label encoder in XGBClassifier is deprecated and will be removed in a future release. To remove this warning, do the following: 1) Pass option use_label_encoder=False when constructing XGBClassifier object; and 2) Encode your labels (y) as integers starting with 0, i.e. 0, 1, 2, ..., [num_class - 1].\n",
      "  warnings.warn(label_encoder_deprecation_msg, UserWarning)\n"
     ]
    },
    {
     "name": "stdout",
     "output_type": "stream",
     "text": [
      "{'colsample_bytree': 1, 'learning_rate': 0.075, 'max_depth': 28, 'min_child_weight': 1, 'min_samples_leaf': 2, 'min_samples_split': 2, 'n_estimators': 357, 'subsample': 1.0}\n",
      "\n",
      "Confusion Matrix:\n",
      "[[5 1 0 0 0]\n",
      " [2 5 0 0 0]\n",
      " [2 0 5 0 2]\n",
      " [0 0 0 8 0]\n",
      " [0 0 0 0 5]]\n",
      "\n",
      "Classification Report\n",
      "              precision    recall  f1-score   support\n",
      "\n",
      "          -2       0.56      0.83      0.67         6\n",
      "          -1       0.83      0.71      0.77         7\n",
      "           0       1.00      0.56      0.71         9\n",
      "           1       1.00      1.00      1.00         8\n",
      "           2       0.71      1.00      0.83         5\n",
      "\n",
      "    accuracy                           0.80        35\n",
      "   macro avg       0.82      0.82      0.80        35\n",
      "weighted avg       0.85      0.80      0.80        35\n",
      "\n"
     ]
    }
   ],
   "source": [
    "# define the ranges for each hyperparameter we want to try\n",
    "params_grid = {'learning_rate': [0.01, 0.05, 0.075, 0.1],\n",
    "               'max_depth': [28, 34, 40],\n",
    "               'n_estimators': [357],\n",
    "               'colsample_bytree': [1],\n",
    "               'min_child_weight': [1],\n",
    "               'min_samples_split' : [2],\n",
    "               'min_samples_leaf' : [2],\n",
    "               'subsample': [1.0]}\n",
    "\n",
    "# perform grid search with 5-fold cross validation\n",
    "xgb_clf = XGBClassifier()\n",
    "xgb_clf_Grid = GridSearchCV(estimator = xgb_clf, param_grid = params_grid, cv = 5, verbose=3, n_jobs = -1)\n",
    "xgb_clf_Grid.fit(X_train, y_train)\n",
    "\n",
    "print(xgb_clf_Grid.best_params_)\n",
    "\n",
    "predictions = xgb_clf_Grid.predict(X_val)\n",
    "\n",
    "print(\"\\nConfusion Matrix:\")\n",
    "print(confusion_matrix(y_val, predictions))\n",
    "\n",
    "print(\"\\nClassification Report\")\n",
    "print(classification_report(y_val, predictions))"
   ]
  },
  {
   "cell_type": "code",
   "execution_count": 45,
   "metadata": {},
   "outputs": [
    {
     "name": "stdout",
     "output_type": "stream",
     "text": [
      "\n",
      "Confusion Matrix:\n",
      "[[11  1  1  0  0]\n",
      " [ 2 10  0  0  0]\n",
      " [ 1  0  4  0  0]\n",
      " [ 0  0  0  5  0]\n",
      " [ 0  0  0  2 10]]\n",
      "\n",
      "Classification Report\n",
      "              precision    recall  f1-score   support\n",
      "\n",
      "          -2       0.79      0.85      0.81        13\n",
      "          -1       0.91      0.83      0.87        12\n",
      "           0       0.80      0.80      0.80         5\n",
      "           1       0.71      1.00      0.83         5\n",
      "           2       1.00      0.83      0.91        12\n",
      "\n",
      "    accuracy                           0.85        47\n",
      "   macro avg       0.84      0.86      0.85        47\n",
      "weighted avg       0.87      0.85      0.85        47\n",
      "\n"
     ]
    }
   ],
   "source": [
    "# predict on test set\n",
    "predictions = xgb_clf_Grid.predict(X_test)\n",
    "\n",
    "print(\"\\nConfusion Matrix:\")\n",
    "print(confusion_matrix(y_test, predictions))\n",
    "\n",
    "print(\"\\nClassification Report\")\n",
    "print(classification_report(y_test, predictions))"
   ]
  },
  {
   "cell_type": "markdown",
   "metadata": {},
   "source": [
    "As we can see in the test results, XGBoost Classifier performs better than the standard Gradient Boosting Classifier. Anyway, due to the size of the dataset it's not enough to conclude that one model will perform better than the other with new data."
   ]
  },
  {
   "cell_type": "markdown",
   "metadata": {},
   "source": [
    "# Conclusions"
   ]
  },
  {
   "cell_type": "markdown",
   "metadata": {},
   "source": [
    "Regarding to the dataset, we would need more data to train and test properly the ML models. Assuming we do not have access to more data (and we cannot create it - data augmentation), we have an unbalanced dataset which could origin the called \"Accuracy Paradox\" (predicting the majority classes for most of the tweets, resulting in a high fake accuracy but unable to generalize with new balanced samples).\n",
    "\n",
    "To avoid having too many duplicate samples for the minority classes or having to few samples per class, I have combined oversampling (for minority classes) and undersampling (for majority classes). After applying this technique, the new dataset has 37 samples/tweets per class which means that is correctly balanced (see the plot below)."
   ]
  },
  {
   "cell_type": "code",
   "execution_count": 46,
   "metadata": {},
   "outputs": [
    {
     "data": {
      "image/png": "[encoded data removed]",
      "text/plain": [
       "<Figure size 576x288 with 2 Axes>"
      ]
     },
     "metadata": {
      "needs_background": "light"
     },
     "output_type": "display_data"
    }
   ],
   "source": [
    "df_orig = pd.read_csv('dataset_sa.csv', encoding='ansi')\n",
    "plt.figure(figsize=(8,4))\n",
    "plt.subplot(1, 2, 1, title='Original Dataset')\n",
    "ax = df_orig['label'].value_counts(sort=True, ascending=True).plot(kind='barh')\n",
    "ax.set_xlabel('Nº of Samples')\n",
    "ax.set_ylabel('Label')\n",
    "plt.subplot(1, 2, 2, title='Transformed Dataset')\n",
    "ax = y_over.value_counts(sort=True, ascending=True).plot(kind='barh')\n",
    "ax.set_xlabel('Nº of Samples')\n",
    "ax.set_ylabel('Label')\n",
    "plt.tight_layout()"
   ]
  },
  {
   "cell_type": "markdown",
   "metadata": {},
   "source": [
    "When trying to predict the sentiment score _label_, we have seen that some common Python libraries able to generate this type of scores can not be used as a prediction model for this task (their precision and recall values are too low, including the _bert_sentiment_ score). _label_ is evaluating the sentiment of the tweets taking into account more aspects, such as the topic. That's why I decided to compare some ML classifiers with PyCaret to have a quick overview, finding out that some of them are performing well for this concrete task.\n",
    "\n",
    "The code cell below shows the precision and recall scores for the test set BERT (_bert_sentiment_), Gradient Boosting Classifier and XGBoost Classifier:"
   ]
  },
  {
   "cell_type": "code",
   "execution_count": 47,
   "metadata": {},
   "outputs": [
    {
     "name": "stdout",
     "output_type": "stream",
     "text": [
      "\n",
      "BERT ('bert_sentiment')\n",
      "\n",
      "              precision    recall  f1-score   support\n",
      "\n",
      "          -2       0.50      0.15      0.24        13\n",
      "          -1       0.32      0.50      0.39        12\n",
      "           0       0.14      0.60      0.23         5\n",
      "           1       0.33      0.20      0.25         5\n",
      "           2       0.00      0.00      0.00        12\n",
      "\n",
      "    accuracy                           0.26        47\n",
      "   macro avg       0.26      0.29      0.22        47\n",
      "weighted avg       0.27      0.26      0.22        47\n",
      "\n",
      "_____________________________________________________\n",
      "\n",
      "Gradient Boosting Classifier\n",
      "\n",
      "              precision    recall  f1-score   support\n",
      "\n",
      "          -2       0.77      0.77      0.77        13\n",
      "          -1       0.77      0.83      0.80        12\n",
      "           0       0.75      0.60      0.67         5\n",
      "           1       0.56      1.00      0.71         5\n",
      "           2       1.00      0.67      0.80        12\n",
      "\n",
      "    accuracy                           0.77        47\n",
      "   macro avg       0.77      0.77      0.75        47\n",
      "weighted avg       0.80      0.77      0.77        47\n",
      "\n",
      "________________________________________\n",
      "\n",
      "XGBoost Classifier\n",
      "\n",
      "              precision    recall  f1-score   support\n",
      "\n",
      "          -2       0.79      0.85      0.81        13\n",
      "          -1       0.91      0.83      0.87        12\n",
      "           0       0.80      0.80      0.80         5\n",
      "           1       0.71      1.00      0.83         5\n",
      "           2       1.00      0.83      0.91        12\n",
      "\n",
      "    accuracy                           0.85        47\n",
      "   macro avg       0.84      0.86      0.85        47\n",
      "weighted avg       0.87      0.85      0.85        47\n",
      "\n"
     ]
    },
    {
     "name": "stderr",
     "output_type": "stream",
     "text": [
      "C:\\ProgramData\\Anaconda3\\lib\\site-packages\\sklearn\\metrics\\_classification.py:1221: UndefinedMetricWarning: Precision and F-score are ill-defined and being set to 0.0 in labels with no predicted samples. Use `zero_division` parameter to control this behavior.\n",
      "  _warn_prf(average, modifier, msg_start, len(result))\n"
     ]
    }
   ],
   "source": [
    "predictions = y_test_bert.round().astype('int64')\n",
    "print(\"\\nBERT ('bert_sentiment')\\n\")\n",
    "print(classification_report(y_test, predictions))\n",
    "print('_____________________________________________________')\n",
    "\n",
    "predictions = gb_clf_Grid.predict(X_test)\n",
    "print(\"\\nGradient Boosting Classifier\\n\") \n",
    "print(classification_report(y_test, predictions))\n",
    "print('________________________________________')\n",
    "\n",
    "predictions = xgb_clf_Grid.predict(X_test)\n",
    "print(\"\\nXGBoost Classifier\\n\")\n",
    "print(classification_report(y_test, predictions))"
   ]
  },
  {
   "cell_type": "markdown",
   "metadata": {},
   "source": [
    "As mentioned before, the Decision Tree model has been discarded due to its nature although with more data all of the proposed models should be evaluated again. About the three models above:\n",
    "- BERT is clearly not working for this task (that's why I have removed this feature when training the classifiers). Precision: 0.26. Recall: 0.29.\n",
    "- Gradient Boosting Classifier is performing well, achieving an accuracy of 0.77 although with different precisions and recalls for each class. Precision: 0.77. Recall: 0.77.\n",
    "- **The best model would be XGBoost Classifier**. It's able to achieve an accuracy value of 0.85 and perform very well for all the classes. **Precision: 0.84**. **Recall: 0.86**."
   ]
  },
  {
   "cell_type": "markdown",
   "metadata": {},
   "source": [
    "As an extra task, it would be interesting to try with word-embeddings models like FastText (or try different configurations with BERT)."
   ]
  },
  {
   "cell_type": "markdown",
   "metadata": {},
   "source": [
    "## References"
   ]
  },
  {
   "cell_type": "markdown",
   "metadata": {},
   "source": [
    "- https://towardsdatascience.com/sentiment-analysis-concept-analysis-and-applications-6c94d6f58c17\n",
    "- https://realpython.com/sentiment-analysis-python/\n",
    "- https://towardsdatascience.com/fine-grained-sentiment-analysis-in-python-part-1-2697bb111ed4\n",
    "- https://towardsdatascience.com/fasttext-sentiment-analysis-for-tweets-a-straightforward-guide-9a8c070449a2\n",
    "- https://stackabuse.com/gradient-boosting-classifiers-in-python-with-scikit-learn/\n",
    "- https://medium.com/strands-tech-corner/unbalanced-datasets-what-to-do-144e0552d9cd#:~:text=In%20simple%20terms%2C%20an%20unbalanced,specific%20class%20than%20the%20others.&text=Besides%2C%20the%20problem%20is%20that,class%20or%20classify%20unseen%20observations).\n",
    "- https://machinelearningmastery.com/random-oversampling-and-undersampling-for-imbalanced-classification/\n",
    "- https://machinelearningmastery.com/extreme-gradient-boosting-ensemble-in-python/\n",
    "- https://scikit-learn.org/stable/index.html\n",
    "- https://pycaret.readthedocs.io/en/latest/api/classification.html"
   ]
  }
 ],
 "metadata": {
  "kernelspec": {
   "display_name": "Python 3",
   "language": "python",
   "name": "python3"
  },
  "language_info": {
   "codemirror_mode": {
    "name": "ipython",
    "version": 3
   },
   "file_extension": ".py",
   "mimetype": "text/x-python",
   "name": "python",
   "nbconvert_exporter": "python",
   "pygments_lexer": "ipython3",
   "version": "3.8.5"
  }
 },
 "nbformat": 4,
 "nbformat_minor": 4
}
