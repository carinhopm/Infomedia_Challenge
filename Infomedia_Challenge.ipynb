{
 "cells": [
  {
   "cell_type": "code",
   "execution_count": 1,
   "metadata": {},
   "outputs": [],
   "source": [
    "import pandas as pd\n",
    "import matplotlib.pyplot as plt\n",
    "import numpy as np\n",
    "from google_trans_new import google_translator\n",
    "\n",
    "translator = google_translator() "
   ]
  },
  {
   "cell_type": "markdown",
   "metadata": {},
   "source": [
    "# Data Analysis & Cleaning"
   ]
  },
  {
   "cell_type": "markdown",
   "metadata": {},
   "source": [
    "First, it is necessary to look into the dataset and compute some statistics to get an overview of its main characteristics."
   ]
  },
  {
   "cell_type": "code",
   "execution_count": 2,
   "metadata": {},
   "outputs": [
    {
     "data": {
      "text/html": [
       "<div>\n",
       "<style scoped>\n",
       "    .dataframe tbody tr th:only-of-type {\n",
       "        vertical-align: middle;\n",
       "    }\n",
       "\n",
       "    .dataframe tbody tr th {\n",
       "        vertical-align: top;\n",
       "    }\n",
       "\n",
       "    .dataframe thead th {\n",
       "        text-align: right;\n",
       "    }\n",
       "</style>\n",
       "<table border=\"1\" class=\"dataframe\">\n",
       "  <thead>\n",
       "    <tr style=\"text-align: right;\">\n",
       "      <th></th>\n",
       "      <th>topic</th>\n",
       "      <th>doc_id</th>\n",
       "      <th>label</th>\n",
       "      <th>doc_pred</th>\n",
       "      <th>-</th>\n",
       "      <th>bert_sentiment</th>\n",
       "      <th>lexicon_sentiment</th>\n",
       "      <th>topical</th>\n",
       "      <th>topic_similarity</th>\n",
       "      <th>tokens</th>\n",
       "      <th>entities</th>\n",
       "      <th>Column1</th>\n",
       "      <th>text</th>\n",
       "      <th>sent_id</th>\n",
       "    </tr>\n",
       "  </thead>\n",
       "  <tbody>\n",
       "    <tr>\n",
       "      <th>0</th>\n",
       "      <td>Donald Trump</td>\n",
       "      <td>24</td>\n",
       "      <td>0</td>\n",
       "      <td>0.660882</td>\n",
       "      <td>NaN</td>\n",
       "      <td>0.237890</td>\n",
       "      <td>1.023380</td>\n",
       "      <td>0</td>\n",
       "      <td>0</td>\n",
       "      <td>11</td>\n",
       "      <td>1</td>\n",
       "      <td>57</td>\n",
       "      <td>Vinder Real Madrid Champions League for fjerde...</td>\n",
       "      <td>72</td>\n",
       "    </tr>\n",
       "    <tr>\n",
       "      <th>1</th>\n",
       "      <td>Donald Trump</td>\n",
       "      <td>24</td>\n",
       "      <td>0</td>\n",
       "      <td>0.660882</td>\n",
       "      <td>NaN</td>\n",
       "      <td>-0.193494</td>\n",
       "      <td>0.977107</td>\n",
       "      <td>0</td>\n",
       "      <td>0</td>\n",
       "      <td>7</td>\n",
       "      <td>1</td>\n",
       "      <td>50</td>\n",
       "      <td>Vinder Caroline Wozniacki en Grand Slam-turner...</td>\n",
       "      <td>16</td>\n",
       "    </tr>\n",
       "    <tr>\n",
       "      <th>2</th>\n",
       "      <td>Donald Trump</td>\n",
       "      <td>24</td>\n",
       "      <td>0</td>\n",
       "      <td>0.660882</td>\n",
       "      <td>NaN</td>\n",
       "      <td>-1.182156</td>\n",
       "      <td>-0.061737</td>\n",
       "      <td>1</td>\n",
       "      <td>0</td>\n",
       "      <td>12</td>\n",
       "      <td>2</td>\n",
       "      <td>81</td>\n",
       "      <td>Vil Demokraterne i Repræsentanternes Hus indle...</td>\n",
       "      <td>48</td>\n",
       "    </tr>\n",
       "    <tr>\n",
       "      <th>3</th>\n",
       "      <td>Joe Biden</td>\n",
       "      <td>1</td>\n",
       "      <td>0</td>\n",
       "      <td>-1.149904</td>\n",
       "      <td>NaN</td>\n",
       "      <td>0.825722</td>\n",
       "      <td>0.440000</td>\n",
       "      <td>0</td>\n",
       "      <td>0</td>\n",
       "      <td>13</td>\n",
       "      <td>2</td>\n",
       "      <td>62</td>\n",
       "      <td>Vi vil vinde,\" skriver han på Twitter efter Pe...</td>\n",
       "      <td>13</td>\n",
       "    </tr>\n",
       "    <tr>\n",
       "      <th>4</th>\n",
       "      <td>Donald Trump</td>\n",
       "      <td>26</td>\n",
       "      <td>-1</td>\n",
       "      <td>-1.426556</td>\n",
       "      <td>NaN</td>\n",
       "      <td>0.193577</td>\n",
       "      <td>-0.111888</td>\n",
       "      <td>1</td>\n",
       "      <td>0</td>\n",
       "      <td>15</td>\n",
       "      <td>1</td>\n",
       "      <td>67</td>\n",
       "      <td>Vi er nødt til rent faktisk at gøre en forskel...</td>\n",
       "      <td>10</td>\n",
       "    </tr>\n",
       "    <tr>\n",
       "      <th>...</th>\n",
       "      <td>...</td>\n",
       "      <td>...</td>\n",
       "      <td>...</td>\n",
       "      <td>...</td>\n",
       "      <td>...</td>\n",
       "      <td>...</td>\n",
       "      <td>...</td>\n",
       "      <td>...</td>\n",
       "      <td>...</td>\n",
       "      <td>...</td>\n",
       "      <td>...</td>\n",
       "      <td>...</td>\n",
       "      <td>...</td>\n",
       "      <td>...</td>\n",
       "    </tr>\n",
       "    <tr>\n",
       "      <th>200</th>\n",
       "      <td>Boris Johnson</td>\n",
       "      <td>4</td>\n",
       "      <td>-1</td>\n",
       "      <td>-1.055707</td>\n",
       "      <td>NaN</td>\n",
       "      <td>-0.919533</td>\n",
       "      <td>-0.085106</td>\n",
       "      <td>0</td>\n",
       "      <td>0</td>\n",
       "      <td>15</td>\n",
       "      <td>0</td>\n",
       "      <td>64</td>\n",
       "      <td>\"Det er ikke noget, jeg nogensinde vil kunne f...</td>\n",
       "      <td>5</td>\n",
       "    </tr>\n",
       "    <tr>\n",
       "      <th>201</th>\n",
       "      <td>Donald Trump</td>\n",
       "      <td>28</td>\n",
       "      <td>2</td>\n",
       "      <td>-0.873057</td>\n",
       "      <td>NaN</td>\n",
       "      <td>0.640317</td>\n",
       "      <td>0.216216</td>\n",
       "      <td>0</td>\n",
       "      <td>0</td>\n",
       "      <td>11</td>\n",
       "      <td>0</td>\n",
       "      <td>52</td>\n",
       "      <td>\" MADS FUGLEDE, VÆRT FOR PODCASTEN \"KAMPAGNESP...</td>\n",
       "      <td>22</td>\n",
       "    </tr>\n",
       "    <tr>\n",
       "      <th>202</th>\n",
       "      <td>Donald Trump</td>\n",
       "      <td>38</td>\n",
       "      <td>-2</td>\n",
       "      <td>-1.374837</td>\n",
       "      <td>NaN</td>\n",
       "      <td>-0.803127</td>\n",
       "      <td>-0.125000</td>\n",
       "      <td>0</td>\n",
       "      <td>0</td>\n",
       "      <td>10</td>\n",
       "      <td>1</td>\n",
       "      <td>58</td>\n",
       "      <td>\" Indalik Høegh har svært ved at seGrønlandsom...</td>\n",
       "      <td>17</td>\n",
       "    </tr>\n",
       "    <tr>\n",
       "      <th>203</th>\n",
       "      <td>Donald Trump</td>\n",
       "      <td>6</td>\n",
       "      <td>2</td>\n",
       "      <td>-0.724118</td>\n",
       "      <td>NaN</td>\n",
       "      <td>-0.282931</td>\n",
       "      <td>0.036364</td>\n",
       "      <td>0</td>\n",
       "      <td>0</td>\n",
       "      <td>18</td>\n",
       "      <td>0</td>\n",
       "      <td>68</td>\n",
       "      <td>- Det har taget mange årtier at nå hertil, lad...</td>\n",
       "      <td>16</td>\n",
       "    </tr>\n",
       "    <tr>\n",
       "      <th>204</th>\n",
       "      <td>Donald Trump</td>\n",
       "      <td>6</td>\n",
       "      <td>2</td>\n",
       "      <td>-0.724118</td>\n",
       "      <td>NaN</td>\n",
       "      <td>0.499768</td>\n",
       "      <td>0.869565</td>\n",
       "      <td>0</td>\n",
       "      <td>0</td>\n",
       "      <td>13</td>\n",
       "      <td>2</td>\n",
       "      <td>61</td>\n",
       "      <td>- De behandler os med stor respekt, sagde Trum...</td>\n",
       "      <td>19</td>\n",
       "    </tr>\n",
       "  </tbody>\n",
       "</table>\n",
       "<p>205 rows × 14 columns</p>\n",
       "</div>"
      ],
      "text/plain": [
       "             topic  doc_id  label  doc_pred   -  bert_sentiment  \\\n",
       "0     Donald Trump      24      0  0.660882 NaN        0.237890   \n",
       "1     Donald Trump      24      0  0.660882 NaN       -0.193494   \n",
       "2     Donald Trump      24      0  0.660882 NaN       -1.182156   \n",
       "3        Joe Biden       1      0 -1.149904 NaN        0.825722   \n",
       "4     Donald Trump      26     -1 -1.426556 NaN        0.193577   \n",
       "..             ...     ...    ...       ...  ..             ...   \n",
       "200  Boris Johnson       4     -1 -1.055707 NaN       -0.919533   \n",
       "201   Donald Trump      28      2 -0.873057 NaN        0.640317   \n",
       "202   Donald Trump      38     -2 -1.374837 NaN       -0.803127   \n",
       "203   Donald Trump       6      2 -0.724118 NaN       -0.282931   \n",
       "204   Donald Trump       6      2 -0.724118 NaN        0.499768   \n",
       "\n",
       "     lexicon_sentiment  topical  topic_similarity  tokens  entities  Column1  \\\n",
       "0             1.023380        0                 0      11         1       57   \n",
       "1             0.977107        0                 0       7         1       50   \n",
       "2            -0.061737        1                 0      12         2       81   \n",
       "3             0.440000        0                 0      13         2       62   \n",
       "4            -0.111888        1                 0      15         1       67   \n",
       "..                 ...      ...               ...     ...       ...      ...   \n",
       "200          -0.085106        0                 0      15         0       64   \n",
       "201           0.216216        0                 0      11         0       52   \n",
       "202          -0.125000        0                 0      10         1       58   \n",
       "203           0.036364        0                 0      18         0       68   \n",
       "204           0.869565        0                 0      13         2       61   \n",
       "\n",
       "                                                  text  sent_id  \n",
       "0    Vinder Real Madrid Champions League for fjerde...       72  \n",
       "1    Vinder Caroline Wozniacki en Grand Slam-turner...       16  \n",
       "2    Vil Demokraterne i Repræsentanternes Hus indle...       48  \n",
       "3    Vi vil vinde,\" skriver han på Twitter efter Pe...       13  \n",
       "4    Vi er nødt til rent faktisk at gøre en forskel...       10  \n",
       "..                                                 ...      ...  \n",
       "200  \"Det er ikke noget, jeg nogensinde vil kunne f...        5  \n",
       "201  \" MADS FUGLEDE, VÆRT FOR PODCASTEN \"KAMPAGNESP...       22  \n",
       "202  \" Indalik Høegh har svært ved at seGrønlandsom...       17  \n",
       "203  - Det har taget mange årtier at nå hertil, lad...       16  \n",
       "204  - De behandler os med stor respekt, sagde Trum...       19  \n",
       "\n",
       "[205 rows x 14 columns]"
      ]
     },
     "execution_count": 2,
     "metadata": {},
     "output_type": "execute_result"
    }
   ],
   "source": [
    "df = pd.read_csv('dataset_sa.csv', encoding='ansi')\n",
    "df"
   ]
  },
  {
   "cell_type": "code",
   "execution_count": 3,
   "metadata": {},
   "outputs": [
    {
     "data": {
      "text/plain": [
       "topic                 object\n",
       "doc_id                 int64\n",
       "label                  int64\n",
       "doc_pred             float64\n",
       "-                    float64\n",
       "bert_sentiment       float64\n",
       "lexicon_sentiment    float64\n",
       "topical                int64\n",
       "topic_similarity       int64\n",
       "tokens                 int64\n",
       "entities               int64\n",
       "Column1                int64\n",
       "text                  object\n",
       "sent_id                int64\n",
       "dtype: object"
      ]
     },
     "execution_count": 3,
     "metadata": {},
     "output_type": "execute_result"
    }
   ],
   "source": [
    "df.dtypes"
   ]
  },
  {
   "cell_type": "code",
   "execution_count": 4,
   "metadata": {},
   "outputs": [
    {
     "data": {
      "text/plain": [
       "topic                False\n",
       "doc_id               False\n",
       "label                False\n",
       "doc_pred             False\n",
       "-                    False\n",
       "bert_sentiment       False\n",
       "lexicon_sentiment    False\n",
       "topical              False\n",
       "topic_similarity      True\n",
       "tokens               False\n",
       "entities             False\n",
       "Column1              False\n",
       "text                 False\n",
       "sent_id              False\n",
       "dtype: bool"
      ]
     },
     "execution_count": 4,
     "metadata": {},
     "output_type": "execute_result"
    }
   ],
   "source": [
    "(df == 0).all()"
   ]
  },
  {
   "cell_type": "code",
   "execution_count": 5,
   "metadata": {},
   "outputs": [
    {
     "data": {
      "text/plain": [
       "topic                False\n",
       "doc_id               False\n",
       "label                False\n",
       "doc_pred             False\n",
       "-                     True\n",
       "bert_sentiment       False\n",
       "lexicon_sentiment    False\n",
       "topical              False\n",
       "topic_similarity     False\n",
       "tokens               False\n",
       "entities             False\n",
       "Column1              False\n",
       "text                 False\n",
       "sent_id              False\n",
       "dtype: bool"
      ]
     },
     "execution_count": 5,
     "metadata": {},
     "output_type": "execute_result"
    }
   ],
   "source": [
    "(df.isnull()).all()"
   ]
  },
  {
   "cell_type": "markdown",
   "metadata": {},
   "source": [
    "The dataset is composed of 205 rows and 14 columns. Moreover, there are 2 columns with no information that we can remove: _-_ and _topic_similarity_."
   ]
  },
  {
   "cell_type": "code",
   "execution_count": 6,
   "metadata": {},
   "outputs": [],
   "source": [
    "del df['topic_similarity']\n",
    "del df['-']"
   ]
  },
  {
   "cell_type": "markdown",
   "metadata": {},
   "source": [
    "The goal is to predict the sentiment analysis score contained in _label_, which seems to be a discrete variable. In this situation we are talking about a classification problem with 5 different classes.\n",
    "\n",
    "Let's see how _label_ values are distributed:"
   ]
  },
  {
   "cell_type": "code",
   "execution_count": 7,
   "metadata": {},
   "outputs": [
    {
     "data": {
      "text/plain": [
       "Text(0, 0.5, 'Label')"
      ]
     },
     "execution_count": 7,
     "metadata": {},
     "output_type": "execute_result"
    },
    {
     "data": {
      "image/png": "[encoded data removed]",
      "text/plain": [
       "<Figure size 432x288 with 1 Axes>"
      ]
     },
     "metadata": {
      "needs_background": "light"
     },
     "output_type": "display_data"
    }
   ],
   "source": [
    "ax = df['label'].value_counts(sort=True, ascending=True).plot(kind='barh')\n",
    "ax.set_xlabel('Number of Samples in the Dataset')\n",
    "ax.set_ylabel('Label')"
   ]
  },
  {
   "cell_type": "markdown",
   "metadata": {},
   "source": [
    "On one hand, we can see in the plot above that there are less than 20 tweets labeled with a 2. On the other hand, the dataset has more than 70 tweets labeled with a 0. None of the classes has aproximately the same number of samples, which means that this is an unbalanced dataset.\n",
    "\n",
    "Other big problem is related with the size of the dataset. Even if we apply some transformations to the dataset and we balance the number of samples per class, there are very few samples to train and test a machine learning model for this classification task. The minority class (label '2') has only 16 samples before splitting the data into train and test sets.\n",
    "\n",
    "Let's continue taking a look and know more about each feature before we try to deal with these two problems."
   ]
  },
  {
   "cell_type": "code",
   "execution_count": 8,
   "metadata": {},
   "outputs": [
    {
     "data": {
      "image/png": "[encoded data removed]",
      "text/plain": [
       "<Figure size 720x576 with 2 Axes>"
      ]
     },
     "metadata": {
      "needs_background": "light"
     },
     "output_type": "display_data"
    }
   ],
   "source": [
    "f = plt.figure(figsize=(10, 8))\n",
    "plt.matshow(df.corr(), fignum=f.number)\n",
    "plt.xticks(range(df.select_dtypes(['number']).shape[1]), df.select_dtypes(['number']).columns, fontsize=14, rotation=45)\n",
    "plt.yticks(range(df.select_dtypes(['number']).shape[1]), df.select_dtypes(['number']).columns, fontsize=14)\n",
    "cb = plt.colorbar()\n",
    "cb.ax.tick_params(labelsize=14)\n",
    "plt.title('Correlation Matrix', fontsize=16);"
   ]
  },
  {
   "cell_type": "markdown",
   "metadata": {},
   "source": [
    "From the correlation matrix above we can say that there's some correlation between _doc_pred_, _bert_sentiment_, _lexicon_sentiment_ and _label_. All of them seem to be some kind of sentiment score of each tweet.\n",
    "\n",
    "Both _doc_id_ and _sent_id_ seem to be identifiers without any correlation with the rest of the features. Since we don't have more information about them, (after have been checking a bit more) we can drop those columns from the dataset.\n",
    "\n",
    "Furthermore, there's correlation between _tokens_ and _Column1_. It's easy to notice that _Column1_ refers to the number of characters per tweet as shown below:"
   ]
  },
  {
   "cell_type": "code",
   "execution_count": 9,
   "metadata": {},
   "outputs": [],
   "source": [
    "for index, row in df.iterrows():\n",
    "    if not row['Column1'] == len(row['text']):\n",
    "        print(\"Column1 is not the length of the tweet.\")"
   ]
  },
  {
   "cell_type": "markdown",
   "metadata": {},
   "source": [
    "In order to get tokens from the Danish tweets in the future, we add a new column called _text_eng_ containing the English translation of the tweets."
   ]
  },
  {
   "cell_type": "code",
   "execution_count": 10,
   "metadata": {},
   "outputs": [],
   "source": [
    "df['text_eng'] = df.apply (lambda row: translator.translate(row['text'],lang_src='da', lang_tgt='en'), axis=1)"
   ]
  },
  {
   "cell_type": "markdown",
   "metadata": {},
   "source": [
    "Taking a look to _entities_, we can check that this column is a counter that indicates the number of institutions/names mentioned in each tweet. Tweets containing 2 entities are printed below:"
   ]
  },
  {
   "cell_type": "code",
   "execution_count": 11,
   "metadata": {},
   "outputs": [
    {
     "name": "stdout",
     "output_type": "stream",
     "text": [
      "2                           Will the Democrats in the House of Representatives initiate a federal lawsuit against Donald Trump? \n",
      "3                                                             We want to win, \"he wrote on Twitter after Pelosi's announcement. \n",
      "5      The President of the United States, Donald Trump, has clearly broken the law and must be brought before a federal court. \n",
      "8                                    Ukraine earlier Thursday invited Britain to take part in the investigation into the crash. \n",
      "9                                                                 Does the Swedish Academy award the Nobel Prize in Literature? \n",
      "19                                       The Complacent Class \"Tyler Cowen St. Martin's Press 256 pages $ 15.65 on Amazon.com 5 \n",
      "22                                                                     Sweden is mentioned as an option along with Switzerland. \n",
      "30                                  So much I have then learned from The Art of the Deal (partly written by Donald Trump, ed.). \n",
      "34                               However, Prime Minister Boris Johnson and Brexit party Nigel Farage had chosen not to show up. \n",
      "40                                                       Will Denmark achieve a position as number ten or higher at Eurovision? \n",
      "49                                        The memo comes from former FBI Director James Comey, who was fired by Trump last May. \n",
      "68                                              Johnson responded again by saying that it is Tusk who will be remembered as mr. \n",
      "71                                                                YES 8. Is Johannes Riis still literary director of Gyldendal? \n",
      "76                                Prior to the firing, Comey documented meetings and phone calls with Donald Trump using notes. \n",
      "88                                        She would make the investigations difficult for all of Rudy Giuliani, Trump's lawyer. \n",
      "91                        In Denmark, Inger Støjberg did not want to comment on the American media's accusations against Trump. \n",
      "99                    Because I want to step down before we get to that point, \"Hammond said on the talk show Andrew Marr Show. \n",
      "108                                                                           Is Dmitry Medvedev still Russia's prime minister? \n",
      "109                                            One thing is for sure: Donald Trump will need Donald Trump's negotiation skills. \n",
      "117                                          Donald Trump's campaign office did not want to off- or confirm the story to Axios. \n",
      "118                                 Donald Trump was a candidate for the Republican Party in the 2016 US presidential election. \n",
      "124                                It happens because 55-year-old Boris Johnson's predecessor Theresa May resigned prematurely. \n",
      "127                                     The Republican member of the House of Representatives, Devin Nunes, is behind the memo. \n",
      "129                                                That is the view of Nancy Pelosi, President of the House of Representatives. \n",
      "142                                                   However, it is not a given that Kim Jongun will leave North Korea at all. \n",
      "145                                                           This is solely because of Long's views on President Donald Trump. \n",
      "168                                                Channel 4's ice sculptures made Boris Johnson's resignation clear to anyone. \n",
      "169                                Canadian Prime Minister Justin Trudeau: Iranian missile shot down Ukrainian passenger plane. \n",
      "170                     The British want out of the EU - and with Boris Johnson's massive election victory they are coming now. \n",
      "172                                                       Boris Johnson cruises on towards Downing Street 10. Election contest. \n",
      "179                                           Both the Syrian government and Russia reject the images as forgeries, writes AFP. \n",
      "181                                           8. Do Eske Willerslev and his research center leave the University of Copenhagen? \n",
      "186                                                 2018 1. Does Queen Margrethe hand over the throne to Crown Prince Frederik? \n",
      "188                                                         2. Will Lars Løkke Rasmussen stop as chairman of the Liberal Party? \n",
      "189                                       2. Does Lisbet Dahl announce that she will stop being an instructor for Cirkusrevyen? \n",
      "204                                                              \"They treat us with great respect,\" Trump said of North Korea. \n",
      "Name: text_eng, dtype: object\n"
     ]
    }
   ],
   "source": [
    "def print_full(x):\n",
    "    pd.set_option('display.max_rows', None)\n",
    "    pd.set_option('display.max_columns', None)\n",
    "    pd.set_option('display.max_colwidth', None)\n",
    "    print(x)\n",
    "    pd.reset_option('display.max_rows')\n",
    "    pd.reset_option('display.max_columns')\n",
    "    pd.reset_option('display.max_colwidth')\n",
    "\n",
    "print_full(df.loc[df['entities'] == 2]['text_eng'])"
   ]
  },
  {
   "cell_type": "markdown",
   "metadata": {},
   "source": [
    "The categorical feature _topical_ indicates when the topic of the tweet is explicitly mentioned in the body of the tweet. There are only 3 topics: Donald Trump, Boris Johnson and Joe Biden. Some of the tweets matching this condition are printed below:"
   ]
  },
  {
   "cell_type": "code",
   "execution_count": 12,
   "metadata": {},
   "outputs": [
    {
     "name": "stdout",
     "output_type": "stream",
     "text": [
      "2                       Will the Democrats in the House of Representatives initiate a federal lawsuit against Donald Trump? \n",
      "4                                                                 We have to actually make a difference, Donald Trump said. \n",
      "12     On the contrary, it was precisely the leisurely middle class that elected Donald Trump in the 2016 primary election. \n",
      "17                                    On Tuesday last week, Donald took the Trump phone and called Boris Johnson in London. \n",
      "30                              So much I have then learned from The Art of the Deal (partly written by Donald Trump, ed.). \n",
      "34                           However, Prime Minister Boris Johnson and Brexit party Nigel Farage had chosen not to show up. \n",
      "37                                                                        President, Donald Trump is not going to be there. \n",
      "42                              Also in the first round of voting last week, Boris Johnson received clearly the most votes. \n",
      "47                  Now the National Police has set figures on what Donald Trump's cancellation has cost the Danish police. \n",
      "60                                                                          But Donald Trump maintains: \"This is fake news. \n",
      "69                                                               Joe Biden is sure it will be a much more dignified debate. \n",
      "76                            Prior to the firing, Comey documented meetings and phone calls with Donald Trump using notes. \n",
      "78           According to Else Mathiesen from Sorø, Donald Trump's plans are an expression of \"an ancient way of thinking\". \n",
      "82                                                                For a decade, he followed Donald Trump in thick and thin. \n",
      "109                                        One thing is for sure: Donald Trump will need Donald Trump's negotiation skills. \n",
      "115                                                           You've probably seen US President Donald Trump on television. \n",
      "116                                    Donald Trump's leadership during the crisis has so far been almost appallingly poor. \n",
      "117                                      Donald Trump's campaign office did not want to off- or confirm the story to Axios. \n",
      "118                             Donald Trump was a candidate for the Republican Party in the 2016 US presidential election. \n",
      "119     Donald Trump wants total nuclear disarmament on the North Korean side and control of the country's missile program. \n",
      "124                            It happens because 55-year-old Boris Johnson's predecessor Theresa May resigned prematurely. \n",
      "145                                                       This is solely because of Long's views on President Donald Trump. \n",
      "150                                                    In addition, several of Donald Trump's family members are mentioned. \n",
      "159                                                           however, 55-year-old Boris Johnson is known to be optimistic. \n",
      "168                                            Channel 4's ice sculptures made Boris Johnson's resignation clear to anyone. \n",
      "170                 The British want out of the EU - and with Boris Johnson's massive election victory they are coming now. \n",
      "171                                    Boris Johnson says the best British experts should be involved in the investigation. \n",
      "172                                                   Boris Johnson cruises on towards Downing Street 10. Election contest. \n",
      "173                                     Boris Johnson was replaced by melting ice sculpture - now TV station is threatened. \n",
      "Name: text_eng, dtype: object\n"
     ]
    }
   ],
   "source": [
    "print_full(df.loc[df['topical'] == 1]['text_eng'])"
   ]
  },
  {
   "cell_type": "markdown",
   "metadata": {},
   "source": [
    "The plot below shows the mean of each of the three sentiment scores according to the final label, giving a visual idea of how they are correlated:"
   ]
  },
  {
   "cell_type": "code",
   "execution_count": 13,
   "metadata": {},
   "outputs": [
    {
     "name": "stderr",
     "output_type": "stream",
     "text": [
      "<ipython-input-13-227bef8dfdfe>:1: FutureWarning: Indexing with multiple keys (implicitly converted to a tuple of keys) will be deprecated, use a list instead.\n",
      "  df_label = df.groupby(['label'])['doc_pred','bert_sentiment','lexicon_sentiment'].mean()\n"
     ]
    },
    {
     "data": {
      "text/plain": [
       "<AxesSubplot:xlabel='label'>"
      ]
     },
     "execution_count": 13,
     "metadata": {},
     "output_type": "execute_result"
    },
    {
     "data": {
      "image/png": "[encoded data removed]",
      "text/plain": [
       "<Figure size 432x288 with 1 Axes>"
      ]
     },
     "metadata": {
      "needs_background": "light"
     },
     "output_type": "display_data"
    }
   ],
   "source": [
    "df_label = df.groupby(['label'])['doc_pred','bert_sentiment','lexicon_sentiment'].mean()\n",
    "df_label.plot.bar()"
   ]
  },
  {
   "cell_type": "markdown",
   "metadata": {},
   "source": [
    "To finish this section, a cleaner version of the dataset is saved below."
   ]
  },
  {
   "cell_type": "code",
   "execution_count": 14,
   "metadata": {},
   "outputs": [
    {
     "data": {
      "text/html": [
       "<div>\n",
       "<style scoped>\n",
       "    .dataframe tbody tr th:only-of-type {\n",
       "        vertical-align: middle;\n",
       "    }\n",
       "\n",
       "    .dataframe tbody tr th {\n",
       "        vertical-align: top;\n",
       "    }\n",
       "\n",
       "    .dataframe thead th {\n",
       "        text-align: right;\n",
       "    }\n",
       "</style>\n",
       "<table border=\"1\" class=\"dataframe\">\n",
       "  <thead>\n",
       "    <tr style=\"text-align: right;\">\n",
       "      <th></th>\n",
       "      <th>topic</th>\n",
       "      <th>label</th>\n",
       "      <th>doc_pred</th>\n",
       "      <th>bert_sentiment</th>\n",
       "      <th>lexicon_sentiment</th>\n",
       "      <th>topical</th>\n",
       "      <th>tokens</th>\n",
       "      <th>entities</th>\n",
       "      <th>length</th>\n",
       "      <th>text</th>\n",
       "      <th>text_eng</th>\n",
       "    </tr>\n",
       "  </thead>\n",
       "  <tbody>\n",
       "    <tr>\n",
       "      <th>0</th>\n",
       "      <td>Donald Trump</td>\n",
       "      <td>0</td>\n",
       "      <td>0.660882</td>\n",
       "      <td>0.237890</td>\n",
       "      <td>1.023380</td>\n",
       "      <td>0</td>\n",
       "      <td>11</td>\n",
       "      <td>1</td>\n",
       "      <td>57</td>\n",
       "      <td>Vinder Real Madrid Champions League for fjerde...</td>\n",
       "      <td>Will Real Madrid win the Champions League for ...</td>\n",
       "    </tr>\n",
       "    <tr>\n",
       "      <th>1</th>\n",
       "      <td>Donald Trump</td>\n",
       "      <td>0</td>\n",
       "      <td>0.660882</td>\n",
       "      <td>-0.193494</td>\n",
       "      <td>0.977107</td>\n",
       "      <td>0</td>\n",
       "      <td>7</td>\n",
       "      <td>1</td>\n",
       "      <td>50</td>\n",
       "      <td>Vinder Caroline Wozniacki en Grand Slam-turner...</td>\n",
       "      <td>Will Caroline Wozniacki win a Grand Slam tourn...</td>\n",
       "    </tr>\n",
       "    <tr>\n",
       "      <th>2</th>\n",
       "      <td>Donald Trump</td>\n",
       "      <td>0</td>\n",
       "      <td>0.660882</td>\n",
       "      <td>-1.182156</td>\n",
       "      <td>-0.061737</td>\n",
       "      <td>1</td>\n",
       "      <td>12</td>\n",
       "      <td>2</td>\n",
       "      <td>81</td>\n",
       "      <td>Vil Demokraterne i Repræsentanternes Hus indle...</td>\n",
       "      <td>Will the Democrats in the House of Representat...</td>\n",
       "    </tr>\n",
       "    <tr>\n",
       "      <th>3</th>\n",
       "      <td>Joe Biden</td>\n",
       "      <td>0</td>\n",
       "      <td>-1.149904</td>\n",
       "      <td>0.825722</td>\n",
       "      <td>0.440000</td>\n",
       "      <td>0</td>\n",
       "      <td>13</td>\n",
       "      <td>2</td>\n",
       "      <td>62</td>\n",
       "      <td>Vi vil vinde,\" skriver han på Twitter efter Pe...</td>\n",
       "      <td>We want to win, \"he wrote on Twitter after Pel...</td>\n",
       "    </tr>\n",
       "    <tr>\n",
       "      <th>4</th>\n",
       "      <td>Donald Trump</td>\n",
       "      <td>-1</td>\n",
       "      <td>-1.426556</td>\n",
       "      <td>0.193577</td>\n",
       "      <td>-0.111888</td>\n",
       "      <td>1</td>\n",
       "      <td>15</td>\n",
       "      <td>1</td>\n",
       "      <td>67</td>\n",
       "      <td>Vi er nødt til rent faktisk at gøre en forskel...</td>\n",
       "      <td>We have to actually make a difference, Donald ...</td>\n",
       "    </tr>\n",
       "    <tr>\n",
       "      <th>...</th>\n",
       "      <td>...</td>\n",
       "      <td>...</td>\n",
       "      <td>...</td>\n",
       "      <td>...</td>\n",
       "      <td>...</td>\n",
       "      <td>...</td>\n",
       "      <td>...</td>\n",
       "      <td>...</td>\n",
       "      <td>...</td>\n",
       "      <td>...</td>\n",
       "      <td>...</td>\n",
       "    </tr>\n",
       "    <tr>\n",
       "      <th>200</th>\n",
       "      <td>Boris Johnson</td>\n",
       "      <td>-1</td>\n",
       "      <td>-1.055707</td>\n",
       "      <td>-0.919533</td>\n",
       "      <td>-0.085106</td>\n",
       "      <td>0</td>\n",
       "      <td>15</td>\n",
       "      <td>0</td>\n",
       "      <td>64</td>\n",
       "      <td>\"Det er ikke noget, jeg nogensinde vil kunne f...</td>\n",
       "      <td>\"It's not something I'll ever be able to commi...</td>\n",
       "    </tr>\n",
       "    <tr>\n",
       "      <th>201</th>\n",
       "      <td>Donald Trump</td>\n",
       "      <td>2</td>\n",
       "      <td>-0.873057</td>\n",
       "      <td>0.640317</td>\n",
       "      <td>0.216216</td>\n",
       "      <td>0</td>\n",
       "      <td>11</td>\n",
       "      <td>0</td>\n",
       "      <td>52</td>\n",
       "      <td>\" MADS FUGLEDE, VÆRT FOR PODCASTEN \"KAMPAGNESP...</td>\n",
       "      <td>\"MADS BIRDS, HOSTED THE PODCAST\" CAMPAIGN TRAC...</td>\n",
       "    </tr>\n",
       "    <tr>\n",
       "      <th>202</th>\n",
       "      <td>Donald Trump</td>\n",
       "      <td>-2</td>\n",
       "      <td>-1.374837</td>\n",
       "      <td>-0.803127</td>\n",
       "      <td>-0.125000</td>\n",
       "      <td>0</td>\n",
       "      <td>10</td>\n",
       "      <td>1</td>\n",
       "      <td>58</td>\n",
       "      <td>\" Indalik Høegh har svært ved at seGrønlandsom...</td>\n",
       "      <td>\"Indalik Høegh has a hard time seeing Greenlan...</td>\n",
       "    </tr>\n",
       "    <tr>\n",
       "      <th>203</th>\n",
       "      <td>Donald Trump</td>\n",
       "      <td>2</td>\n",
       "      <td>-0.724118</td>\n",
       "      <td>-0.282931</td>\n",
       "      <td>0.036364</td>\n",
       "      <td>0</td>\n",
       "      <td>18</td>\n",
       "      <td>0</td>\n",
       "      <td>68</td>\n",
       "      <td>- Det har taget mange årtier at nå hertil, lad...</td>\n",
       "      <td>- It has taken many decades to get here, let's...</td>\n",
       "    </tr>\n",
       "    <tr>\n",
       "      <th>204</th>\n",
       "      <td>Donald Trump</td>\n",
       "      <td>2</td>\n",
       "      <td>-0.724118</td>\n",
       "      <td>0.499768</td>\n",
       "      <td>0.869565</td>\n",
       "      <td>0</td>\n",
       "      <td>13</td>\n",
       "      <td>2</td>\n",
       "      <td>61</td>\n",
       "      <td>- De behandler os med stor respekt, sagde Trum...</td>\n",
       "      <td>\"They treat us with great respect,\" Trump said...</td>\n",
       "    </tr>\n",
       "  </tbody>\n",
       "</table>\n",
       "<p>205 rows × 11 columns</p>\n",
       "</div>"
      ],
      "text/plain": [
       "             topic  label  doc_pred  bert_sentiment  lexicon_sentiment  \\\n",
       "0     Donald Trump      0  0.660882        0.237890           1.023380   \n",
       "1     Donald Trump      0  0.660882       -0.193494           0.977107   \n",
       "2     Donald Trump      0  0.660882       -1.182156          -0.061737   \n",
       "3        Joe Biden      0 -1.149904        0.825722           0.440000   \n",
       "4     Donald Trump     -1 -1.426556        0.193577          -0.111888   \n",
       "..             ...    ...       ...             ...                ...   \n",
       "200  Boris Johnson     -1 -1.055707       -0.919533          -0.085106   \n",
       "201   Donald Trump      2 -0.873057        0.640317           0.216216   \n",
       "202   Donald Trump     -2 -1.374837       -0.803127          -0.125000   \n",
       "203   Donald Trump      2 -0.724118       -0.282931           0.036364   \n",
       "204   Donald Trump      2 -0.724118        0.499768           0.869565   \n",
       "\n",
       "     topical  tokens  entities  length  \\\n",
       "0          0      11         1      57   \n",
       "1          0       7         1      50   \n",
       "2          1      12         2      81   \n",
       "3          0      13         2      62   \n",
       "4          1      15         1      67   \n",
       "..       ...     ...       ...     ...   \n",
       "200        0      15         0      64   \n",
       "201        0      11         0      52   \n",
       "202        0      10         1      58   \n",
       "203        0      18         0      68   \n",
       "204        0      13         2      61   \n",
       "\n",
       "                                                  text  \\\n",
       "0    Vinder Real Madrid Champions League for fjerde...   \n",
       "1    Vinder Caroline Wozniacki en Grand Slam-turner...   \n",
       "2    Vil Demokraterne i Repræsentanternes Hus indle...   \n",
       "3    Vi vil vinde,\" skriver han på Twitter efter Pe...   \n",
       "4    Vi er nødt til rent faktisk at gøre en forskel...   \n",
       "..                                                 ...   \n",
       "200  \"Det er ikke noget, jeg nogensinde vil kunne f...   \n",
       "201  \" MADS FUGLEDE, VÆRT FOR PODCASTEN \"KAMPAGNESP...   \n",
       "202  \" Indalik Høegh har svært ved at seGrønlandsom...   \n",
       "203  - Det har taget mange årtier at nå hertil, lad...   \n",
       "204  - De behandler os med stor respekt, sagde Trum...   \n",
       "\n",
       "                                              text_eng  \n",
       "0    Will Real Madrid win the Champions League for ...  \n",
       "1    Will Caroline Wozniacki win a Grand Slam tourn...  \n",
       "2    Will the Democrats in the House of Representat...  \n",
       "3    We want to win, \"he wrote on Twitter after Pel...  \n",
       "4    We have to actually make a difference, Donald ...  \n",
       "..                                                 ...  \n",
       "200  \"It's not something I'll ever be able to commi...  \n",
       "201  \"MADS BIRDS, HOSTED THE PODCAST\" CAMPAIGN TRAC...  \n",
       "202  \"Indalik Høegh has a hard time seeing Greenlan...  \n",
       "203  - It has taken many decades to get here, let's...  \n",
       "204  \"They treat us with great respect,\" Trump said...  \n",
       "\n",
       "[205 rows x 11 columns]"
      ]
     },
     "execution_count": 14,
     "metadata": {},
     "output_type": "execute_result"
    }
   ],
   "source": [
    "del df['doc_id']\n",
    "del df['sent_id']\n",
    "df.columns.values[8] = 'length'\n",
    "df"
   ]
  },
  {
   "cell_type": "code",
   "execution_count": 15,
   "metadata": {},
   "outputs": [],
   "source": [
    "df.to_csv(r'dataset_clean.csv', index = False, encoding='ansi')"
   ]
  },
  {
   "cell_type": "markdown",
   "metadata": {},
   "source": [
    "# Data Processing"
   ]
  },
  {
   "cell_type": "markdown",
   "metadata": {},
   "source": [
    "In this section we are going to try to minimize the impact of the unbalanced dataset on the different ML models.\n",
    "\n",
    "We can consider two ways of solving this problem: oversampling or undersampling. Since we have 5 different classes with very different number of samples per class, the approach we are going to follow will be a mix of both.\n",
    "\n",
    "Let's remember how the samples are distributed in the dataset depending on its _label_ value:"
   ]
  },
  {
   "cell_type": "code",
   "execution_count": 16,
   "metadata": {},
   "outputs": [
    {
     "data": {
      "text/plain": [
       "Text(0, 0.5, 'Label')"
      ]
     },
     "execution_count": 16,
     "metadata": {},
     "output_type": "execute_result"
    },
    {
     "data": {
      "image/png": "[encoded data removed]",
      "text/plain": [
       "<Figure size 432x288 with 1 Axes>"
      ]
     },
     "metadata": {
      "needs_background": "light"
     },
     "output_type": "display_data"
    }
   ],
   "source": [
    "ax = df['label'].value_counts(sort=True, ascending=True).plot(kind='barh')\n",
    "ax.set_xlabel('Number of Samples in the Dataset')\n",
    "ax.set_ylabel('Label')"
   ]
  },
  {
   "cell_type": "markdown",
   "metadata": {},
   "source": [
    "First, we are going to undersample '0' and '-2' groups to have 37 samples each, which is the number of samples the class '-1' has. The process will pick random samples within these 2 groups and remove them from the dataset."
   ]
  },
  {
   "cell_type": "code",
   "execution_count": 17,
   "metadata": {},
   "outputs": [
    {
     "data": {
      "text/plain": [
       "Text(0, 0.5, 'Label')"
      ]
     },
     "execution_count": 17,
     "metadata": {},
     "output_type": "execute_result"
    },
    {
     "data": {
      "image/png": "[encoded data removed]",
      "text/plain": [
       "<Figure size 432x288 with 1 Axes>"
      ]
     },
     "metadata": {
      "needs_background": "light"
     },
     "output_type": "display_data"
    }
   ],
   "source": [
    "import imblearn\n",
    "\n",
    "# define undersample strategy\n",
    "classes = {0: 37, -2: 37}\n",
    "undersample = imblearn.under_sampling.RandomUnderSampler(sampling_strategy=classes)\n",
    "\n",
    "# create X and y\n",
    "X = df.loc[:, df.columns != 'label']\n",
    "y = df['label']\n",
    "\n",
    "# fit and apply the transform\n",
    "X_over, y_over = undersample.fit_resample(X, y)\n",
    "\n",
    "ax = y_over.value_counts(sort=True, ascending=True).plot(kind='barh')\n",
    "ax.set_xlabel('Number of Samples in the Dataset')\n",
    "ax.set_ylabel('Label')"
   ]
  },
  {
   "cell_type": "markdown",
   "metadata": {},
   "source": [
    "We can see now that classes '0', '-1' and '-2' have a similar number of samples.\n",
    "\n",
    "Second, we are going to oversample '1' and '2' groups to have 37 samples each, like the rest of the classes. The process will duplicate random samples within these 2 groups and add them to the dataset."
   ]
  },
  {
   "cell_type": "code",
   "execution_count": 18,
   "metadata": {},
   "outputs": [
    {
     "data": {
      "text/plain": [
       "Text(0, 0.5, 'Label')"
      ]
     },
     "execution_count": 18,
     "metadata": {},
     "output_type": "execute_result"
    },
    {
     "data": {
      "image/png": "[encoded data removed]",
      "text/plain": [
       "<Figure size 432x288 with 1 Axes>"
      ]
     },
     "metadata": {
      "needs_background": "light"
     },
     "output_type": "display_data"
    }
   ],
   "source": [
    "# define oversample strategy\n",
    "classes = {1: 37, 2: 37}\n",
    "oversample = imblearn.over_sampling.RandomOverSampler(sampling_strategy=classes)\n",
    "\n",
    "# update X and y\n",
    "X = X_over\n",
    "y = y_over\n",
    "\n",
    "# fit and apply the transform\n",
    "X_over, y_over = oversample.fit_resample(X, y)\n",
    "\n",
    "# update X and y\n",
    "X = X_over\n",
    "y = y_over\n",
    "\n",
    "ax = y_over.value_counts(sort=True, ascending=True).plot(kind='barh')\n",
    "ax.set_xlabel('Number of Samples in the Dataset')\n",
    "ax.set_ylabel('Label')"
   ]
  },
  {
   "cell_type": "markdown",
   "metadata": {},
   "source": [
    "Now all the classes have 37 samples each, resulting in a balanced dataset.\n",
    "\n",
    "On one hand, this process has consequences. As classes '1' and '2' have duplicate samples, some overfitting could appear in the ML model when trying to predict these two classes. Moreover, now it will be more difficult for the model to predict classes '0' and '-2' since it has less samples to learn from them while is being trained.\n",
    "\n",
    "On the other hand, if we do not balance the dataset we will find what we call the \"Accuracy Paradox\" when evaluating the ML model. The algorithms will want to assign most of their observations to the majority classes, resulting on a high accuracy value. Testing the model on a balanced dataset will show us that, actually, it is not generalizing well."
   ]
  },
  {
   "cell_type": "code",
   "execution_count": 19,
   "metadata": {},
   "outputs": [],
   "source": [
    "# concatenate X and y into a new balanced dataframe\n",
    "df = pd.concat([X, y], axis=1)\n",
    "\n",
    "df.to_csv(r'dataset_balanced.csv', index = False, encoding='ansi')"
   ]
  },
  {
   "cell_type": "code",
   "execution_count": 20,
   "metadata": {},
   "outputs": [
    {
     "data": {
      "text/html": [
       "<div>\n",
       "<style scoped>\n",
       "    .dataframe tbody tr th:only-of-type {\n",
       "        vertical-align: middle;\n",
       "    }\n",
       "\n",
       "    .dataframe tbody tr th {\n",
       "        vertical-align: top;\n",
       "    }\n",
       "\n",
       "    .dataframe thead th {\n",
       "        text-align: right;\n",
       "    }\n",
       "</style>\n",
       "<table border=\"1\" class=\"dataframe\">\n",
       "  <thead>\n",
       "    <tr style=\"text-align: right;\">\n",
       "      <th></th>\n",
       "      <th>topic</th>\n",
       "      <th>doc_pred</th>\n",
       "      <th>bert_sentiment</th>\n",
       "      <th>lexicon_sentiment</th>\n",
       "      <th>topical</th>\n",
       "      <th>tokens</th>\n",
       "      <th>entities</th>\n",
       "      <th>length</th>\n",
       "      <th>text</th>\n",
       "      <th>text_eng</th>\n",
       "      <th>label</th>\n",
       "    </tr>\n",
       "  </thead>\n",
       "  <tbody>\n",
       "    <tr>\n",
       "      <th>0</th>\n",
       "      <td>Donald Trump</td>\n",
       "      <td>-1.558372</td>\n",
       "      <td>-1.195102</td>\n",
       "      <td>-0.470588</td>\n",
       "      <td>0</td>\n",
       "      <td>13</td>\n",
       "      <td>0</td>\n",
       "      <td>72</td>\n",
       "      <td>Imens bliver passagererne mere og mere urolige...</td>\n",
       "      <td>Meanwhile, the passengers become more and more...</td>\n",
       "      <td>-2</td>\n",
       "    </tr>\n",
       "    <tr>\n",
       "      <th>1</th>\n",
       "      <td>Boris Johnson</td>\n",
       "      <td>-1.698865</td>\n",
       "      <td>-0.751376</td>\n",
       "      <td>-0.247788</td>\n",
       "      <td>1</td>\n",
       "      <td>11</td>\n",
       "      <td>2</td>\n",
       "      <td>72</td>\n",
       "      <td>Channel 4s isskulpturer gjorde Boris Johnsons ...</td>\n",
       "      <td>Channel 4's ice sculptures made Boris Johnson'...</td>\n",
       "      <td>-2</td>\n",
       "    </tr>\n",
       "    <tr>\n",
       "      <th>2</th>\n",
       "      <td>Donald Trump</td>\n",
       "      <td>-1.428882</td>\n",
       "      <td>0.119638</td>\n",
       "      <td>-0.953488</td>\n",
       "      <td>0</td>\n",
       "      <td>7</td>\n",
       "      <td>0</td>\n",
       "      <td>55</td>\n",
       "      <td>Han er udpeget afjustitsministerietsom særlig ...</td>\n",
       "      <td>He has been appointed by the Ministry of Justi...</td>\n",
       "      <td>-2</td>\n",
       "    </tr>\n",
       "    <tr>\n",
       "      <th>3</th>\n",
       "      <td>Donald Trump</td>\n",
       "      <td>-1.457036</td>\n",
       "      <td>-0.526979</td>\n",
       "      <td>-0.007380</td>\n",
       "      <td>0</td>\n",
       "      <td>18</td>\n",
       "      <td>0</td>\n",
       "      <td>86</td>\n",
       "      <td>Og muligvis er de nuværende regler om, hvad ma...</td>\n",
       "      <td>And possibly the current rules about what one ...</td>\n",
       "      <td>-2</td>\n",
       "    </tr>\n",
       "    <tr>\n",
       "      <th>4</th>\n",
       "      <td>Donald Trump</td>\n",
       "      <td>-1.722569</td>\n",
       "      <td>-0.700014</td>\n",
       "      <td>-0.142857</td>\n",
       "      <td>0</td>\n",
       "      <td>13</td>\n",
       "      <td>1</td>\n",
       "      <td>62</td>\n",
       "      <td>Hvis der kommer en rigsretssag mod Trump, vent...</td>\n",
       "      <td>If there is a federal lawsuit against Trump, i...</td>\n",
       "      <td>-2</td>\n",
       "    </tr>\n",
       "    <tr>\n",
       "      <th>...</th>\n",
       "      <td>...</td>\n",
       "      <td>...</td>\n",
       "      <td>...</td>\n",
       "      <td>...</td>\n",
       "      <td>...</td>\n",
       "      <td>...</td>\n",
       "      <td>...</td>\n",
       "      <td>...</td>\n",
       "      <td>...</td>\n",
       "      <td>...</td>\n",
       "      <td>...</td>\n",
       "    </tr>\n",
       "    <tr>\n",
       "      <th>180</th>\n",
       "      <td>Boris Johnson</td>\n",
       "      <td>0.529619</td>\n",
       "      <td>1.057251</td>\n",
       "      <td>0.394904</td>\n",
       "      <td>1</td>\n",
       "      <td>14</td>\n",
       "      <td>1</td>\n",
       "      <td>86</td>\n",
       "      <td>Også i første afstemningsrunde i forrige uge m...</td>\n",
       "      <td>Also in the first round of voting last week, B...</td>\n",
       "      <td>2</td>\n",
       "    </tr>\n",
       "    <tr>\n",
       "      <th>181</th>\n",
       "      <td>Donald Trump</td>\n",
       "      <td>-0.724118</td>\n",
       "      <td>0.499768</td>\n",
       "      <td>0.869565</td>\n",
       "      <td>0</td>\n",
       "      <td>13</td>\n",
       "      <td>2</td>\n",
       "      <td>61</td>\n",
       "      <td>- De behandler os med stor respekt, sagde Trum...</td>\n",
       "      <td>\"They treat us with great respect,\" Trump said...</td>\n",
       "      <td>2</td>\n",
       "    </tr>\n",
       "    <tr>\n",
       "      <th>182</th>\n",
       "      <td>Boris Johnson</td>\n",
       "      <td>0.529619</td>\n",
       "      <td>0.314489</td>\n",
       "      <td>0.137931</td>\n",
       "      <td>0</td>\n",
       "      <td>18</td>\n",
       "      <td>1</td>\n",
       "      <td>88</td>\n",
       "      <td>Denne gang er det 46-årige Rory Stewart, der v...</td>\n",
       "      <td>This time it’s 46-year-old Rory Stewart, who w...</td>\n",
       "      <td>2</td>\n",
       "    </tr>\n",
       "    <tr>\n",
       "      <th>183</th>\n",
       "      <td>Donald Trump</td>\n",
       "      <td>-0.724118</td>\n",
       "      <td>-0.161167</td>\n",
       "      <td>0.038462</td>\n",
       "      <td>0</td>\n",
       "      <td>17</td>\n",
       "      <td>0</td>\n",
       "      <td>66</td>\n",
       "      <td>Det har taget mange årtier at nå hertil, lad o...</td>\n",
       "      <td>It has taken many decades to get here, let's s...</td>\n",
       "      <td>2</td>\n",
       "    </tr>\n",
       "    <tr>\n",
       "      <th>184</th>\n",
       "      <td>Donald Trump</td>\n",
       "      <td>-0.873057</td>\n",
       "      <td>-1.404224</td>\n",
       "      <td>0.363636</td>\n",
       "      <td>0</td>\n",
       "      <td>17</td>\n",
       "      <td>0</td>\n",
       "      <td>91</td>\n",
       "      <td>Demokrater gør klar til rigsretssag, men det k...</td>\n",
       "      <td>Democrats are preparing for a state lawsuit, b...</td>\n",
       "      <td>2</td>\n",
       "    </tr>\n",
       "  </tbody>\n",
       "</table>\n",
       "<p>185 rows × 11 columns</p>\n",
       "</div>"
      ],
      "text/plain": [
       "             topic  doc_pred  bert_sentiment  lexicon_sentiment  topical  \\\n",
       "0     Donald Trump -1.558372       -1.195102          -0.470588        0   \n",
       "1    Boris Johnson -1.698865       -0.751376          -0.247788        1   \n",
       "2     Donald Trump -1.428882        0.119638          -0.953488        0   \n",
       "3     Donald Trump -1.457036       -0.526979          -0.007380        0   \n",
       "4     Donald Trump -1.722569       -0.700014          -0.142857        0   \n",
       "..             ...       ...             ...                ...      ...   \n",
       "180  Boris Johnson  0.529619        1.057251           0.394904        1   \n",
       "181   Donald Trump -0.724118        0.499768           0.869565        0   \n",
       "182  Boris Johnson  0.529619        0.314489           0.137931        0   \n",
       "183   Donald Trump -0.724118       -0.161167           0.038462        0   \n",
       "184   Donald Trump -0.873057       -1.404224           0.363636        0   \n",
       "\n",
       "     tokens  entities  length  \\\n",
       "0        13         0      72   \n",
       "1        11         2      72   \n",
       "2         7         0      55   \n",
       "3        18         0      86   \n",
       "4        13         1      62   \n",
       "..      ...       ...     ...   \n",
       "180      14         1      86   \n",
       "181      13         2      61   \n",
       "182      18         1      88   \n",
       "183      17         0      66   \n",
       "184      17         0      91   \n",
       "\n",
       "                                                  text  \\\n",
       "0    Imens bliver passagererne mere og mere urolige...   \n",
       "1    Channel 4s isskulpturer gjorde Boris Johnsons ...   \n",
       "2    Han er udpeget afjustitsministerietsom særlig ...   \n",
       "3    Og muligvis er de nuværende regler om, hvad ma...   \n",
       "4    Hvis der kommer en rigsretssag mod Trump, vent...   \n",
       "..                                                 ...   \n",
       "180  Også i første afstemningsrunde i forrige uge m...   \n",
       "181  - De behandler os med stor respekt, sagde Trum...   \n",
       "182  Denne gang er det 46-årige Rory Stewart, der v...   \n",
       "183  Det har taget mange årtier at nå hertil, lad o...   \n",
       "184  Demokrater gør klar til rigsretssag, men det k...   \n",
       "\n",
       "                                              text_eng  label  \n",
       "0    Meanwhile, the passengers become more and more...     -2  \n",
       "1    Channel 4's ice sculptures made Boris Johnson'...     -2  \n",
       "2    He has been appointed by the Ministry of Justi...     -2  \n",
       "3    And possibly the current rules about what one ...     -2  \n",
       "4    If there is a federal lawsuit against Trump, i...     -2  \n",
       "..                                                 ...    ...  \n",
       "180  Also in the first round of voting last week, B...      2  \n",
       "181  \"They treat us with great respect,\" Trump said...      2  \n",
       "182  This time it’s 46-year-old Rory Stewart, who w...      2  \n",
       "183  It has taken many decades to get here, let's s...      2  \n",
       "184  Democrats are preparing for a state lawsuit, b...      2  \n",
       "\n",
       "[185 rows x 11 columns]"
      ]
     },
     "execution_count": 20,
     "metadata": {},
     "output_type": "execute_result"
    }
   ],
   "source": [
    "df"
   ]
  },
  {
   "cell_type": "markdown",
   "metadata": {},
   "source": [
    "# Sentiment Analysis"
   ]
  },
  {
   "cell_type": "markdown",
   "metadata": {},
   "source": [
    "Since the dataset is small and it has not a lot of features, could be interesting to add more sentiment analysis scores and see if it helps to improve the performance of the models. Two Python libraries has been considered: TextBlob and VADER.\n",
    "\n",
    "In addition to that, at the end of this section we will check the precision and recall for the BERT sentiment score already computed in the dataset (_bert_sentiment_ column)."
   ]
  },
  {
   "cell_type": "markdown",
   "metadata": {},
   "source": [
    "### TextBlob"
   ]
  },
  {
   "cell_type": "code",
   "execution_count": 21,
   "metadata": {},
   "outputs": [],
   "source": [
    "from sklearn.metrics import precision_score, recall_score\n",
    "from textblob import TextBlob"
   ]
  },
  {
   "cell_type": "code",
   "execution_count": 22,
   "metadata": {},
   "outputs": [
    {
     "name": "stderr",
     "output_type": "stream",
     "text": [
      "<ipython-input-22-3bff0d69308f>:5: FutureWarning: Indexing with multiple keys (implicitly converted to a tuple of keys) will be deprecated, use a list instead.\n",
      "  df_textblob = df.groupby(['label'])['y_textblob_polarity','y_textblob_subjectivity'].mean()\n"
     ]
    },
    {
     "data": {
      "text/plain": [
       "<AxesSubplot:xlabel='label'>"
      ]
     },
     "execution_count": 22,
     "metadata": {},
     "output_type": "execute_result"
    },
    {
     "data": {
      "image/png": "[encoded data removed]",
      "text/plain": [
       "<Figure size 432x288 with 1 Axes>"
      ]
     },
     "metadata": {
      "needs_background": "light"
     },
     "output_type": "display_data"
    }
   ],
   "source": [
    "# we save TextBlob polarity and subjetivity scores in 2 different columns\n",
    "df['y_textblob_polarity'] = df.apply (lambda row: TextBlob(row['text_eng']).sentiment.polarity, axis=1)\n",
    "df['y_textblob_subjectivity'] = df.apply (lambda row: TextBlob(row['text_eng']).sentiment.subjectivity, axis=1)\n",
    "\n",
    "df_textblob = df.groupby(['label'])['y_textblob_polarity','y_textblob_subjectivity'].mean()\n",
    "df_textblob.plot.bar()"
   ]
  },
  {
   "cell_type": "markdown",
   "metadata": {},
   "source": [
    "As we can see in the plot above, the TextBlob's subjetivity score won't be relevant for us since its mean is not correlated with _label_. Despite of this, the polarity score could be interesting so we keep the column and multiply its values to have values between -2 and 2."
   ]
  },
  {
   "cell_type": "code",
   "execution_count": 23,
   "metadata": {},
   "outputs": [],
   "source": [
    "del df['y_textblob_subjectivity']\n",
    "df.columns.values[11] = 'y_textblob'\n",
    "df['y_textblob'] = df['y_textblob'].apply(lambda x: x*2)"
   ]
  },
  {
   "cell_type": "code",
   "execution_count": 24,
   "metadata": {},
   "outputs": [
    {
     "name": "stdout",
     "output_type": "stream",
     "text": [
      "Precision: 0.30\n",
      "Recall: 0.20\n"
     ]
    }
   ],
   "source": [
    "pc = precision_score(df['label'], df['y_textblob'].astype(int), average=None)\n",
    "rc = recall_score(df['label'], df['y_textblob'].astype(int), average=None)\n",
    "print(\"Precision: %.2f\"% np.mean(pc))\n",
    "print(\"Recall: %.2f\"% np.mean(rc))"
   ]
  },
  {
   "cell_type": "markdown",
   "metadata": {},
   "source": [
    "Its precision and recall by themselfs are not relevant, but we keep the values to see if they are useful in the future."
   ]
  },
  {
   "cell_type": "markdown",
   "metadata": {},
   "source": [
    "### VADER"
   ]
  },
  {
   "cell_type": "code",
   "execution_count": 25,
   "metadata": {},
   "outputs": [
    {
     "name": "stderr",
     "output_type": "stream",
     "text": [
      "[nltk_data] Downloading package vader_lexicon to\n",
      "[nltk_data]     C:\\Users\\carlo\\AppData\\Roaming\\nltk_data...\n",
      "[nltk_data]   Package vader_lexicon is already up-to-date!\n"
     ]
    }
   ],
   "source": [
    "import nltk\n",
    "nltk.download('vader_lexicon')\n",
    "\n",
    "from nltk.sentiment.vader import SentimentIntensityAnalyzer\n",
    "vader = SentimentIntensityAnalyzer()"
   ]
  },
  {
   "cell_type": "code",
   "execution_count": 26,
   "metadata": {},
   "outputs": [
    {
     "data": {
      "text/plain": [
       "<AxesSubplot:xlabel='label'>"
      ]
     },
     "execution_count": 26,
     "metadata": {},
     "output_type": "execute_result"
    },
    {
     "data": {
      "image/png": "[encoded data removed]",
      "text/plain": [
       "<Figure size 432x288 with 1 Axes>"
      ]
     },
     "metadata": {
      "needs_background": "light"
     },
     "output_type": "display_data"
    }
   ],
   "source": [
    "# compute VADER sentiment score and scale it to [-2, 2]\n",
    "df['y_vader'] = df.apply (lambda row: vader.polarity_scores(row['text_eng'])['compound'], axis=1)\n",
    "df['y_vader'] = df['y_vader'].apply(lambda x: x*2)\n",
    "\n",
    "df_vader = df.groupby(['label'])['y_vader'].mean()\n",
    "df_vader.plot.bar()"
   ]
  },
  {
   "cell_type": "code",
   "execution_count": 27,
   "metadata": {},
   "outputs": [
    {
     "name": "stdout",
     "output_type": "stream",
     "text": [
      "Precision: 0.16\n",
      "Recall: 0.21\n"
     ]
    },
    {
     "name": "stderr",
     "output_type": "stream",
     "text": [
      "C:\\ProgramData\\Anaconda3\\lib\\site-packages\\sklearn\\metrics\\_classification.py:1221: UndefinedMetricWarning: Precision is ill-defined and being set to 0.0 in labels with no predicted samples. Use `zero_division` parameter to control this behavior.\n",
      "  _warn_prf(average, modifier, msg_start, len(result))\n"
     ]
    }
   ],
   "source": [
    "pc = precision_score(df['label'], df['y_vader'].astype(int), average=None)\n",
    "rc = recall_score(df['label'], df['y_vader'].astype(int), average=None)\n",
    "print(\"Precision: %.2f\"% np.mean(pc))\n",
    "print(\"Recall: %.2f\"% np.mean(rc))"
   ]
  },
  {
   "cell_type": "markdown",
   "metadata": {},
   "source": [
    "Similar results, its precision and recall by themselfs are not relevant but we keep the values to see if they are useful in the future."
   ]
  },
  {
   "cell_type": "markdown",
   "metadata": {},
   "source": [
    "### BERT"
   ]
  },
  {
   "cell_type": "code",
   "execution_count": 28,
   "metadata": {},
   "outputs": [
    {
     "name": "stdout",
     "output_type": "stream",
     "text": [
      "Precision: 0.16\n",
      "Recall: 0.22\n"
     ]
    }
   ],
   "source": [
    "pc = precision_score(df['label'], df['bert_sentiment'].astype(int), average=None)\n",
    "rc = recall_score(df['label'], df['bert_sentiment'].astype(int), average=None)\n",
    "print(\"Precision: %.2f\"% np.mean(pc))\n",
    "print(\"Recall: %.2f\"% np.mean(rc))"
   ]
  },
  {
   "cell_type": "markdown",
   "metadata": {},
   "source": [
    "Once more, similar results. This is enough to show that we need a proper classifier using the rest of the data to improve the performance."
   ]
  },
  {
   "cell_type": "code",
   "execution_count": 29,
   "metadata": {},
   "outputs": [],
   "source": [
    "df.to_csv(r'dataset_expanded.csv', index = False, encoding='ansi')"
   ]
  },
  {
   "cell_type": "markdown",
   "metadata": {},
   "source": [
    "# ML Classification Models"
   ]
  },
  {
   "cell_type": "markdown",
   "metadata": {},
   "source": [
    "### Looking for ML model candidates with PyCaret"
   ]
  },
  {
   "cell_type": "markdown",
   "metadata": {},
   "source": [
    "PyCaret library is usually my choice to check which ML models could perform better for a concrete dataset and task. It provides a quick comparison between most used models and allows hyperparameter tuning among other functionalities.\n",
    "\n",
    "To simplify the content of this notebook, the code implemented with PyCaret can be found in two different notebooks (using a different environment for PyCaret to avoid problems with dependencies and versions):\n",
    "- _PyCaret_Infomedia_: contains the experiments done with the final feature configuration.\n",
    "- _PyCaret_Infomedia_Setup_Analysis_: contains varius classifier comparisons with different feature setups.\n",
    "\n",
    "The figure below shows a promising performance from Gradient Boosting Classifier with the validation set compared to other models:"
   ]
  },
  {
   "cell_type": "markdown",
   "metadata": {},
   "source": [
    "![title](data:image/png;base64,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)"
   ]
  },
  {
   "cell_type": "markdown",
   "metadata": {},
   "source": [
    "This performance seems to be also generalizing well with the test set, although with a small dataset everytime you run the code the results change a bit (approx. +/-0.05):"
   ]
  },
  {
   "cell_type": "markdown",
   "metadata": {},
   "source": [
    "![title](data:image/png;base64,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)"
   ]
  },
  {
   "cell_type": "markdown",
   "metadata": {},
   "source": [
    "These results are achieved with the parameters showed below (PyCaret is using sklearn library internally):"
   ]
  },
  {
   "cell_type": "code",
   "execution_count": 30,
   "metadata": {},
   "outputs": [
    {
     "data": {
      "text/plain": [
       "\"\\nGradientBoostingClassifier(ccp_alpha=0.0, criterion='friedman_mse', init=None,\\n                           learning_rate=0.1, loss='deviance', max_depth=3,\\n                           max_features=None, max_leaf_nodes=None,\\n                           min_impurity_decrease=0.0, min_impurity_split=None,\\n                           min_samples_leaf=1, min_samples_split=2,\\n                           min_weight_fraction_leaf=0.0, n_estimators=100,\\n                           n_iter_no_change=None, presort='deprecated',\\n                           random_state=7149, subsample=1.0, tol=0.0001,\\n                           validation_fraction=0.1, verbose=0,\\n                           warm_start=False)\\n\""
      ]
     },
     "execution_count": 30,
     "metadata": {},
     "output_type": "execute_result"
    }
   ],
   "source": [
    "'''\n",
    "GradientBoostingClassifier(ccp_alpha=0.0, criterion='friedman_mse', init=None,\n",
    "                           learning_rate=0.1, loss='deviance', max_depth=3,\n",
    "                           max_features=None, max_leaf_nodes=None,\n",
    "                           min_impurity_decrease=0.0, min_impurity_split=None,\n",
    "                           min_samples_leaf=1, min_samples_split=2,\n",
    "                           min_weight_fraction_leaf=0.0, n_estimators=100,\n",
    "                           n_iter_no_change=None, presort='deprecated',\n",
    "                           random_state=7149, subsample=1.0, tol=0.0001,\n",
    "                           validation_fraction=0.1, verbose=0,\n",
    "                           warm_start=False)\n",
    "'''"
   ]
  },
  {
   "cell_type": "markdown",
   "metadata": {},
   "source": [
    "These results have been achieved with the feature configuration showed below after trying with many different setups (take a look to the notebook _PyCaret_Infomedia_Setup_Analysis_ for more details). Notice that _bert_sentiment_ has been excluded, _topic_ and _topical_ are categorical and none of the extra features (_y\\_textblob_ and _y\\_vader_) have been included finally."
   ]
  },
  {
   "cell_type": "markdown",
   "metadata": {},
   "source": [
    "![title](data:image/png;base64,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)"
   ]
  },
  {
   "cell_type": "markdown",
   "metadata": {},
   "source": [
    "We can see in the Precision-Recall plot below that the performance seems to be very promising despite of the size of the dataset:"
   ]
  },
  {
   "cell_type": "markdown",
   "metadata": {},
   "source": [
    "![title](data:image/png;base64,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)"
   ]
  },
  {
   "cell_type": "markdown",
   "metadata": {},
   "source": [
    "## Gradient Boosting Classifier with Scikit-learn"
   ]
  },
  {
   "cell_type": "markdown",
   "metadata": {},
   "source": [
    "Now it's time to check if Gradient Boosting Classifier is performing that well and if we can tune its hyperparameters a bit more. We are going to use directly Scikit-learn for this task."
   ]
  },
  {
   "cell_type": "code",
   "execution_count": 31,
   "metadata": {},
   "outputs": [],
   "source": [
    "from sklearn.preprocessing import MinMaxScaler\n",
    "from sklearn.model_selection import train_test_split, RandomizedSearchCV, GridSearchCV\n",
    "from sklearn.metrics import classification_report, confusion_matrix\n",
    "from sklearn.ensemble import GradientBoostingClassifier\n",
    "from sklearn.utils import shuffle"
   ]
  },
  {
   "cell_type": "code",
   "execution_count": 32,
   "metadata": {},
   "outputs": [
    {
     "data": {
      "text/html": [
       "<div>\n",
       "<style scoped>\n",
       "    .dataframe tbody tr th:only-of-type {\n",
       "        vertical-align: middle;\n",
       "    }\n",
       "\n",
       "    .dataframe tbody tr th {\n",
       "        vertical-align: top;\n",
       "    }\n",
       "\n",
       "    .dataframe thead th {\n",
       "        text-align: right;\n",
       "    }\n",
       "</style>\n",
       "<table border=\"1\" class=\"dataframe\">\n",
       "  <thead>\n",
       "    <tr style=\"text-align: right;\">\n",
       "      <th></th>\n",
       "      <th>bert_sentiment</th>\n",
       "      <th>doc_pred</th>\n",
       "      <th>lexicon_sentiment</th>\n",
       "      <th>topical</th>\n",
       "      <th>tokens</th>\n",
       "      <th>entities</th>\n",
       "      <th>label</th>\n",
       "      <th>topic_Boris Johnson</th>\n",
       "      <th>topic_Donald Trump</th>\n",
       "      <th>topic_Joe Biden</th>\n",
       "    </tr>\n",
       "  </thead>\n",
       "  <tbody>\n",
       "    <tr>\n",
       "      <th>0</th>\n",
       "      <td>-1.195102</td>\n",
       "      <td>-1.558372</td>\n",
       "      <td>-0.470588</td>\n",
       "      <td>0</td>\n",
       "      <td>13</td>\n",
       "      <td>0</td>\n",
       "      <td>-2</td>\n",
       "      <td>0</td>\n",
       "      <td>1</td>\n",
       "      <td>0</td>\n",
       "    </tr>\n",
       "    <tr>\n",
       "      <th>1</th>\n",
       "      <td>-0.751376</td>\n",
       "      <td>-1.698865</td>\n",
       "      <td>-0.247788</td>\n",
       "      <td>1</td>\n",
       "      <td>11</td>\n",
       "      <td>2</td>\n",
       "      <td>-2</td>\n",
       "      <td>1</td>\n",
       "      <td>0</td>\n",
       "      <td>0</td>\n",
       "    </tr>\n",
       "    <tr>\n",
       "      <th>2</th>\n",
       "      <td>0.119638</td>\n",
       "      <td>-1.428882</td>\n",
       "      <td>-0.953488</td>\n",
       "      <td>0</td>\n",
       "      <td>7</td>\n",
       "      <td>0</td>\n",
       "      <td>-2</td>\n",
       "      <td>0</td>\n",
       "      <td>1</td>\n",
       "      <td>0</td>\n",
       "    </tr>\n",
       "    <tr>\n",
       "      <th>3</th>\n",
       "      <td>-0.526979</td>\n",
       "      <td>-1.457036</td>\n",
       "      <td>-0.007380</td>\n",
       "      <td>0</td>\n",
       "      <td>18</td>\n",
       "      <td>0</td>\n",
       "      <td>-2</td>\n",
       "      <td>0</td>\n",
       "      <td>1</td>\n",
       "      <td>0</td>\n",
       "    </tr>\n",
       "    <tr>\n",
       "      <th>4</th>\n",
       "      <td>-0.700014</td>\n",
       "      <td>-1.722569</td>\n",
       "      <td>-0.142857</td>\n",
       "      <td>0</td>\n",
       "      <td>13</td>\n",
       "      <td>1</td>\n",
       "      <td>-2</td>\n",
       "      <td>0</td>\n",
       "      <td>1</td>\n",
       "      <td>0</td>\n",
       "    </tr>\n",
       "    <tr>\n",
       "      <th>...</th>\n",
       "      <td>...</td>\n",
       "      <td>...</td>\n",
       "      <td>...</td>\n",
       "      <td>...</td>\n",
       "      <td>...</td>\n",
       "      <td>...</td>\n",
       "      <td>...</td>\n",
       "      <td>...</td>\n",
       "      <td>...</td>\n",
       "      <td>...</td>\n",
       "    </tr>\n",
       "    <tr>\n",
       "      <th>180</th>\n",
       "      <td>1.057251</td>\n",
       "      <td>0.529619</td>\n",
       "      <td>0.394904</td>\n",
       "      <td>1</td>\n",
       "      <td>14</td>\n",
       "      <td>1</td>\n",
       "      <td>2</td>\n",
       "      <td>1</td>\n",
       "      <td>0</td>\n",
       "      <td>0</td>\n",
       "    </tr>\n",
       "    <tr>\n",
       "      <th>181</th>\n",
       "      <td>0.499768</td>\n",
       "      <td>-0.724118</td>\n",
       "      <td>0.869565</td>\n",
       "      <td>0</td>\n",
       "      <td>13</td>\n",
       "      <td>2</td>\n",
       "      <td>2</td>\n",
       "      <td>0</td>\n",
       "      <td>1</td>\n",
       "      <td>0</td>\n",
       "    </tr>\n",
       "    <tr>\n",
       "      <th>182</th>\n",
       "      <td>0.314489</td>\n",
       "      <td>0.529619</td>\n",
       "      <td>0.137931</td>\n",
       "      <td>0</td>\n",
       "      <td>18</td>\n",
       "      <td>1</td>\n",
       "      <td>2</td>\n",
       "      <td>1</td>\n",
       "      <td>0</td>\n",
       "      <td>0</td>\n",
       "    </tr>\n",
       "    <tr>\n",
       "      <th>183</th>\n",
       "      <td>-0.161167</td>\n",
       "      <td>-0.724118</td>\n",
       "      <td>0.038462</td>\n",
       "      <td>0</td>\n",
       "      <td>17</td>\n",
       "      <td>0</td>\n",
       "      <td>2</td>\n",
       "      <td>0</td>\n",
       "      <td>1</td>\n",
       "      <td>0</td>\n",
       "    </tr>\n",
       "    <tr>\n",
       "      <th>184</th>\n",
       "      <td>-1.404224</td>\n",
       "      <td>-0.873057</td>\n",
       "      <td>0.363636</td>\n",
       "      <td>0</td>\n",
       "      <td>17</td>\n",
       "      <td>0</td>\n",
       "      <td>2</td>\n",
       "      <td>0</td>\n",
       "      <td>1</td>\n",
       "      <td>0</td>\n",
       "    </tr>\n",
       "  </tbody>\n",
       "</table>\n",
       "<p>185 rows × 10 columns</p>\n",
       "</div>"
      ],
      "text/plain": [
       "     bert_sentiment  doc_pred  lexicon_sentiment  topical  tokens  entities  \\\n",
       "0         -1.195102 -1.558372          -0.470588        0      13         0   \n",
       "1         -0.751376 -1.698865          -0.247788        1      11         2   \n",
       "2          0.119638 -1.428882          -0.953488        0       7         0   \n",
       "3         -0.526979 -1.457036          -0.007380        0      18         0   \n",
       "4         -0.700014 -1.722569          -0.142857        0      13         1   \n",
       "..              ...       ...                ...      ...     ...       ...   \n",
       "180        1.057251  0.529619           0.394904        1      14         1   \n",
       "181        0.499768 -0.724118           0.869565        0      13         2   \n",
       "182        0.314489  0.529619           0.137931        0      18         1   \n",
       "183       -0.161167 -0.724118           0.038462        0      17         0   \n",
       "184       -1.404224 -0.873057           0.363636        0      17         0   \n",
       "\n",
       "     label  topic_Boris Johnson  topic_Donald Trump  topic_Joe Biden  \n",
       "0       -2                    0                   1                0  \n",
       "1       -2                    1                   0                0  \n",
       "2       -2                    0                   1                0  \n",
       "3       -2                    0                   1                0  \n",
       "4       -2                    0                   1                0  \n",
       "..     ...                  ...                 ...              ...  \n",
       "180      2                    1                   0                0  \n",
       "181      2                    0                   1                0  \n",
       "182      2                    1                   0                0  \n",
       "183      2                    0                   1                0  \n",
       "184      2                    0                   1                0  \n",
       "\n",
       "[185 rows x 10 columns]"
      ]
     },
     "execution_count": 32,
     "metadata": {},
     "output_type": "execute_result"
    }
   ],
   "source": [
    "# new dataframe containing only the features we are going to use (not excluding 'bert_sentiment' yet)\n",
    "data = [df['bert_sentiment'],df['topic'],df['doc_pred'],df['lexicon_sentiment'],\n",
    "        df['topical'],df['tokens'],df['entities'],df['label']]\n",
    "headers = ['bert_sentiment','topic','doc_pred','lexicon_sentiment','topical','tokens','entities','label']\n",
    "df_op = pd.concat(data, axis=1, keys=headers).sort_index()\n",
    "\n",
    "# transform feature 'topic' to categorical ('topical' is already categorical)\n",
    "df_op = pd.get_dummies(df_op, columns=['topic'])\n",
    "df_op"
   ]
  },
  {
   "cell_type": "code",
   "execution_count": 33,
   "metadata": {},
   "outputs": [],
   "source": [
    "# shuffle dataset rows and create training (75%) & test (25%) sets\n",
    "df_op = shuffle(df_op)\n",
    "X_train, X_test, y_train, y_test = train_test_split(df_op.loc[:, df_op.columns != 'label'],\n",
    "                                                    df_op['label'], test_size=0.25, random_state=123)\n",
    "\n",
    "# save 'bert_sentiment' values from test set\n",
    "y_test_bert = X_test['bert_sentiment']\n",
    "\n",
    "# remove 'bert_sentiment' from both sets\n",
    "del X_train['bert_sentiment']\n",
    "del X_test['bert_sentiment']\n",
    "\n",
    "# normalize data\n",
    "scaler = MinMaxScaler()\n",
    "X_train = scaler.fit_transform(X_train)\n",
    "X_test = scaler.transform(X_test)\n",
    "\n",
    "# split train set into train (75%) and validation (25%) sets\n",
    "X_train, X_val, y_train, y_val = train_test_split(X_train, y_train, test_size=0.25, random_state=246)"
   ]
  },
  {
   "cell_type": "code",
   "execution_count": 34,
   "metadata": {},
   "outputs": [
    {
     "name": "stdout",
     "output_type": "stream",
     "text": [
      "\n",
      "Learning rate:  0.05\n",
      "Accuracy score (training): 1.000\n",
      "Accuracy score (validation): 0.829\n",
      "\n",
      "Learning rate:  0.075\n",
      "Accuracy score (training): 1.000\n",
      "Accuracy score (validation): 0.857\n",
      "\n",
      "Learning rate:  0.1\n",
      "Accuracy score (training): 1.000\n",
      "Accuracy score (validation): 0.857\n",
      "\n",
      "Learning rate:  0.25\n",
      "Accuracy score (training): 1.000\n",
      "Accuracy score (validation): 0.857\n",
      "\n",
      "Learning rate:  0.5\n",
      "Accuracy score (training): 1.000\n",
      "Accuracy score (validation): 0.857\n",
      "\n",
      "Learning rate:  0.75\n",
      "Accuracy score (training): 1.000\n",
      "Accuracy score (validation): 0.914\n",
      "\n",
      "Learning rate:  1\n",
      "Accuracy score (training): 1.000\n",
      "Accuracy score (validation): 0.857\n"
     ]
    }
   ],
   "source": [
    "# try with different learning rates and main parameters from PyCaret\n",
    "lr_list = [0.05, 0.075, 0.1, 0.25, 0.5, 0.75, 1]\n",
    "\n",
    "for learning_rate in lr_list:\n",
    "    gb_clf = GradientBoostingClassifier(n_estimators=100, learning_rate=learning_rate, \n",
    "                                        max_features=None, max_depth=3, tol=0.0001,\n",
    "                                        min_samples_leaf=1, min_samples_split=2, random_state=1234)\n",
    "    gb_clf.fit(X_train, y_train)\n",
    "\n",
    "    print(\"\\nLearning rate: \", learning_rate)\n",
    "    print(\"Accuracy score (training): {0:.3f}\".format(gb_clf.score(X_train, y_train)))\n",
    "    print(\"Accuracy score (validation): {0:.3f}\".format(gb_clf.score(X_val, y_val)))"
   ]
  },
  {
   "cell_type": "markdown",
   "metadata": {},
   "source": [
    "Seems that the model is performing well as expected, but taking a look to the accuracies with the validation set we can not have a clear preference for a learning rate.\n",
    "\n",
    "In order to identify the best parameters for the model we are going to perform random hyperparameter search to narrow down the range of possible values for the parameters:"
   ]
  },
  {
   "cell_type": "code",
   "execution_count": 35,
   "metadata": {},
   "outputs": [
    {
     "data": {
      "text/plain": [
       "{'learning_rate': [0.05, 0.075, 0.1, 0.25, 0.5, 0.75, 1],\n",
       " 'max_depth': [3, 8, 13, 18, 24, 29, 34, 40, None],\n",
       " 'n_estimators': [20, 40, 60, 80, 100, 120, 140, 160, 180, 200],\n",
       " 'min_samples_split': [1, 2, 4, 6, 8],\n",
       " 'min_samples_leaf': [1, 2, 3, 4, 8],\n",
       " 'subsample': [0.5, 0.7, 1.0]}"
      ]
     },
     "execution_count": 35,
     "metadata": {},
     "output_type": "execute_result"
    }
   ],
   "source": [
    "# define the ranges for each hyperparameter we want to try\n",
    "learning_rate = [0.05, 0.075, 0.1, 0.25, 0.5, 0.75, 1]\n",
    "min_samples_split = [1, 2, 4, 6, 8]\n",
    "min_samples_leaf = [1, 2, 3, 4, 8]\n",
    "max_depth = [int(x) for x in np.linspace(3, 40, num = 8)]\n",
    "max_depth.append(None)\n",
    "n_estimators = [int(x) for x in np.linspace(start = 20, stop = 200, num=10)]\n",
    "subsample = [0.5, 0.7, 1.0]\n",
    "\n",
    "random_grid = {'learning_rate': learning_rate,\n",
    "               'max_depth': max_depth,\n",
    "               'n_estimators': n_estimators,\n",
    "               'min_samples_split' : min_samples_split,\n",
    "               'min_samples_leaf' : min_samples_leaf,\n",
    "               'subsample':subsample}\n",
    "\n",
    "random_grid"
   ]
  },
  {
   "cell_type": "code",
   "execution_count": 36,
   "metadata": {},
   "outputs": [
    {
     "name": "stdout",
     "output_type": "stream",
     "text": [
      "Fitting 5 folds for each of 100 candidates, totalling 500 fits\n"
     ]
    },
    {
     "name": "stderr",
     "output_type": "stream",
     "text": [
      "[Parallel(n_jobs=-1)]: Using backend LokyBackend with 12 concurrent workers.\n",
      "[Parallel(n_jobs=-1)]: Done  17 tasks      | elapsed:    5.5s\n",
      "[Parallel(n_jobs=-1)]: Done 138 tasks      | elapsed:   11.3s\n",
      "[Parallel(n_jobs=-1)]: Done 341 tasks      | elapsed:   23.2s\n",
      "[Parallel(n_jobs=-1)]: Done 477 out of 500 | elapsed:   28.5s remaining:    1.3s\n",
      "[Parallel(n_jobs=-1)]: Done 500 out of 500 | elapsed:   29.8s finished\n"
     ]
    },
    {
     "name": "stdout",
     "output_type": "stream",
     "text": [
      "{'subsample': 1.0, 'n_estimators': 140, 'min_samples_split': 8, 'min_samples_leaf': 1, 'max_depth': 29, 'learning_rate': 0.05}\n",
      "\n",
      "Confusion Matrix:\n",
      "[[6 0 0 0 0]\n",
      " [1 5 1 0 0]\n",
      " [0 0 5 2 2]\n",
      " [0 0 0 8 0]\n",
      " [0 0 0 1 4]]\n",
      "\n",
      "Classification Report\n",
      "              precision    recall  f1-score   support\n",
      "\n",
      "          -2       0.86      1.00      0.92         6\n",
      "          -1       1.00      0.71      0.83         7\n",
      "           0       0.83      0.56      0.67         9\n",
      "           1       0.73      1.00      0.84         8\n",
      "           2       0.67      0.80      0.73         5\n",
      "\n",
      "    accuracy                           0.80        35\n",
      "   macro avg       0.82      0.81      0.80        35\n",
      "weighted avg       0.82      0.80      0.79        35\n",
      "\n"
     ]
    }
   ],
   "source": [
    "# perform random search with 100 parameter settings sampled and 5-fold cross validation\n",
    "gb_clf = GradientBoostingClassifier()\n",
    "gb_clf_Random = RandomizedSearchCV(estimator = gb_clf, param_distributions = random_grid, \n",
    "                                   n_iter = 100, cv = 5, verbose=2, random_state=42, n_jobs = -1)\n",
    "gb_clf_Random.fit(X_train, y_train)\n",
    "\n",
    "print(gb_clf_Random.best_params_)\n",
    "\n",
    "predictions = gb_clf_Random.predict(X_val)\n",
    "\n",
    "print(\"\\nConfusion Matrix:\")\n",
    "print(confusion_matrix(y_val, predictions))\n",
    "\n",
    "print(\"\\nClassification Report\")\n",
    "print(classification_report(y_val, predictions))"
   ]
  },
  {
   "cell_type": "markdown",
   "metadata": {},
   "source": [
    "Once we have an estimation of the best hyperparameter configuration, it's time to try to find the best one performing grid search. To achieve this, we are going to build small ranges of values around the ones we got from random search:"
   ]
  },
  {
   "cell_type": "code",
   "execution_count": 37,
   "metadata": {},
   "outputs": [
    {
     "name": "stdout",
     "output_type": "stream",
     "text": [
      "Fitting 5 folds for each of 100 candidates, totalling 500 fits\n"
     ]
    },
    {
     "name": "stderr",
     "output_type": "stream",
     "text": [
      "[Parallel(n_jobs=-1)]: Using backend LokyBackend with 12 concurrent workers.\n",
      "[Parallel(n_jobs=-1)]: Done   8 tasks      | elapsed:    0.5s\n",
      "[Parallel(n_jobs=-1)]: Done 104 tasks      | elapsed:    5.9s\n",
      "[Parallel(n_jobs=-1)]: Done 264 tasks      | elapsed:   15.9s\n",
      "[Parallel(n_jobs=-1)]: Done 500 out of 500 | elapsed:   29.5s finished\n"
     ]
    },
    {
     "name": "stdout",
     "output_type": "stream",
     "text": [
      "{'learning_rate': 0.05, 'max_depth': 20, 'min_samples_leaf': 8, 'min_samples_split': 6, 'n_estimators': 80, 'subsample': 1.0}\n",
      "\n",
      "Confusion Matrix:\n",
      "[[6 0 0 0 0]\n",
      " [2 5 0 0 0]\n",
      " [2 0 5 1 1]\n",
      " [0 0 0 8 0]\n",
      " [0 0 0 1 4]]\n",
      "\n",
      "Classification Report\n",
      "              precision    recall  f1-score   support\n",
      "\n",
      "          -2       0.60      1.00      0.75         6\n",
      "          -1       1.00      0.71      0.83         7\n",
      "           0       1.00      0.56      0.71         9\n",
      "           1       0.80      1.00      0.89         8\n",
      "           2       0.80      0.80      0.80         5\n",
      "\n",
      "    accuracy                           0.80        35\n",
      "   macro avg       0.84      0.81      0.80        35\n",
      "weighted avg       0.86      0.80      0.80        35\n",
      "\n"
     ]
    }
   ],
   "source": [
    "# define the ranges for each hyperparameter we want to try\n",
    "params_grid = {'subsample': [1.0], \n",
    "               'n_estimators': [80, 100, 120, 140, 160], \n",
    "               'min_samples_split': [6], \n",
    "               'min_samples_leaf': [8], \n",
    "               'max_depth': [20, 30, 40, 50],\n",
    "               'learning_rate': [0.05, 0.075, 0.1, 0.15, 0.25]}\n",
    "\n",
    "# perform grid search with 5-fold cross validation\n",
    "gb_clf = GradientBoostingClassifier()\n",
    "gb_clf_Grid = GridSearchCV(estimator = gb_clf, param_grid = params_grid, cv = 5, verbose=3, n_jobs = -1)\n",
    "gb_clf_Grid.fit(X_train, y_train)\n",
    "\n",
    "print(gb_clf_Grid.best_params_)\n",
    "\n",
    "predictions = gb_clf_Grid.predict(X_val)\n",
    "\n",
    "print(\"\\nConfusion Matrix:\")\n",
    "print(confusion_matrix(y_val, predictions))\n",
    "\n",
    "print(\"\\nClassification Report\")\n",
    "print(classification_report(y_val, predictions))"
   ]
  },
  {
   "cell_type": "markdown",
   "metadata": {},
   "source": [
    "The hyperparameter configuration obtained is very similar to the previous one we got from random search, with also similar results.\n",
    "\n",
    "Let's test this implementation using the test set:"
   ]
  },
  {
   "cell_type": "code",
   "execution_count": 38,
   "metadata": {},
   "outputs": [
    {
     "name": "stdout",
     "output_type": "stream",
     "text": [
      "\n",
      "Confusion Matrix:\n",
      "[[10  2  1  0  0]\n",
      " [ 2 10  0  0  0]\n",
      " [ 1  1  3  0  0]\n",
      " [ 0  0  0  5  0]\n",
      " [ 0  0  0  4  8]]\n",
      "\n",
      "Classification Report\n",
      "              precision    recall  f1-score   support\n",
      "\n",
      "          -2       0.77      0.77      0.77        13\n",
      "          -1       0.77      0.83      0.80        12\n",
      "           0       0.75      0.60      0.67         5\n",
      "           1       0.56      1.00      0.71         5\n",
      "           2       1.00      0.67      0.80        12\n",
      "\n",
      "    accuracy                           0.77        47\n",
      "   macro avg       0.77      0.77      0.75        47\n",
      "weighted avg       0.80      0.77      0.77        47\n",
      "\n"
     ]
    }
   ],
   "source": [
    "predictions = gb_clf_Grid.predict(X_test)\n",
    "\n",
    "print(\"\\nConfusion Matrix:\")\n",
    "print(confusion_matrix(y_test, predictions))\n",
    "\n",
    "print(\"\\nClassification Report\")\n",
    "print(classification_report(y_test, predictions))"
   ]
  },
  {
   "cell_type": "markdown",
   "metadata": {},
   "source": [
    "The model is performing well, with values close to the ones obtained with PyCaret. For the moment this is the best candidate for the task. We can not see clear effects of the overslamping + undersampling process."
   ]
  },
  {
   "cell_type": "markdown",
   "metadata": {},
   "source": [
    "## Other Classifiers"
   ]
  },
  {
   "cell_type": "markdown",
   "metadata": {},
   "source": [
    "### Decision Tree Classifier"
   ]
  },
  {
   "cell_type": "markdown",
   "metadata": {},
   "source": [
    "This classifier was the second best ML model listed by PyCaret, therefore it could be interesting to try with it.\n",
    "\n",
    "The hyperparameter setting checked by PyCaret is shown below:"
   ]
  },
  {
   "cell_type": "code",
   "execution_count": 39,
   "metadata": {},
   "outputs": [
    {
     "name": "stdout",
     "output_type": "stream",
     "text": [
      "Accuracy score (training): 1.000\n",
      "Accuracy score (validation): 0.829\n"
     ]
    }
   ],
   "source": [
    "from sklearn.tree import DecisionTreeClassifier\n",
    "\n",
    "# setup the classifier and predict\n",
    "dt_clf = DecisionTreeClassifier(ccp_alpha=0.0, class_weight=None, criterion='gini',\n",
    "                       max_depth=None, max_features=None, max_leaf_nodes=None,\n",
    "                       min_impurity_decrease=0.0, min_impurity_split=None,\n",
    "                       min_samples_leaf=1, min_samples_split=2,\n",
    "                       min_weight_fraction_leaf=0.0, presort='deprecated',\n",
    "                       random_state=7149, splitter='best')\n",
    "dt_clf.fit(X_train, y_train)\n",
    "\n",
    "print(\"Accuracy score (training): {0:.3f}\".format(dt_clf.score(X_train, y_train)))\n",
    "print(\"Accuracy score (validation): {0:.3f}\".format(dt_clf.score(X_val, y_val)))"
   ]
  },
  {
   "cell_type": "code",
   "execution_count": 40,
   "metadata": {},
   "outputs": [
    {
     "name": "stdout",
     "output_type": "stream",
     "text": [
      "\n",
      "Confusion Matrix:\n",
      "[[ 8  4  1  0  0]\n",
      " [ 1 11  0  0  0]\n",
      " [ 0  0  5  0  0]\n",
      " [ 0  0  0  5  0]\n",
      " [ 0  0  0  1 11]]\n",
      "\n",
      "Classification Report\n",
      "              precision    recall  f1-score   support\n",
      "\n",
      "          -2       0.89      0.62      0.73        13\n",
      "          -1       0.73      0.92      0.81        12\n",
      "           0       0.83      1.00      0.91         5\n",
      "           1       0.83      1.00      0.91         5\n",
      "           2       1.00      0.92      0.96        12\n",
      "\n",
      "    accuracy                           0.85        47\n",
      "   macro avg       0.86      0.89      0.86        47\n",
      "weighted avg       0.87      0.85      0.85        47\n",
      "\n"
     ]
    }
   ],
   "source": [
    "# predict on test set\n",
    "predictions = dt_clf.predict(X_test)\n",
    "\n",
    "print(\"\\nConfusion Matrix:\")\n",
    "print(confusion_matrix(y_test, predictions))\n",
    "\n",
    "print(\"\\nClassification Report\")\n",
    "print(classification_report(y_test, predictions))"
   ]
  },
  {
   "cell_type": "markdown",
   "metadata": {},
   "source": [
    "The results are interesting with the test set. Despite of sligthly better results, we are not going to tune its hyperparameters due to the nature of the model.\n",
    "\n",
    "This ML model is less complex than Gradient Boosting Classifier (GBC). In fact, GBC uses weak prediction models like desicion trees. But then, why this model is able to perform slightly better? Once more, the reason could be the small size of the dataset. Since there are few samples per class, the Decision Tree model could easily classify but probably it will not be as good as GBC if it has to generalize with a bigger dataset. Anyway, we can not confirm this hypothesis without more data."
   ]
  },
  {
   "cell_type": "markdown",
   "metadata": {},
   "source": [
    "### Extreme Gradient Boosting (XGBoost) Classifier"
   ]
  },
  {
   "cell_type": "markdown",
   "metadata": {},
   "source": [
    "This classifier was the third best ML model listed by PyCaret.\n",
    "\n",
    "The hyperparameter setting checked by PyCaret is shown below:"
   ]
  },
  {
   "cell_type": "code",
   "execution_count": 41,
   "metadata": {},
   "outputs": [
    {
     "name": "stderr",
     "output_type": "stream",
     "text": [
      "C:\\ProgramData\\Anaconda3\\lib\\site-packages\\xgboost\\sklearn.py:888: UserWarning: The use of label encoder in XGBClassifier is deprecated and will be removed in a future release. To remove this warning, do the following: 1) Pass option use_label_encoder=False when constructing XGBClassifier object; and 2) Encode your labels (y) as integers starting with 0, i.e. 0, 1, 2, ..., [num_class - 1].\n",
      "  warnings.warn(label_encoder_deprecation_msg, UserWarning)\n"
     ]
    },
    {
     "name": "stdout",
     "output_type": "stream",
     "text": [
      "Accuracy score (training): 1.000\n",
      "Accuracy score (validation): 0.800\n"
     ]
    }
   ],
   "source": [
    "from xgboost import XGBClassifier\n",
    "\n",
    "# setup the classifier and predict\n",
    "xgb_clf = XGBClassifier(base_score=0.5, booster='gbtree', colsample_bylevel=1,\n",
    "              colsample_bynode=1, colsample_bytree=1, gamma=0, gpu_id=-1,\n",
    "              importance_type='gain', interaction_constraints='',\n",
    "              learning_rate=0.300000012, max_delta_step=0, max_depth=6,\n",
    "              min_child_weight=1, monotone_constraints='()',\n",
    "              n_estimators=100, n_jobs=-1, num_parallel_tree=1,\n",
    "              objective='multi:softprob', random_state=7149, reg_alpha=0,\n",
    "              reg_lambda=1, scale_pos_weight=None, subsample=1,\n",
    "              tree_method='auto', use_label_encoder=True, validate_parameters=1,\n",
    "              verbosity=0)\n",
    "xgb_clf.fit(X_train, y_train)\n",
    "\n",
    "print(\"Accuracy score (training): {0:.3f}\".format(xgb_clf.score(X_train, y_train)))\n",
    "print(\"Accuracy score (validation): {0:.3f}\".format(xgb_clf.score(X_val, y_val)))"
   ]
  },
  {
   "cell_type": "code",
   "execution_count": 42,
   "metadata": {},
   "outputs": [
    {
     "name": "stdout",
     "output_type": "stream",
     "text": [
      "\n",
      "Confusion Matrix:\n",
      "[[11  1  1  0  0]\n",
      " [ 2 10  0  0  0]\n",
      " [ 1  0  4  0  0]\n",
      " [ 0  0  0  5  0]\n",
      " [ 0  0  0  2 10]]\n",
      "\n",
      "Classification Report\n",
      "              precision    recall  f1-score   support\n",
      "\n",
      "          -2       0.79      0.85      0.81        13\n",
      "          -1       0.91      0.83      0.87        12\n",
      "           0       0.80      0.80      0.80         5\n",
      "           1       0.71      1.00      0.83         5\n",
      "           2       1.00      0.83      0.91        12\n",
      "\n",
      "    accuracy                           0.85        47\n",
      "   macro avg       0.84      0.86      0.85        47\n",
      "weighted avg       0.87      0.85      0.85        47\n",
      "\n"
     ]
    }
   ],
   "source": [
    "# predict on test set\n",
    "predictions = xgb_clf.predict(X_test)\n",
    "\n",
    "print(\"\\nConfusion Matrix:\")\n",
    "print(confusion_matrix(y_test, predictions))\n",
    "\n",
    "print(\"\\nClassification Report\")\n",
    "print(classification_report(y_test, predictions))"
   ]
  },
  {
   "cell_type": "markdown",
   "metadata": {},
   "source": [
    "Since XGBoost is an efficient and effective implementation of the gradient boosting algorithm and the results with the test set look promising, we are going to tune its hyperparameters to see if we can improve its performance.\n",
    "\n",
    "The tuning process is the same as the one we applied with the standard gradient boosting classifier: random search followed by grid search."
   ]
  },
  {
   "cell_type": "code",
   "execution_count": 43,
   "metadata": {},
   "outputs": [
    {
     "name": "stdout",
     "output_type": "stream",
     "text": [
      "Fitting 5 folds for each of 100 candidates, totalling 500 fits\n"
     ]
    },
    {
     "name": "stderr",
     "output_type": "stream",
     "text": [
      "[Parallel(n_jobs=-1)]: Using backend LokyBackend with 12 concurrent workers.\n",
      "[Parallel(n_jobs=-1)]: Done  17 tasks      | elapsed:    3.3s\n",
      "[Parallel(n_jobs=-1)]: Done 138 tasks      | elapsed:   17.8s\n",
      "[Parallel(n_jobs=-1)]: Done 341 tasks      | elapsed:   39.9s\n",
      "[Parallel(n_jobs=-1)]: Done 500 out of 500 | elapsed:   55.5s finished\n",
      "C:\\ProgramData\\Anaconda3\\lib\\site-packages\\xgboost\\sklearn.py:888: UserWarning: The use of label encoder in XGBClassifier is deprecated and will be removed in a future release. To remove this warning, do the following: 1) Pass option use_label_encoder=False when constructing XGBClassifier object; and 2) Encode your labels (y) as integers starting with 0, i.e. 0, 1, 2, ..., [num_class - 1].\n",
      "  warnings.warn(label_encoder_deprecation_msg, UserWarning)\n"
     ]
    },
    {
     "name": "stdout",
     "output_type": "stream",
     "text": [
      "{'subsample': 1.0, 'n_estimators': 104, 'min_samples_split': 10, 'min_samples_leaf': 2, 'min_child_weight': 1, 'max_depth': 24, 'learning_rate': 0.5, 'colsample_bytree': 1}\n",
      "\n",
      "Confusion Matrix:\n",
      "[[5 0 1 0 0]\n",
      " [2 5 0 0 0]\n",
      " [2 0 5 0 2]\n",
      " [0 0 0 8 0]\n",
      " [0 0 0 1 4]]\n",
      "\n",
      "Classification Report\n",
      "              precision    recall  f1-score   support\n",
      "\n",
      "          -2       0.56      0.83      0.67         6\n",
      "          -1       1.00      0.71      0.83         7\n",
      "           0       0.83      0.56      0.67         9\n",
      "           1       0.89      1.00      0.94         8\n",
      "           2       0.67      0.80      0.73         5\n",
      "\n",
      "    accuracy                           0.77        35\n",
      "   macro avg       0.79      0.78      0.77        35\n",
      "weighted avg       0.81      0.77      0.77        35\n",
      "\n"
     ]
    }
   ],
   "source": [
    "# define the ranges for each hyperparameter we want to try\n",
    "n_estimators = [int(x) for x in np.linspace(start = 20, stop = 400, num=10)]\n",
    "learning_rate = [0.05, 0.075, 0.1, 0.25, 0.5, 0.75, 1]\n",
    "max_depth = [int(x) for x in np.linspace(3, 40, num = 8)]\n",
    "max_depth.append(None)\n",
    "colsample_bytree = [0.5, 0.75, 1]\n",
    "min_child_weight = [1, 3, 5, 10]\n",
    "subsample = [0.5, 0.7, 1.0]\n",
    "min_samples_split = [2, 5, 10]\n",
    "min_samples_leaf = [1, 2, 4]\n",
    "\n",
    "random_grid = {'learning_rate': learning_rate,\n",
    "               'max_depth': max_depth,\n",
    "               'n_estimators': n_estimators,\n",
    "               'colsample_bytree': colsample_bytree,\n",
    "               'min_child_weight': min_child_weight,\n",
    "               'min_samples_split' : min_samples_split,\n",
    "               'min_samples_leaf' : min_samples_leaf,\n",
    "               'subsample':subsample}\n",
    "\n",
    "# perform random search with 100 parameter settings sampled and 5-fold cross validation\n",
    "xgb_clf = XGBClassifier()\n",
    "xgb_clf_Random = RandomizedSearchCV(estimator = xgb_clf, param_distributions = random_grid, \n",
    "                                   n_iter = 100, cv = 5, verbose=2, random_state=423, n_jobs = -1)\n",
    "xgb_clf_Random.fit(X_train, y_train)\n",
    "\n",
    "print(xgb_clf_Random.best_params_)\n",
    "\n",
    "predictions = xgb_clf_Random.predict(X_val)\n",
    "\n",
    "print(\"\\nConfusion Matrix:\")\n",
    "print(confusion_matrix(y_val, predictions))\n",
    "\n",
    "print(\"\\nClassification Report\")\n",
    "print(classification_report(y_val, predictions))"
   ]
  },
  {
   "cell_type": "code",
   "execution_count": 44,
   "metadata": {},
   "outputs": [
    {
     "name": "stdout",
     "output_type": "stream",
     "text": [
      "Fitting 5 folds for each of 12 candidates, totalling 60 fits\n"
     ]
    },
    {
     "name": "stderr",
     "output_type": "stream",
     "text": [
      "[Parallel(n_jobs=-1)]: Using backend LokyBackend with 12 concurrent workers.\n",
      "[Parallel(n_jobs=-1)]: Done   8 tasks      | elapsed:    4.5s\n",
      "[Parallel(n_jobs=-1)]: Done  58 out of  60 | elapsed:   17.3s remaining:    0.5s\n",
      "[Parallel(n_jobs=-1)]: Done  60 out of  60 | elapsed:   17.3s finished\n",
      "C:\\ProgramData\\Anaconda3\\lib\\site-packages\\xgboost\\sklearn.py:888: UserWarning: The use of label encoder in XGBClassifier is deprecated and will be removed in a future release. To remove this warning, do the following: 1) Pass option use_label_encoder=False when constructing XGBClassifier object; and 2) Encode your labels (y) as integers starting with 0, i.e. 0, 1, 2, ..., [num_class - 1].\n",
      "  warnings.warn(label_encoder_deprecation_msg, UserWarning)\n"
     ]
    },
    {
     "name": "stdout",
     "output_type": "stream",
     "text": [
      "{'colsample_bytree': 1, 'learning_rate': 0.075, 'max_depth': 28, 'min_child_weight': 1, 'min_samples_leaf': 2, 'min_samples_split': 2, 'n_estimators': 357, 'subsample': 1.0}\n",
      "\n",
      "Confusion Matrix:\n",
      "[[5 1 0 0 0]\n",
      " [2 5 0 0 0]\n",
      " [2 0 5 0 2]\n",
      " [0 0 0 8 0]\n",
      " [0 0 0 0 5]]\n",
      "\n",
      "Classification Report\n",
      "              precision    recall  f1-score   support\n",
      "\n",
      "          -2       0.56      0.83      0.67         6\n",
      "          -1       0.83      0.71      0.77         7\n",
      "           0       1.00      0.56      0.71         9\n",
      "           1       1.00      1.00      1.00         8\n",
      "           2       0.71      1.00      0.83         5\n",
      "\n",
      "    accuracy                           0.80        35\n",
      "   macro avg       0.82      0.82      0.80        35\n",
      "weighted avg       0.85      0.80      0.80        35\n",
      "\n"
     ]
    }
   ],
   "source": [
    "# define the ranges for each hyperparameter we want to try\n",
    "params_grid = {'learning_rate': [0.01, 0.05, 0.075, 0.1],\n",
    "               'max_depth': [28, 34, 40],\n",
    "               'n_estimators': [357],\n",
    "               'colsample_bytree': [1],\n",
    "               'min_child_weight': [1],\n",
    "               'min_samples_split' : [2],\n",
    "               'min_samples_leaf' : [2],\n",
    "               'subsample': [1.0]}\n",
    "\n",
    "# perform grid search with 5-fold cross validation\n",
    "xgb_clf = XGBClassifier()\n",
    "xgb_clf_Grid = GridSearchCV(estimator = xgb_clf, param_grid = params_grid, cv = 5, verbose=3, n_jobs = -1)\n",
    "xgb_clf_Grid.fit(X_train, y_train)\n",
    "\n",
    "print(xgb_clf_Grid.best_params_)\n",
    "\n",
    "predictions = xgb_clf_Grid.predict(X_val)\n",
    "\n",
    "print(\"\\nConfusion Matrix:\")\n",
    "print(confusion_matrix(y_val, predictions))\n",
    "\n",
    "print(\"\\nClassification Report\")\n",
    "print(classification_report(y_val, predictions))"
   ]
  },
  {
   "cell_type": "code",
   "execution_count": 45,
   "metadata": {},
   "outputs": [
    {
     "name": "stdout",
     "output_type": "stream",
     "text": [
      "\n",
      "Confusion Matrix:\n",
      "[[11  1  1  0  0]\n",
      " [ 2 10  0  0  0]\n",
      " [ 1  0  4  0  0]\n",
      " [ 0  0  0  5  0]\n",
      " [ 0  0  0  2 10]]\n",
      "\n",
      "Classification Report\n",
      "              precision    recall  f1-score   support\n",
      "\n",
      "          -2       0.79      0.85      0.81        13\n",
      "          -1       0.91      0.83      0.87        12\n",
      "           0       0.80      0.80      0.80         5\n",
      "           1       0.71      1.00      0.83         5\n",
      "           2       1.00      0.83      0.91        12\n",
      "\n",
      "    accuracy                           0.85        47\n",
      "   macro avg       0.84      0.86      0.85        47\n",
      "weighted avg       0.87      0.85      0.85        47\n",
      "\n"
     ]
    }
   ],
   "source": [
    "# predict on test set\n",
    "predictions = xgb_clf_Grid.predict(X_test)\n",
    "\n",
    "print(\"\\nConfusion Matrix:\")\n",
    "print(confusion_matrix(y_test, predictions))\n",
    "\n",
    "print(\"\\nClassification Report\")\n",
    "print(classification_report(y_test, predictions))"
   ]
  },
  {
   "cell_type": "markdown",
   "metadata": {},
   "source": [
    "As we can see in the test results, XGBoost Classifier performs better than the standard Gradient Boosting Classifier. Anyway, due to the size of the dataset it's not enough to conclude that one model will perform better than the other with new data."
   ]
  },
  {
   "cell_type": "markdown",
   "metadata": {},
   "source": [
    "# Conclusions"
   ]
  },
  {
   "cell_type": "markdown",
   "metadata": {},
   "source": [
    "Regarding to the dataset, we would need more data to train and test properly the ML models. Assuming we do not have access to more data (and we cannot create it - data augmentation), we have an unbalanced dataset which could origin the called \"Accuracy Paradox\" (predicting the majority classes for most of the tweets, resulting in a high fake accuracy but unable to generalize with new balanced samples).\n",
    "\n",
    "To avoid having too many duplicate samples for the minority classes or having to few samples per class, I have combined oversampling (for minority classes) and undersampling (for majority classes). After applying this technique, the new dataset has 37 samples/tweets per class which means that is correctly balanced (see the plot below)."
   ]
  },
  {
   "cell_type": "code",
   "execution_count": 46,
   "metadata": {},
   "outputs": [
    {
     "data": {
      "image/png": "[encoded data removed]",
      "text/plain": [
       "<Figure size 576x288 with 2 Axes>"
      ]
     },
     "metadata": {
      "needs_background": "light"
     },
     "output_type": "display_data"
    }
   ],
   "source": [
    "df_orig = pd.read_csv('dataset_sa.csv', encoding='ansi')\n",
    "plt.figure(figsize=(8,4))\n",
    "plt.subplot(1, 2, 1, title='Original Dataset')\n",
    "ax = df_orig['label'].value_counts(sort=True, ascending=True).plot(kind='barh')\n",
    "ax.set_xlabel('Nº of Samples')\n",
    "ax.set_ylabel('Label')\n",
    "plt.subplot(1, 2, 2, title='Transformed Dataset')\n",
    "ax = y_over.value_counts(sort=True, ascending=True).plot(kind='barh')\n",
    "ax.set_xlabel('Nº of Samples')\n",
    "ax.set_ylabel('Label')\n",
    "plt.tight_layout()"
   ]
  },
  {
   "cell_type": "markdown",
   "metadata": {},
   "source": [
    "When trying to predict the sentiment score _label_, we have seen that some common Python libraries able to generate this type of scores can not be used as a prediction model for this task (their precision and recall values are too low, including the _bert_sentiment_ score). _label_ is evaluating the sentiment of the tweets taking into account more aspects, such as the topic. That's why I decided to compare some ML classifiers with PyCaret to have a quick overview, finding out that some of them are performing well for this concrete task.\n",
    "\n",
    "The code cell below shows the precision and recall scores for the test set BERT (_bert_sentiment_), Gradient Boosting Classifier and XGBoost Classifier:"
   ]
  },
  {
   "cell_type": "code",
   "execution_count": 47,
   "metadata": {},
   "outputs": [
    {
     "name": "stdout",
     "output_type": "stream",
     "text": [
      "\n",
      "BERT ('bert_sentiment')\n",
      "\n",
      "              precision    recall  f1-score   support\n",
      "\n",
      "          -2       0.50      0.15      0.24        13\n",
      "          -1       0.32      0.50      0.39        12\n",
      "           0       0.14      0.60      0.23         5\n",
      "           1       0.33      0.20      0.25         5\n",
      "           2       0.00      0.00      0.00        12\n",
      "\n",
      "    accuracy                           0.26        47\n",
      "   macro avg       0.26      0.29      0.22        47\n",
      "weighted avg       0.27      0.26      0.22        47\n",
      "\n",
      "_____________________________________________________\n",
      "\n",
      "Gradient Boosting Classifier\n",
      "\n",
      "              precision    recall  f1-score   support\n",
      "\n",
      "          -2       0.77      0.77      0.77        13\n",
      "          -1       0.77      0.83      0.80        12\n",
      "           0       0.75      0.60      0.67         5\n",
      "           1       0.56      1.00      0.71         5\n",
      "           2       1.00      0.67      0.80        12\n",
      "\n",
      "    accuracy                           0.77        47\n",
      "   macro avg       0.77      0.77      0.75        47\n",
      "weighted avg       0.80      0.77      0.77        47\n",
      "\n",
      "________________________________________\n",
      "\n",
      "XGBoost Classifier\n",
      "\n",
      "              precision    recall  f1-score   support\n",
      "\n",
      "          -2       0.79      0.85      0.81        13\n",
      "          -1       0.91      0.83      0.87        12\n",
      "           0       0.80      0.80      0.80         5\n",
      "           1       0.71      1.00      0.83         5\n",
      "           2       1.00      0.83      0.91        12\n",
      "\n",
      "    accuracy                           0.85        47\n",
      "   macro avg       0.84      0.86      0.85        47\n",
      "weighted avg       0.87      0.85      0.85        47\n",
      "\n"
     ]
    },
    {
     "name": "stderr",
     "output_type": "stream",
     "text": [
      "C:\\ProgramData\\Anaconda3\\lib\\site-packages\\sklearn\\metrics\\_classification.py:1221: UndefinedMetricWarning: Precision and F-score are ill-defined and being set to 0.0 in labels with no predicted samples. Use `zero_division` parameter to control this behavior.\n",
      "  _warn_prf(average, modifier, msg_start, len(result))\n"
     ]
    }
   ],
   "source": [
    "predictions = y_test_bert.round().astype('int64')\n",
    "print(\"\\nBERT ('bert_sentiment')\\n\")\n",
    "print(classification_report(y_test, predictions))\n",
    "print('_____________________________________________________')\n",
    "\n",
    "predictions = gb_clf_Grid.predict(X_test)\n",
    "print(\"\\nGradient Boosting Classifier\\n\") \n",
    "print(classification_report(y_test, predictions))\n",
    "print('________________________________________')\n",
    "\n",
    "predictions = xgb_clf_Grid.predict(X_test)\n",
    "print(\"\\nXGBoost Classifier\\n\")\n",
    "print(classification_report(y_test, predictions))"
   ]
  },
  {
   "cell_type": "markdown",
   "metadata": {},
   "source": [
    "As mentioned before, the Decision Tree model has been discarded due to its nature although with more data all of the proposed models should be evaluated again. About the three models above:\n",
    "- BERT is clearly not working for this task (that's why I have removed this feature when training the classifiers). Precision: 0.26. Recall: 0.29.\n",
    "- Gradient Boosting Classifier is performing well, achieving an accuracy of 0.77 although with different precisions and recalls for each class. Precision: 0.77. Recall: 0.77.\n",
    "- **The best model would be XGBoost Classifier**. It's able to achieve an accuracy value of 0.85 and perform very well for all the classes. **Precision: 0.84**. **Recall: 0.86**."
   ]
  },
  {
   "cell_type": "markdown",
   "metadata": {},
   "source": [
    "As an extra task, it would be interesting to try with word-embeddings models like FastText (or try different configurations with BERT)."
   ]
  },
  {
   "cell_type": "markdown",
   "metadata": {},
   "source": [
    "## References"
   ]
  },
  {
   "cell_type": "markdown",
   "metadata": {},
   "source": [
    "- https://towardsdatascience.com/sentiment-analysis-concept-analysis-and-applications-6c94d6f58c17\n",
    "- https://realpython.com/sentiment-analysis-python/\n",
    "- https://towardsdatascience.com/fine-grained-sentiment-analysis-in-python-part-1-2697bb111ed4\n",
    "- https://towardsdatascience.com/fasttext-sentiment-analysis-for-tweets-a-straightforward-guide-9a8c070449a2\n",
    "- https://stackabuse.com/gradient-boosting-classifiers-in-python-with-scikit-learn/\n",
    "- https://medium.com/strands-tech-corner/unbalanced-datasets-what-to-do-144e0552d9cd#:~:text=In%20simple%20terms%2C%20an%20unbalanced,specific%20class%20than%20the%20others.&text=Besides%2C%20the%20problem%20is%20that,class%20or%20classify%20unseen%20observations).\n",
    "- https://machinelearningmastery.com/random-oversampling-and-undersampling-for-imbalanced-classification/\n",
    "- https://machinelearningmastery.com/extreme-gradient-boosting-ensemble-in-python/\n",
    "- https://scikit-learn.org/stable/index.html\n",
    "- https://pycaret.readthedocs.io/en/latest/api/classification.html"
   ]
  }
 ],
 "metadata": {
  "kernelspec": {
   "display_name": "Python 3",
   "language": "python",
   "name": "python3"
  },
  "language_info": {
   "codemirror_mode": {
    "name": "ipython",
    "version": 3
   },
   "file_extension": ".py",
   "mimetype": "text/x-python",
   "name": "python",
   "nbconvert_exporter": "python",
   "pygments_lexer": "ipython3",
   "version": "3.8.5"
  }
 },
 "nbformat": 4,
 "nbformat_minor": 4
}
